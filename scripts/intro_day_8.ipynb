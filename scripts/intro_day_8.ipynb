{
 "cells": [
  {
   "cell_type": "code",
   "execution_count": 1,
   "id": "5f141a7d",
   "metadata": {},
   "outputs": [],
   "source": [
    "import numpy as np\n",
    "import pandas as pd\n",
    "import matplotlib.pyplot as plt"
   ]
  },
  {
   "cell_type": "code",
   "execution_count": 5,
   "id": "a206c734",
   "metadata": {},
   "outputs": [],
   "source": [
    "data_path = '../data/'\n",
    "wines_file_path = data_path + 'wine.csv'"
   ]
  },
  {
   "cell_type": "code",
   "execution_count": 17,
   "id": "7bad86a0",
   "metadata": {},
   "outputs": [],
   "source": [
    "wines = pd.read_table(wines_file_path,delimiter=\",\")"
   ]
  },
  {
   "cell_type": "code",
   "execution_count": 23,
   "id": "0e54139e",
   "metadata": {},
   "outputs": [
    {
     "data": {
      "text/plain": [
       "array([[<AxesSubplot:title={'center':'abv'}>,\n",
       "        <AxesSubplot:title={'center':'malic_acid'}>,\n",
       "        <AxesSubplot:title={'center':'ash'}>,\n",
       "        <AxesSubplot:title={'center':'alcalinity'}>],\n",
       "       [<AxesSubplot:title={'center':'magnesium'}>,\n",
       "        <AxesSubplot:title={'center':'total_phenols'}>,\n",
       "        <AxesSubplot:title={'center':'flavanoids'}>,\n",
       "        <AxesSubplot:title={'center':'nonflavanoid_phenols'}>],\n",
       "       [<AxesSubplot:title={'center':'proanthocyacins'}>,\n",
       "        <AxesSubplot:title={'center':'color'}>,\n",
       "        <AxesSubplot:title={'center':'hue'}>,\n",
       "        <AxesSubplot:title={'center':'dilution'}>],\n",
       "       [<AxesSubplot:title={'center':'proline'}>,\n",
       "        <AxesSubplot:title={'center':'wine_type'}>, <AxesSubplot:>,\n",
       "        <AxesSubplot:>]], dtype=object)"
      ]
     },
     "execution_count": 23,
     "metadata": {},
     "output_type": "execute_result"
    },
    {
     "data": {
      "image/png": "[encoded data removed]",
      "text/plain": [
       "<Figure size 720x576 with 16 Axes>"
      ]
     },
     "metadata": {
      "needs_background": "light"
     },
     "output_type": "display_data"
    }
   ],
   "source": [
    "wines.hist(figsize=(10,8))"
   ]
  },
  {
   "cell_type": "code",
   "execution_count": 25,
   "id": "5182bb0b",
   "metadata": {},
   "outputs": [
    {
     "data": {
      "text/plain": [
       "0     1\n",
       "1     1\n",
       "2     1\n",
       "3     1\n",
       "4     1\n",
       "5     1\n",
       "6     1\n",
       "7     1\n",
       "8     1\n",
       "9     1\n",
       "10    1\n",
       "11    1\n",
       "12    1\n",
       "13    1\n",
       "14    1\n",
       "15    1\n",
       "16    1\n",
       "17    1\n",
       "18    1\n",
       "19    1\n",
       "Name: wine_type, dtype: int64"
      ]
     },
     "execution_count": 25,
     "metadata": {},
     "output_type": "execute_result"
    }
   ],
   "source": [
    "wines['wine_type'][0:20]"
   ]
  },
  {
   "cell_type": "code",
   "execution_count": 31,
   "id": "6d71eb75",
   "metadata": {},
   "outputs": [
    {
     "data": {
      "text/html": [
       "<div>\n",
       "<style scoped>\n",
       "    .dataframe tbody tr th:only-of-type {\n",
       "        vertical-align: middle;\n",
       "    }\n",
       "\n",
       "    .dataframe tbody tr th {\n",
       "        vertical-align: top;\n",
       "    }\n",
       "\n",
       "    .dataframe thead th {\n",
       "        text-align: right;\n",
       "    }\n",
       "</style>\n",
       "<table border=\"1\" class=\"dataframe\">\n",
       "  <thead>\n",
       "    <tr style=\"text-align: right;\">\n",
       "      <th></th>\n",
       "      <th>wine_type</th>\n",
       "      <th>ash</th>\n",
       "    </tr>\n",
       "  </thead>\n",
       "  <tbody>\n",
       "    <tr>\n",
       "      <th>0</th>\n",
       "      <td>1</td>\n",
       "      <td>2.43</td>\n",
       "    </tr>\n",
       "    <tr>\n",
       "      <th>1</th>\n",
       "      <td>1</td>\n",
       "      <td>2.14</td>\n",
       "    </tr>\n",
       "    <tr>\n",
       "      <th>2</th>\n",
       "      <td>1</td>\n",
       "      <td>2.67</td>\n",
       "    </tr>\n",
       "    <tr>\n",
       "      <th>3</th>\n",
       "      <td>1</td>\n",
       "      <td>2.50</td>\n",
       "    </tr>\n",
       "    <tr>\n",
       "      <th>4</th>\n",
       "      <td>1</td>\n",
       "      <td>2.87</td>\n",
       "    </tr>\n",
       "    <tr>\n",
       "      <th>...</th>\n",
       "      <td>...</td>\n",
       "      <td>...</td>\n",
       "    </tr>\n",
       "    <tr>\n",
       "      <th>173</th>\n",
       "      <td>3</td>\n",
       "      <td>2.45</td>\n",
       "    </tr>\n",
       "    <tr>\n",
       "      <th>174</th>\n",
       "      <td>3</td>\n",
       "      <td>2.48</td>\n",
       "    </tr>\n",
       "    <tr>\n",
       "      <th>175</th>\n",
       "      <td>3</td>\n",
       "      <td>2.26</td>\n",
       "    </tr>\n",
       "    <tr>\n",
       "      <th>176</th>\n",
       "      <td>3</td>\n",
       "      <td>2.37</td>\n",
       "    </tr>\n",
       "    <tr>\n",
       "      <th>177</th>\n",
       "      <td>3</td>\n",
       "      <td>2.74</td>\n",
       "    </tr>\n",
       "  </tbody>\n",
       "</table>\n",
       "<p>178 rows × 2 columns</p>\n",
       "</div>"
      ],
      "text/plain": [
       "     wine_type   ash\n",
       "0            1  2.43\n",
       "1            1  2.14\n",
       "2            1  2.67\n",
       "3            1  2.50\n",
       "4            1  2.87\n",
       "..         ...   ...\n",
       "173          3  2.45\n",
       "174          3  2.48\n",
       "175          3  2.26\n",
       "176          3  2.37\n",
       "177          3  2.74\n",
       "\n",
       "[178 rows x 2 columns]"
      ]
     },
     "execution_count": 31,
     "metadata": {},
     "output_type": "execute_result"
    }
   ],
   "source": [
    "wines[['wine_type','ash']]"
   ]
  },
  {
   "cell_type": "code",
   "execution_count": 33,
   "id": "81028d0a",
   "metadata": {
    "scrolled": true
   },
   "outputs": [
    {
     "data": {
      "text/plain": [
       "2    71\n",
       "1    59\n",
       "3    48\n",
       "Name: wine_type, dtype: int64"
      ]
     },
     "execution_count": 33,
     "metadata": {},
     "output_type": "execute_result"
    }
   ],
   "source": [
    "wines['wine_type'].value_counts()"
   ]
  },
  {
   "cell_type": "code",
   "execution_count": 37,
   "id": "fda8706f",
   "metadata": {},
   "outputs": [
    {
     "data": {
      "text/plain": [
       "0       True\n",
       "1       True\n",
       "2       True\n",
       "3       True\n",
       "4       True\n",
       "       ...  \n",
       "173    False\n",
       "174    False\n",
       "175    False\n",
       "176    False\n",
       "177    False\n",
       "Name: wine_type, Length: 178, dtype: bool"
      ]
     },
     "execution_count": 37,
     "metadata": {},
     "output_type": "execute_result"
    }
   ],
   "source": [
    "wines['wine_type'] == 1"
   ]
  },
  {
   "cell_type": "code",
   "execution_count": 40,
   "id": "c0a3fb16",
   "metadata": {},
   "outputs": [],
   "source": [
    "cond1  = [True] * 100\n",
    "cond1 +=  [False] * 78"
   ]
  },
  {
   "cell_type": "code",
   "execution_count": 41,
   "id": "cb83f0f1",
   "metadata": {},
   "outputs": [
    {
     "data": {
      "text/plain": [
       "[True,\n",
       " True,\n",
       " True,\n",
       " True,\n",
       " True,\n",
       " True,\n",
       " True,\n",
       " True,\n",
       " True,\n",
       " True,\n",
       " True,\n",
       " True,\n",
       " True,\n",
       " True,\n",
       " True,\n",
       " True,\n",
       " True,\n",
       " True,\n",
       " True,\n",
       " True,\n",
       " True,\n",
       " True,\n",
       " True,\n",
       " True,\n",
       " True,\n",
       " True,\n",
       " True,\n",
       " True,\n",
       " True,\n",
       " True,\n",
       " True,\n",
       " True,\n",
       " True,\n",
       " True,\n",
       " True,\n",
       " True,\n",
       " True,\n",
       " True,\n",
       " True,\n",
       " True,\n",
       " True,\n",
       " True,\n",
       " True,\n",
       " True,\n",
       " True,\n",
       " True,\n",
       " True,\n",
       " True,\n",
       " True,\n",
       " True,\n",
       " True,\n",
       " True,\n",
       " True,\n",
       " True,\n",
       " True,\n",
       " True,\n",
       " True,\n",
       " True,\n",
       " True,\n",
       " True,\n",
       " True,\n",
       " True,\n",
       " True,\n",
       " True,\n",
       " True,\n",
       " True,\n",
       " True,\n",
       " True,\n",
       " True,\n",
       " True,\n",
       " True,\n",
       " True,\n",
       " True,\n",
       " True,\n",
       " True,\n",
       " True,\n",
       " True,\n",
       " True,\n",
       " True,\n",
       " True,\n",
       " True,\n",
       " True,\n",
       " True,\n",
       " True,\n",
       " True,\n",
       " True,\n",
       " True,\n",
       " True,\n",
       " True,\n",
       " True,\n",
       " True,\n",
       " True,\n",
       " True,\n",
       " True,\n",
       " True,\n",
       " True,\n",
       " True,\n",
       " True,\n",
       " True,\n",
       " True,\n",
       " False,\n",
       " False,\n",
       " False,\n",
       " False,\n",
       " False,\n",
       " False,\n",
       " False,\n",
       " False,\n",
       " False,\n",
       " False,\n",
       " False,\n",
       " False,\n",
       " False,\n",
       " False,\n",
       " False,\n",
       " False,\n",
       " False,\n",
       " False,\n",
       " False,\n",
       " False,\n",
       " False,\n",
       " False,\n",
       " False,\n",
       " False,\n",
       " False,\n",
       " False,\n",
       " False,\n",
       " False,\n",
       " False,\n",
       " False,\n",
       " False,\n",
       " False,\n",
       " False,\n",
       " False,\n",
       " False,\n",
       " False,\n",
       " False,\n",
       " False,\n",
       " False,\n",
       " False,\n",
       " False,\n",
       " False,\n",
       " False,\n",
       " False,\n",
       " False,\n",
       " False,\n",
       " False,\n",
       " False,\n",
       " False,\n",
       " False,\n",
       " False,\n",
       " False,\n",
       " False,\n",
       " False,\n",
       " False,\n",
       " False,\n",
       " False,\n",
       " False,\n",
       " False,\n",
       " False,\n",
       " False,\n",
       " False,\n",
       " False,\n",
       " False,\n",
       " False,\n",
       " False,\n",
       " False,\n",
       " False,\n",
       " False,\n",
       " False,\n",
       " False,\n",
       " False,\n",
       " False,\n",
       " False,\n",
       " False,\n",
       " False,\n",
       " False,\n",
       " False]"
      ]
     },
     "execution_count": 41,
     "metadata": {},
     "output_type": "execute_result"
    }
   ],
   "source": [
    "cond1"
   ]
  },
  {
   "cell_type": "code",
   "execution_count": 44,
   "id": "3726767c",
   "metadata": {},
   "outputs": [],
   "source": [
    "wines_cat_1 = wines[wines['wine_type'] == 1]\n",
    "wines_cat_2 = wines[wines['wine_type'] == 2]\n",
    "wines_cat_3 = wines[wines['wine_type'] == 3]"
   ]
  },
  {
   "cell_type": "code",
   "execution_count": 46,
   "id": "f2560828",
   "metadata": {},
   "outputs": [
    {
     "data": {
      "text/plain": [
       "17.037288135593222"
      ]
     },
     "execution_count": 46,
     "metadata": {},
     "output_type": "execute_result"
    }
   ],
   "source": [
    "wines_cat_1['alcalinity'].mean()"
   ]
  },
  {
   "cell_type": "code",
   "execution_count": 47,
   "id": "7649de16",
   "metadata": {},
   "outputs": [
    {
     "data": {
      "text/plain": [
       "20.238028169014086"
      ]
     },
     "execution_count": 47,
     "metadata": {},
     "output_type": "execute_result"
    }
   ],
   "source": [
    "wines_cat_2['alcalinity'].mean()"
   ]
  },
  {
   "cell_type": "code",
   "execution_count": 48,
   "id": "54a646b0",
   "metadata": {},
   "outputs": [
    {
     "data": {
      "text/plain": [
       "21.416666666666668"
      ]
     },
     "execution_count": 48,
     "metadata": {},
     "output_type": "execute_result"
    }
   ],
   "source": [
    "wines_cat_3['alcalinity'].mean()"
   ]
  },
  {
   "cell_type": "code",
   "execution_count": 49,
   "id": "197e6b3b",
   "metadata": {},
   "outputs": [
    {
     "data": {
      "text/plain": [
       "16.8"
      ]
     },
     "execution_count": 49,
     "metadata": {},
     "output_type": "execute_result"
    }
   ],
   "source": [
    "wines_cat_1['alcalinity'].median()"
   ]
  },
  {
   "cell_type": "code",
   "execution_count": 50,
   "id": "ca917e82",
   "metadata": {},
   "outputs": [
    {
     "data": {
      "text/plain": [
       "20.0"
      ]
     },
     "execution_count": 50,
     "metadata": {},
     "output_type": "execute_result"
    }
   ],
   "source": [
    "wines_cat_2['alcalinity'].median()"
   ]
  },
  {
   "cell_type": "code",
   "execution_count": 51,
   "id": "8c8f2dbb",
   "metadata": {},
   "outputs": [
    {
     "data": {
      "text/plain": [
       "21.0"
      ]
     },
     "execution_count": 51,
     "metadata": {},
     "output_type": "execute_result"
    }
   ],
   "source": [
    "wines_cat_3['alcalinity'].median()"
   ]
  },
  {
   "cell_type": "code",
   "execution_count": 73,
   "id": "5f549c21",
   "metadata": {},
   "outputs": [
    {
     "data": {
      "image/png": "[encoded data removed]",
      "text/plain": [
       "<Figure size 576x432 with 1 Axes>"
      ]
     },
     "metadata": {
      "needs_background": "light"
     },
     "output_type": "display_data"
    }
   ],
   "source": [
    "plt.figure(figsize=(8,6))\n",
    "plt.scatter(x=range(len(wines_cat_1)),y=wines_cat_1['alcalinity'],color=\"yellow\", edgecolor=\"black\", marker=\"*\", s=200)\n",
    "plt.scatter(x=range(len(wines_cat_2)),y=wines_cat_2['alcalinity'],color=\"crimson\", edgecolor=\"black\")\n",
    "plt.scatter(x=range(len(wines_cat_3)),y=wines_cat_3['alcalinity'],color=\"indigo\", edgecolor=\"black\")\n",
    "plt.plot(range(0,71,1),[21.0]*71,color=\"indigo\",label=\"median wines alcalinity type 3\")\n",
    "plt.legend()\n",
    "plt.show()"
   ]
  },
  {
   "cell_type": "code",
   "execution_count": 56,
   "id": "9c6771c2",
   "metadata": {},
   "outputs": [
    {
     "data": {
      "text/plain": [
       "<AxesSubplot:>"
      ]
     },
     "execution_count": 56,
     "metadata": {},
     "output_type": "execute_result"
    },
    {
     "data": {
      "image/png": "[encoded data removed]",
      "text/plain": [
       "<Figure size 432x288 with 1 Axes>"
      ]
     },
     "metadata": {
      "needs_background": "light"
     },
     "output_type": "display_data"
    }
   ],
   "source": [
    "wines_cat_1['alcalinity'].hist()"
   ]
  },
  {
   "cell_type": "code",
   "execution_count": 134,
   "id": "8ccb447e",
   "metadata": {},
   "outputs": [
    {
     "data": {
      "text/plain": [
       "dict_values([0     15.6\n",
       "1     11.2\n",
       "2     18.6\n",
       "3     16.8\n",
       "4     21.0\n",
       "5     15.2\n",
       "6     14.6\n",
       "7     17.6\n",
       "8     14.0\n",
       "9     16.0\n",
       "10    18.0\n",
       "11    16.8\n",
       "12    16.0\n",
       "13    11.4\n",
       "14    12.0\n",
       "15    17.2\n",
       "16    20.0\n",
       "17    20.0\n",
       "18    16.5\n",
       "19    15.2\n",
       "20    16.0\n",
       "21    18.6\n",
       "22    16.6\n",
       "23    17.8\n",
       "24    20.0\n",
       "25    25.0\n",
       "26    16.1\n",
       "27    17.0\n",
       "28    19.4\n",
       "29    16.0\n",
       "30    22.5\n",
       "31    19.1\n",
       "32    17.2\n",
       "33    19.5\n",
       "34    19.0\n",
       "35    20.5\n",
       "36    15.5\n",
       "37    18.0\n",
       "38    15.5\n",
       "39    13.2\n",
       "40    16.2\n",
       "41    18.8\n",
       "42    15.0\n",
       "43    17.5\n",
       "44    17.0\n",
       "45    18.9\n",
       "46    16.0\n",
       "47    16.0\n",
       "48    18.8\n",
       "49    17.4\n",
       "50    12.4\n",
       "51    17.2\n",
       "52    14.0\n",
       "53    17.1\n",
       "54    16.4\n",
       "55    20.5\n",
       "56    16.3\n",
       "57    16.8\n",
       "58    16.7\n",
       "Name: alcalinity, dtype: float64, 59     10.6\n",
       "60     16.0\n",
       "61     16.8\n",
       "62     18.0\n",
       "63     19.0\n",
       "       ... \n",
       "125    21.0\n",
       "126    21.5\n",
       "127    28.5\n",
       "128    24.5\n",
       "129    22.0\n",
       "Name: alcalinity, Length: 71, dtype: float64, 130    18.0\n",
       "131    20.0\n",
       "132    24.0\n",
       "133    21.5\n",
       "134    17.5\n",
       "135    18.5\n",
       "136    21.0\n",
       "137    25.0\n",
       "138    19.5\n",
       "139    24.0\n",
       "140    21.0\n",
       "141    20.0\n",
       "142    23.5\n",
       "143    20.0\n",
       "144    18.5\n",
       "145    21.0\n",
       "146    20.0\n",
       "147    21.5\n",
       "148    21.5\n",
       "149    21.5\n",
       "150    24.0\n",
       "151    22.0\n",
       "152    25.5\n",
       "153    18.5\n",
       "154    20.0\n",
       "155    22.0\n",
       "156    19.5\n",
       "157    27.0\n",
       "158    25.0\n",
       "159    22.5\n",
       "160    21.0\n",
       "161    20.0\n",
       "162    22.0\n",
       "163    18.5\n",
       "164    22.0\n",
       "165    22.5\n",
       "166    23.0\n",
       "167    19.5\n",
       "168    24.5\n",
       "169    25.0\n",
       "170    19.0\n",
       "171    19.5\n",
       "172    20.0\n",
       "173    20.5\n",
       "174    23.0\n",
       "175    20.0\n",
       "176    20.0\n",
       "177    24.5\n",
       "Name: alcalinity, dtype: float64])"
      ]
     },
     "execution_count": 134,
     "metadata": {},
     "output_type": "execute_result"
    }
   ],
   "source": [
    "box_data.values()"
   ]
  },
  {
   "cell_type": "code",
   "execution_count": 136,
   "id": "7ef2661a",
   "metadata": {},
   "outputs": [],
   "source": [
    "box_data = {'Category: 1':wines_cat_1['alcalinity'],\n",
    "           'Category: 2':wines_cat_2['alcalinity'],\n",
    "           'Category: 3':wines_cat_3['alcalinity']}"
   ]
  },
  {
   "cell_type": "code",
   "execution_count": 167,
   "id": "ed3f02bc",
   "metadata": {},
   "outputs": [
    {
     "data": {
      "text/plain": [
       "'full'"
      ]
     },
     "execution_count": 167,
     "metadata": {},
     "output_type": "execute_result"
    }
   ],
   "source": [
    "boxes['boxes'][0].get_fillstyle()"
   ]
  },
  {
   "cell_type": "code",
   "execution_count": 148,
   "id": "6d657426",
   "metadata": {},
   "outputs": [
    {
     "data": {
      "text/plain": [
       "dict_keys(['whiskers', 'caps', 'boxes', 'medians', 'fliers', 'means'])"
      ]
     },
     "execution_count": 148,
     "metadata": {},
     "output_type": "execute_result"
    }
   ],
   "source": [
    "boxes.keys()"
   ]
  },
  {
   "cell_type": "code",
   "execution_count": 178,
   "id": "899c3467",
   "metadata": {},
   "outputs": [
    {
     "name": "stdout",
     "output_type": "stream",
     "text": [
      "Help on function axis in module matplotlib.pyplot:\n",
      "\n",
      "axis(*args, emit=True, **kwargs)\n",
      "    Convenience method to get or set some axis properties.\n",
      "    \n",
      "    Call signatures::\n",
      "    \n",
      "      xmin, xmax, ymin, ymax = axis()\n",
      "      xmin, xmax, ymin, ymax = axis([xmin, xmax, ymin, ymax])\n",
      "      xmin, xmax, ymin, ymax = axis(option)\n",
      "      xmin, xmax, ymin, ymax = axis(**kwargs)\n",
      "    \n",
      "    Parameters\n",
      "    ----------\n",
      "    xmin, xmax, ymin, ymax : float, optional\n",
      "        The axis limits to be set.  This can also be achieved using ::\n",
      "    \n",
      "            ax.set(xlim=(xmin, xmax), ylim=(ymin, ymax))\n",
      "    \n",
      "    option : bool or str\n",
      "        If a bool, turns axis lines and labels on or off. If a string,\n",
      "        possible values are:\n",
      "    \n",
      "        ======== ==========================================================\n",
      "        Value    Description\n",
      "        ======== ==========================================================\n",
      "        'on'     Turn on axis lines and labels. Same as ``True``.\n",
      "        'off'    Turn off axis lines and labels. Same as ``False``.\n",
      "        'equal'  Set equal scaling (i.e., make circles circular) by\n",
      "                 changing axis limits. This is the same as\n",
      "                 ``ax.set_aspect('equal', adjustable='datalim')``.\n",
      "                 Explicit data limits may not be respected in this case.\n",
      "        'scaled' Set equal scaling (i.e., make circles circular) by\n",
      "                 changing dimensions of the plot box. This is the same as\n",
      "                 ``ax.set_aspect('equal', adjustable='box', anchor='C')``.\n",
      "                 Additionally, further autoscaling will be disabled.\n",
      "        'tight'  Set limits just large enough to show all data, then\n",
      "                 disable further autoscaling.\n",
      "        'auto'   Automatic scaling (fill plot box with data).\n",
      "        'image'  'scaled' with axis limits equal to data limits.\n",
      "        'square' Square plot; similar to 'scaled', but initially forcing\n",
      "                 ``xmax-xmin == ymax-ymin``.\n",
      "        ======== ==========================================================\n",
      "    \n",
      "    emit : bool, default: True\n",
      "        Whether observers are notified of the axis limit change.\n",
      "        This option is passed on to `~.Axes.set_xlim` and\n",
      "        `~.Axes.set_ylim`.\n",
      "    \n",
      "    Returns\n",
      "    -------\n",
      "    xmin, xmax, ymin, ymax : float\n",
      "        The axis limits.\n",
      "    \n",
      "    See Also\n",
      "    --------\n",
      "    matplotlib.axes.Axes.set_xlim\n",
      "    matplotlib.axes.Axes.set_ylim\n",
      "\n"
     ]
    }
   ],
   "source": [
    "help(plt.axis)"
   ]
  },
  {
   "cell_type": "code",
   "execution_count": 185,
   "id": "3992d1fa",
   "metadata": {},
   "outputs": [
    {
     "data": {
      "image/png": "[encoded data removed]",
      "text/plain": [
       "<Figure size 432x432 with 1 Axes>"
      ]
     },
     "metadata": {},
     "output_type": "display_data"
    }
   ],
   "source": [
    "figure = plt.figure(figsize=(6,6))\n",
    "plt.yticks(color='w')\n",
    "boxes = plt.boxplot([wines_cat_1['alcalinity'], \n",
    "             wines_cat_2['alcalinity'], \n",
    "             wines_cat_3['alcalinity']], meanline=True, showmeans=True, \n",
    "                    patch_artist=True)\n",
    "#for box, color in zip(boxes['boxes'],['yellow','indigo','crimson']):\n",
    "#    box.set(facecolor = color)\n",
    "\n",
    "plt.setp(boxes['medians'], color='white')\n",
    "plt.setp(boxes['means'], color='yellow')\n",
    "plt.xticks([1,2,3],['Category 1','Category 2', 'Category 3'])\n",
    "\n",
    "plt.grid()"
   ]
  },
  {
   "cell_type": "code",
   "execution_count": 112,
   "id": "1b576e38",
   "metadata": {},
   "outputs": [],
   "source": [
    "#mittelwerte von n random numbers in liste \"res\"\n",
    "n = [1,10,100,1000,10000,100000]\n",
    "res = []\n",
    "for i in n:\n",
    "    random_numbers = np.random.randint(0,10,i)\n",
    "    m = random_numbers.mean()\n",
    "    res.append(m)\n"
   ]
  },
  {
   "cell_type": "code",
   "execution_count": 111,
   "id": "8584f75f",
   "metadata": {},
   "outputs": [],
   "source": [
    "y_values = res\n",
    "x_values = range(len(res))\n",
    "fsize=12\n",
    "xticklabels=[1,10,100,1000,10000,100000]\n",
    "xlabel_rotation=90"
   ]
  },
  {
   "cell_type": "code",
   "execution_count": 124,
   "id": "162819d2",
   "metadata": {},
   "outputs": [
    {
     "data": {
      "image/png": "[encoded data removed]",
      "text/plain": [
       "<Figure size 432x432 with 1 Axes>"
      ]
     },
     "metadata": {
      "needs_background": "light"
     },
     "output_type": "display_data"
    }
   ],
   "source": [
    "plt.figure(figsize=(6,6))\n",
    "plt.bar(x=x_values,height=y_values, color=\"lightblue\", edgecolor=\"black\", label=r\"$\\frac{\\Sigma_{i=0}^n x_i}{N}$\")\n",
    "plt.xticks(x_values,xticklabels, rotation=xlabel_rotation,fontsize=fsize)\n",
    "plt.xlabel(\"number of random numbers\",fontsize=fsize)\n",
    "plt.legend(fontsize=15)\n",
    "plt.title(\"random numbers and their mean values\")\n",
    "plt.ylabel(r\"$\\prod_{i=0}^{n}$\", fontsize=30)\n",
    "plt.savefig('../data/test_plot_2.png', dpi=400)"
   ]
  },
  {
   "cell_type": "code",
   "execution_count": 118,
   "id": "052d90bd",
   "metadata": {},
   "outputs": [
    {
     "name": "stdout",
     "output_type": "stream",
     "text": [
      "Help on function savefig in module matplotlib.pyplot:\n",
      "\n",
      "savefig(*args, **kwargs)\n",
      "    Save the current figure.\n",
      "    \n",
      "    Call signature::\n",
      "    \n",
      "      savefig(fname, dpi=None, facecolor='w', edgecolor='w',\n",
      "              orientation='portrait', papertype=None, format=None,\n",
      "              transparent=False, bbox_inches=None, pad_inches=0.1,\n",
      "              frameon=None, metadata=None)\n",
      "    \n",
      "    The available output formats depend on the backend being used.\n",
      "    \n",
      "    Parameters\n",
      "    ----------\n",
      "    fname : str or path-like or binary file-like\n",
      "        A path, or a Python file-like object, or\n",
      "        possibly some backend-dependent object such as\n",
      "        `matplotlib.backends.backend_pdf.PdfPages`.\n",
      "    \n",
      "        If *format* is set, it determines the output format, and the file\n",
      "        is saved as *fname*.  Note that *fname* is used verbatim, and there\n",
      "        is no attempt to make the extension, if any, of *fname* match\n",
      "        *format*, and no extension is appended.\n",
      "    \n",
      "        If *format* is not set, then the format is inferred from the\n",
      "        extension of *fname*, if there is one.  If *format* is not\n",
      "        set and *fname* has no extension, then the file is saved with\n",
      "        :rc:`savefig.format` and the appropriate extension is appended to\n",
      "        *fname*.\n",
      "    \n",
      "    Other Parameters\n",
      "    ----------------\n",
      "    dpi : float or 'figure', default: :rc:`savefig.dpi`\n",
      "        The resolution in dots per inch.  If 'figure', use the figure's\n",
      "        dpi value.\n",
      "    \n",
      "    quality : int, default: :rc:`savefig.jpeg_quality`\n",
      "        Applicable only if *format* is 'jpg' or 'jpeg', ignored otherwise.\n",
      "    \n",
      "        The image quality, on a scale from 1 (worst) to 95 (best).\n",
      "        Values above 95 should be avoided; 100 disables portions of\n",
      "        the JPEG compression algorithm, and results in large files\n",
      "        with hardly any gain in image quality.\n",
      "    \n",
      "        This parameter is deprecated.\n",
      "    \n",
      "    optimize : bool, default: False\n",
      "        Applicable only if *format* is 'jpg' or 'jpeg', ignored otherwise.\n",
      "    \n",
      "        Whether the encoder should make an extra pass over the image\n",
      "        in order to select optimal encoder settings.\n",
      "    \n",
      "        This parameter is deprecated.\n",
      "    \n",
      "    progressive : bool, default: False\n",
      "        Applicable only if *format* is 'jpg' or 'jpeg', ignored otherwise.\n",
      "    \n",
      "        Whether the image should be stored as a progressive JPEG file.\n",
      "    \n",
      "        This parameter is deprecated.\n",
      "    \n",
      "    facecolor : color or 'auto', default: :rc:`savefig.facecolor`\n",
      "        The facecolor of the figure.  If 'auto', use the current figure\n",
      "        facecolor.\n",
      "    \n",
      "    edgecolor : color or 'auto', default: :rc:`savefig.edgecolor`\n",
      "        The edgecolor of the figure.  If 'auto', use the current figure\n",
      "        edgecolor.\n",
      "    \n",
      "    orientation : {'landscape', 'portrait'}\n",
      "        Currently only supported by the postscript backend.\n",
      "    \n",
      "    papertype : str\n",
      "        One of 'letter', 'legal', 'executive', 'ledger', 'a0' through\n",
      "        'a10', 'b0' through 'b10'. Only supported for postscript\n",
      "        output.\n",
      "    \n",
      "    format : str\n",
      "        The file format, e.g. 'png', 'pdf', 'svg', ... The behavior when\n",
      "        this is unset is documented under *fname*.\n",
      "    \n",
      "    transparent : bool\n",
      "        If *True*, the Axes patches will all be transparent; the\n",
      "        figure patch will also be transparent unless facecolor\n",
      "        and/or edgecolor are specified via kwargs.\n",
      "        This is useful, for example, for displaying\n",
      "        a plot on top of a colored background on a web page.  The\n",
      "        transparency of these patches will be restored to their\n",
      "        original values upon exit of this function.\n",
      "    \n",
      "    bbox_inches : str or `.Bbox`, default: :rc:`savefig.bbox`\n",
      "        Bounding box in inches: only the given portion of the figure is\n",
      "        saved.  If 'tight', try to figure out the tight bbox of the figure.\n",
      "    \n",
      "    pad_inches : float, default: :rc:`savefig.pad_inches`\n",
      "        Amount of padding around the figure when bbox_inches is 'tight'.\n",
      "    \n",
      "    bbox_extra_artists : list of `~matplotlib.artist.Artist`, optional\n",
      "        A list of extra artists that will be considered when the\n",
      "        tight bbox is calculated.\n",
      "    \n",
      "    backend : str, optional\n",
      "        Use a non-default backend to render the file, e.g. to render a\n",
      "        png file with the \"cairo\" backend rather than the default \"agg\",\n",
      "        or a pdf file with the \"pgf\" backend rather than the default\n",
      "        \"pdf\".  Note that the default backend is normally sufficient.  See\n",
      "        :ref:`the-builtin-backends` for a list of valid backends for each\n",
      "        file format.  Custom backends can be referenced as \"module://...\".\n",
      "    \n",
      "    metadata : dict, optional\n",
      "        Key/value pairs to store in the image metadata. The supported keys\n",
      "        and defaults depend on the image format and backend:\n",
      "    \n",
      "        - 'png' with Agg backend: See the parameter ``metadata`` of\n",
      "          `~.FigureCanvasAgg.print_png`.\n",
      "        - 'pdf' with pdf backend: See the parameter ``metadata`` of\n",
      "          `~.backend_pdf.PdfPages`.\n",
      "        - 'svg' with svg backend: See the parameter ``metadata`` of\n",
      "          `~.FigureCanvasSVG.print_svg`.\n",
      "        - 'eps' and 'ps' with PS backend: Only 'Creator' is supported.\n",
      "    \n",
      "    pil_kwargs : dict, optional\n",
      "        Additional keyword arguments that are passed to\n",
      "        `PIL.Image.Image.save` when saving the figure.\n",
      "\n"
     ]
    }
   ],
   "source": [
    "help(plt.savefig)"
   ]
  },
  {
   "cell_type": "code",
   "execution_count": 192,
   "id": "6d0bc2c1",
   "metadata": {},
   "outputs": [],
   "source": [
    "def role_dice(n:int)->np.array:\n",
    "    return np.random.randint(1,7,n)"
   ]
  },
  {
   "cell_type": "code",
   "execution_count": 193,
   "id": "e7ed9809",
   "metadata": {},
   "outputs": [],
   "source": [
    "res = role_dice(230)"
   ]
  },
  {
   "cell_type": "code",
   "execution_count": 194,
   "id": "f793cd64",
   "metadata": {},
   "outputs": [
    {
     "data": {
      "text/plain": [
       "2"
      ]
     },
     "execution_count": 194,
     "metadata": {},
     "output_type": "execute_result"
    }
   ],
   "source": [
    "res[0]"
   ]
  },
  {
   "cell_type": "code",
   "execution_count": 200,
   "id": "a8016e30",
   "metadata": {},
   "outputs": [
    {
     "name": "stdout",
     "output_type": "stream",
     "text": [
      "2.0\n",
      "3.5\n",
      "4.0\n",
      "3.25\n",
      "3.8\n",
      "3.6666666666666665\n",
      "3.4285714285714284\n",
      "3.375\n",
      "3.4444444444444446\n",
      "3.4\n",
      "3.3636363636363638\n",
      "3.25\n",
      "3.076923076923077\n",
      "3.0714285714285716\n",
      "3.2666666666666666\n",
      "3.1875\n",
      "3.1176470588235294\n",
      "3.111111111111111\n",
      "3.210526315789474\n",
      "3.25\n",
      "3.238095238095238\n",
      "3.3636363636363638\n",
      "3.347826086956522\n",
      "3.4166666666666665\n",
      "3.44\n",
      "3.3461538461538463\n",
      "3.2962962962962963\n",
      "3.357142857142857\n",
      "3.413793103448276\n",
      "3.5\n",
      "3.5161290322580645\n",
      "3.5625\n",
      "3.5757575757575757\n",
      "3.5588235294117645\n",
      "3.5714285714285716\n",
      "3.5\n",
      "3.4594594594594597\n",
      "3.3947368421052633\n",
      "3.3333333333333335\n",
      "3.3\n",
      "3.292682926829268\n",
      "3.2857142857142856\n",
      "3.3255813953488373\n",
      "3.3636363636363638\n",
      "3.4\n",
      "3.347826086956522\n",
      "3.404255319148936\n",
      "3.4166666666666665\n",
      "3.4081632653061225\n",
      "3.38\n",
      "3.4313725490196076\n",
      "3.4038461538461537\n",
      "3.452830188679245\n",
      "3.4444444444444446\n",
      "3.418181818181818\n",
      "3.4107142857142856\n",
      "3.43859649122807\n",
      "3.4310344827586206\n",
      "3.406779661016949\n",
      "3.3666666666666667\n",
      "3.3442622950819674\n",
      "3.338709677419355\n",
      "3.3174603174603177\n",
      "3.296875\n",
      "3.3230769230769233\n",
      "3.3181818181818183\n",
      "3.328358208955224\n",
      "3.3529411764705883\n",
      "3.391304347826087\n",
      "3.4285714285714284\n",
      "3.464788732394366\n",
      "3.5\n",
      "3.4657534246575343\n",
      "3.445945945945946\n",
      "3.453333333333333\n",
      "3.4473684210526314\n",
      "3.4675324675324677\n",
      "3.4743589743589745\n",
      "3.4430379746835444\n",
      "3.4125\n",
      "3.432098765432099\n",
      "3.4634146341463414\n",
      "3.4578313253012047\n",
      "3.4761904761904763\n",
      "3.5058823529411764\n",
      "3.5348837209302326\n",
      "3.5172413793103448\n",
      "3.5\n",
      "3.49438202247191\n",
      "3.477777777777778\n",
      "3.4505494505494507\n",
      "3.4347826086956523\n",
      "3.4086021505376345\n",
      "3.382978723404255\n",
      "3.3789473684210525\n",
      "3.3541666666666665\n",
      "3.329896907216495\n",
      "3.3469387755102042\n",
      "3.3636363636363638\n",
      "3.35\n",
      "3.3267326732673266\n",
      "3.3137254901960786\n",
      "3.3398058252427183\n",
      "3.3461538461538463\n",
      "3.3714285714285714\n",
      "3.3773584905660377\n",
      "3.3551401869158877\n",
      "3.361111111111111\n",
      "3.385321100917431\n",
      "3.409090909090909\n",
      "3.4144144144144146\n",
      "3.4017857142857144\n",
      "3.3805309734513274\n",
      "3.3859649122807016\n",
      "3.382608695652174\n",
      "3.396551724137931\n",
      "3.376068376068376\n",
      "3.3559322033898304\n",
      "3.3529411764705883\n",
      "3.35\n",
      "3.355371900826446\n",
      "3.3524590163934427\n",
      "3.341463414634146\n",
      "3.338709677419355\n",
      "3.336\n",
      "3.3253968253968256\n",
      "3.3307086614173227\n",
      "3.3359375\n",
      "3.3410852713178296\n",
      "3.3230769230769233\n",
      "3.3435114503816794\n",
      "3.3333333333333335\n",
      "3.3233082706766917\n",
      "3.3358208955223883\n",
      "3.348148148148148\n",
      "3.360294117647059\n",
      "3.3576642335766422\n",
      "3.36231884057971\n",
      "3.3741007194244603\n",
      "3.3714285714285714\n",
      "3.368794326241135\n",
      "3.3661971830985915\n",
      "3.3566433566433567\n",
      "3.3541666666666665\n",
      "3.3448275862068964\n",
      "3.335616438356164\n",
      "3.3197278911564627\n",
      "3.324324324324324\n",
      "3.315436241610738\n",
      "3.32\n",
      "3.3245033112582782\n",
      "3.3421052631578947\n",
      "3.34640522875817\n",
      "3.3376623376623376\n",
      "3.3548387096774195\n",
      "3.371794871794872\n",
      "3.356687898089172\n",
      "3.3734177215189876\n",
      "3.3710691823899372\n",
      "3.375\n",
      "3.3850931677018634\n",
      "3.376543209876543\n",
      "3.3803680981595092\n",
      "3.3963414634146343\n",
      "3.3878787878787877\n",
      "3.397590361445783\n",
      "3.3892215568862274\n",
      "3.380952380952381\n",
      "3.3846153846153846\n",
      "3.3705882352941177\n",
      "3.3801169590643276\n",
      "3.383720930232558\n",
      "3.38728323699422\n",
      "3.3735632183908044\n",
      "3.36\n",
      "3.3579545454545454\n",
      "3.3502824858757063\n",
      "3.348314606741573\n",
      "3.335195530726257\n",
      "3.3333333333333335\n",
      "3.3314917127071824\n",
      "3.3461538461538463\n",
      "3.349726775956284\n",
      "3.3532608695652173\n",
      "3.362162162162162\n",
      "3.370967741935484\n",
      "3.374331550802139\n",
      "3.3882978723404253\n",
      "3.3968253968253967\n",
      "3.3842105263157896\n",
      "3.3717277486910993\n",
      "3.359375\n",
      "3.3575129533678756\n",
      "3.350515463917526\n",
      "3.348717948717949\n",
      "3.3418367346938775\n",
      "3.3451776649746194\n",
      "3.3434343434343434\n",
      "3.3467336683417086\n",
      "3.355\n",
      "3.36318407960199\n",
      "3.376237623762376\n",
      "3.3842364532019706\n",
      "3.377450980392157\n",
      "3.3853658536585365\n",
      "3.3980582524271843\n",
      "3.4057971014492754\n",
      "3.3990384615384617\n",
      "3.401913875598086\n",
      "3.4047619047619047\n",
      "3.4170616113744074\n",
      "3.419811320754717\n",
      "3.431924882629108\n",
      "3.44392523364486\n",
      "3.4465116279069767\n",
      "3.449074074074074\n",
      "3.4377880184331797\n",
      "3.4311926605504586\n",
      "3.4337899543378994\n",
      "3.4454545454545453\n",
      "3.4389140271493215\n",
      "3.4504504504504503\n",
      "3.4573991031390134\n",
      "3.455357142857143\n",
      "3.466666666666667\n",
      "3.4601769911504423\n",
      "3.4669603524229076\n",
      "3.4649122807017543\n",
      "3.4716157205240177\n"
     ]
    }
   ],
   "source": [
    "for i in range(1,len(res)):\n",
    "    print(res[0:i].mean())"
   ]
  }
 ],
 "metadata": {
  "kernelspec": {
   "display_name": "Python 3",
   "language": "python",
   "name": "python3"
  },
  "language_info": {
   "codemirror_mode": {
    "name": "ipython",
    "version": 3
   },
   "file_extension": ".py",
   "mimetype": "text/x-python",
   "name": "python",
   "nbconvert_exporter": "python",
   "pygments_lexer": "ipython3",
   "version": "3.8.12"
  }
 },
 "nbformat": 4,
 "nbformat_minor": 5
}
