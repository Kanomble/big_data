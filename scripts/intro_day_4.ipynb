{
 "cells": [
  {
   "cell_type": "code",
   "execution_count": null,
   "id": "4fc94040",
   "metadata": {},
   "outputs": [],
   "source": [
    "import numpy as np\n",
    "from datetime import datetime\n",
    "my_random_number = np.random.randint(0,10,1)\n",
    "print(\"my random number is: {}\".format(my_random_number[0]))"
   ]
  },
  {
   "cell_type": "code",
   "execution_count": null,
   "id": "3bcc692a",
   "metadata": {},
   "outputs": [],
   "source": [
    "def create_random_number_array(n:int,x:int,y:int)->list:\n",
    "    random_numbers=[]\n",
    "    for i in range(n):\n",
    "        my_random_number = np.random.randint(x,y,1)[0]\n",
    "        random_numbers.append(my_random_number)\n",
    "    \n",
    "    return random_numbers"
   ]
  },
  {
   "cell_type": "code",
   "execution_count": null,
   "id": "aaf23ee9",
   "metadata": {},
   "outputs": [],
   "source": [
    "random_numbers=create_random_number_array(10,0,10)"
   ]
  },
  {
   "cell_type": "code",
   "execution_count": null,
   "id": "2f0751b5",
   "metadata": {},
   "outputs": [],
   "source": [
    "random_numbers"
   ]
  },
  {
   "cell_type": "code",
   "execution_count": null,
   "id": "4fc767f5",
   "metadata": {},
   "outputs": [],
   "source": [
    "def calculate_difference(rand_nums:list,specified_y:int)->list:\n",
    "    diff=[]\n",
    "    for i in rand_nums:\n",
    "        dD = specified_y - i\n",
    "        diff.append(dD)\n",
    "    return diff"
   ]
  },
  {
   "cell_type": "code",
   "execution_count": null,
   "id": "3a620362",
   "metadata": {},
   "outputs": [],
   "source": [
    "calculate_difference(random_numbers,10)"
   ]
  },
  {
   "cell_type": "code",
   "execution_count": null,
   "id": "4512b179",
   "metadata": {},
   "outputs": [],
   "source": [
    "list1 = [10,100,1000,10000]\n",
    "1. 2 x N zufallszahlen wobei N element list1 generieren \n",
    "2. Über die beiden generierten listen iterieren und alle positionen miteinander multiplizieren\n",
    "\n",
    "if list1 == 10 ...\n",
    "[3, 2, 4, 9, 1, 1, 4, 9, 1, 1]\n",
    "[8, 9, 3, 0, 1, 2, 1, 6, 3, 5]\n",
    "\n",
    "\n",
    "... 3*8 \n",
    "....2*9\n",
    "...."
   ]
  },
  {
   "cell_type": "code",
   "execution_count": null,
   "id": "dc27f5eb",
   "metadata": {},
   "outputs": [],
   "source": [
    "def create_multiply_lists(numbers:list)->list:\n",
    "    results=[]\n",
    "    for n in numbers:\n",
    "        list_1 = create_random_number_array(n,0,10)\n",
    "        list_2 = create_random_number_array(n,0,10)\n",
    "        new_list=[]\n",
    "        for i in range(0,n,1):\n",
    "            new_list.append(list_1[i]*list_2[i])\n",
    "        results.append(new_list)\n",
    "    return results"
   ]
  },
  {
   "cell_type": "code",
   "execution_count": null,
   "id": "76017e27",
   "metadata": {},
   "outputs": [],
   "source": [
    "before = datetime.now()\n",
    "res = create_multiply_lists([1000000])\n",
    "after = datetime.now()"
   ]
  },
  {
   "cell_type": "code",
   "execution_count": null,
   "id": "b7d4411b",
   "metadata": {},
   "outputs": [],
   "source": [
    "after - before"
   ]
  },
  {
   "cell_type": "code",
   "execution_count": null,
   "id": "36dd05a2",
   "metadata": {},
   "outputs": [],
   "source": [
    "before = datetime.now()\n",
    "arr = np.random.randint(0,10,1000000) * np.random.randint(0,10,1000000)\n",
    "after = datetime.now()"
   ]
  },
  {
   "cell_type": "code",
   "execution_count": null,
   "id": "37bdbf6f",
   "metadata": {},
   "outputs": [],
   "source": [
    "after - before"
   ]
  },
  {
   "cell_type": "code",
   "execution_count": null,
   "id": "20383e05",
   "metadata": {},
   "outputs": [],
   "source": [
    "res"
   ]
  },
  {
   "cell_type": "code",
   "execution_count": null,
   "id": "f891af7e",
   "metadata": {},
   "outputs": [],
   "source": [
    "arr"
   ]
  },
  {
   "cell_type": "code",
   "execution_count": null,
   "id": "1305359c",
   "metadata": {},
   "outputs": [],
   "source": [
    "matrix = [[1,2,3],[5,6,7],[8,9,10],[12,13,14]]"
   ]
  },
  {
   "cell_type": "code",
   "execution_count": null,
   "id": "bd8e92e4",
   "metadata": {},
   "outputs": [],
   "source": [
    "for i in range(len(matrix)):\n",
    "    print(\"\",end=\"\\n\")\n",
    "    for j in range(len(matrix[0])):\n",
    "        print(matrix[i][j], \"\\t\", end=\" \")"
   ]
  },
  {
   "cell_type": "code",
   "execution_count": null,
   "id": "e46432c8",
   "metadata": {},
   "outputs": [],
   "source": [
    "my_dict={'fruits':['banane','mango','apple','kiwi'],\n",
    "         'number':[10,10,10,10],\n",
    "         'price':[2.20,8.90,0.4,0.2]}"
   ]
  },
  {
   "cell_type": "code",
   "execution_count": null,
   "id": "ba374bba",
   "metadata": {},
   "outputs": [],
   "source": [
    "def print_fruits(fruit_dict:dict)->None:\n",
    "    for i in range(len(fruit_dict['fruits'])):\n",
    "        print(\"Die Frucht: {} kostet {}.\\n\\tEs sind noch {} im Lager vorhanden.\\n\".format(\n",
    "                    fruit_dict['fruits'][i],fruit_dict['price'][i],fruit_dict['number'][i]))"
   ]
  },
  {
   "cell_type": "code",
   "execution_count": null,
   "id": "8c64d18b",
   "metadata": {},
   "outputs": [],
   "source": [
    "def buy_item(fruit_dict:dict,target_fruit:str,number=1)->dict:\n",
    "    for fruit in fruit_dict[\"fruits\"]:\n",
    "        if fruit == target_fruit:\n",
    "            i = fruit_dict['fruits'].index(target_fruit)\n",
    "            fruit_dict[\"number\"][i] = fruit_dict[\"number\"][i] - number\n",
    "            print(fruit_dict[\"price\"][i] * number)\n",
    "    return fruit_dict"
   ]
  },
  {
   "cell_type": "code",
   "execution_count": null,
   "id": "1716555f",
   "metadata": {},
   "outputs": [],
   "source": [
    "my_dict=buy_item({'fruits':['banane','mango','apple','kiwi'],\n",
    "         'number':[10,10,10,10],\n",
    "         'price':[2.20,8.90,0.4,0.2]},\"mango\",number=5) "
   ]
  },
  {
   "cell_type": "code",
   "execution_count": null,
   "id": "a8cff953",
   "metadata": {},
   "outputs": [],
   "source": [
    "my_dict"
   ]
  },
  {
   "cell_type": "code",
   "execution_count": null,
   "id": "4f903faa",
   "metadata": {},
   "outputs": [],
   "source": [
    "print_fruits(my_dict)"
   ]
  }
 ],
 "metadata": {
  "kernelspec": {
   "display_name": "Python 3",
   "language": "python",
   "name": "python3"
  },
  "language_info": {
   "codemirror_mode": {
    "name": "ipython",
    "version": 3
   },
   "file_extension": ".py",
   "mimetype": "text/x-python",
   "name": "python",
   "nbconvert_exporter": "python",
   "pygments_lexer": "ipython3",
   "version": "3.8.12"
  }
 },
 "nbformat": 4,
 "nbformat_minor": 5
}
