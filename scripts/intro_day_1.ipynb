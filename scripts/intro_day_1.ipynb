{
 "cells": [
  {
   "cell_type": "code",
   "execution_count": 32,
   "id": "e6372736",
   "metadata": {},
   "outputs": [
    {
     "name": "stdout",
     "output_type": "stream",
     "text": [
      "<class 'float'>\n",
      "     \n",
      "<class 'float'>\n",
      "<class 'float'>\n",
      "<class 'str'>\n",
      "ATGC\n"
     ]
    }
   ],
   "source": [
    "# Datentypen\n",
    "\n",
    "# Integer - dies ist ein kommentar\n",
    "a = 3\n",
    "b = 10\n",
    "\n",
    "#type(a) == int\n",
    "\n",
    "# Float\n",
    "a = 1.5\n",
    "b = 10/20\n",
    "c = 10/2\n",
    "print(type(a))\n",
    "print(\"     \")\n",
    "print(type(b))\n",
    "print(type(c))\n",
    "\n",
    "# String \n",
    "a = 'ATGC'\n",
    "print(type(a))\n",
    "print(a)\n",
    "\n",
    "# Boolean\n",
    "# True\n",
    "# False\n",
    "# None - NaN\n",
    "switch = True\n",
    "# some code ...\n",
    "switch = False\n",
    "if switch != True:\n",
    "    print(\"Yes\")"
   ]
  },
  {
   "cell_type": "markdown",
   "id": "8198ba15",
   "metadata": {},
   "source": [
    "# Datastructures"
   ]
  },
  {
   "cell_type": "code",
   "execution_count": 33,
   "id": "82d862b7",
   "metadata": {},
   "outputs": [],
   "source": [
    "l = [3, 10, 13]"
   ]
  },
  {
   "cell_type": "code",
   "execution_count": 34,
   "id": "630aefa8",
   "metadata": {},
   "outputs": [
    {
     "data": {
      "text/plain": [
       "3"
      ]
     },
     "execution_count": 34,
     "metadata": {},
     "output_type": "execute_result"
    }
   ],
   "source": [
    "len(l) # list length"
   ]
  },
  {
   "cell_type": "code",
   "execution_count": 37,
   "id": "b142ccb8",
   "metadata": {},
   "outputs": [
    {
     "data": {
      "text/plain": [
       "[3, 10]"
      ]
     },
     "execution_count": 37,
     "metadata": {},
     "output_type": "execute_result"
    }
   ],
   "source": [
    "l[0:2] # list slicing"
   ]
  },
  {
   "cell_type": "code",
   "execution_count": 38,
   "id": "cbcce880",
   "metadata": {},
   "outputs": [
    {
     "data": {
      "text/plain": [
       "[3, 10, 13, 3, 10, 13]"
      ]
     },
     "execution_count": 38,
     "metadata": {},
     "output_type": "execute_result"
    }
   ],
   "source": [
    "l + l #concat lists"
   ]
  },
  {
   "cell_type": "code",
   "execution_count": 39,
   "id": "21ea136b",
   "metadata": {},
   "outputs": [
    {
     "data": {
      "text/plain": [
       "[3, 10, 13, 'a', 'atg', 'c']"
      ]
     },
     "execution_count": 39,
     "metadata": {},
     "output_type": "execute_result"
    }
   ],
   "source": [
    "l2 = ['a','atg','c']\n",
    "l + l2"
   ]
  },
  {
   "cell_type": "code",
   "execution_count": 46,
   "id": "285869bf",
   "metadata": {},
   "outputs": [],
   "source": [
    "l.append(4)"
   ]
  },
  {
   "cell_type": "code",
   "execution_count": 56,
   "id": "d7475daf",
   "metadata": {},
   "outputs": [],
   "source": [
    "l = [3, 10, 13]"
   ]
  },
  {
   "cell_type": "code",
   "execution_count": 48,
   "id": "179d8b35",
   "metadata": {},
   "outputs": [
    {
     "data": {
      "text/plain": [
       "[3, 10, 13, 4]"
      ]
     },
     "execution_count": 48,
     "metadata": {},
     "output_type": "execute_result"
    }
   ],
   "source": [
    "[3,10,13,[3,10,13]]"
   ]
  },
  {
   "cell_type": "code",
   "execution_count": 51,
   "id": "70886414",
   "metadata": {},
   "outputs": [],
   "source": [
    "l.append(l)"
   ]
  },
  {
   "cell_type": "code",
   "execution_count": 55,
   "id": "5cb27303",
   "metadata": {},
   "outputs": [
    {
     "data": {
      "text/plain": [
       "[3, 10, 13, [3, 10, 13]]"
      ]
     },
     "execution_count": 55,
     "metadata": {},
     "output_type": "execute_result"
    }
   ],
   "source": [
    "l + [l]"
   ]
  },
  {
   "cell_type": "code",
   "execution_count": 57,
   "id": "0c37cf2f",
   "metadata": {},
   "outputs": [
    {
     "data": {
      "text/plain": [
       "[3, 10, 13]"
      ]
     },
     "execution_count": 57,
     "metadata": {},
     "output_type": "execute_result"
    }
   ],
   "source": [
    "l"
   ]
  },
  {
   "cell_type": "code",
   "execution_count": 58,
   "id": "4e048f51",
   "metadata": {},
   "outputs": [],
   "source": [
    "l.append(l[1] + l[2] - l[0])"
   ]
  },
  {
   "cell_type": "code",
   "execution_count": 173,
   "id": "bce1ef07",
   "metadata": {},
   "outputs": [],
   "source": [
    "for i in l:\n",
    "    dict1[i*20] = i"
   ]
  },
  {
   "cell_type": "code",
   "execution_count": 174,
   "id": "20b65cee",
   "metadata": {},
   "outputs": [
    {
     "data": {
      "text/plain": [
       "{'hello': ['world', 'ist', 'goldfisch'],\n",
       " 'francis': ['world', 'ist', 'goldfisch'],\n",
       " 'ein': ['world', 'ist', 'goldfisch'],\n",
       " 'world': ['world', 'ist', 'goldfisch'],\n",
       " 'ist': ['world', 'ist', 'goldfisch'],\n",
       " 'goldfisch': ['world', 'ist', 'goldfisch'],\n",
       " 60: 3,\n",
       " 260: 13,\n",
       " 400: 20}"
      ]
     },
     "execution_count": 174,
     "metadata": {},
     "output_type": "execute_result"
    }
   ],
   "source": [
    "dict1"
   ]
  },
  {
   "cell_type": "code",
   "execution_count": 62,
   "id": "85db8b16",
   "metadata": {},
   "outputs": [],
   "source": [
    "l[0] = l[3]"
   ]
  },
  {
   "cell_type": "code",
   "execution_count": 64,
   "id": "03e94134",
   "metadata": {},
   "outputs": [
    {
     "data": {
      "text/plain": [
       "20"
      ]
     },
     "execution_count": 64,
     "metadata": {},
     "output_type": "execute_result"
    }
   ],
   "source": [
    "l.pop()"
   ]
  },
  {
   "cell_type": "code",
   "execution_count": 67,
   "id": "fea1d945",
   "metadata": {},
   "outputs": [
    {
     "data": {
      "text/plain": [
       "[20, 10, 13]"
      ]
     },
     "execution_count": 67,
     "metadata": {},
     "output_type": "execute_result"
    }
   ],
   "source": [
    "l"
   ]
  },
  {
   "cell_type": "code",
   "execution_count": 68,
   "id": "e69eda01",
   "metadata": {},
   "outputs": [],
   "source": [
    "l.remove(10)"
   ]
  },
  {
   "cell_type": "code",
   "execution_count": 70,
   "id": "32ca38b1",
   "metadata": {},
   "outputs": [
    {
     "data": {
      "text/plain": [
       "[20, 13, 10, 10]"
      ]
     },
     "execution_count": 70,
     "metadata": {},
     "output_type": "execute_result"
    }
   ],
   "source": [
    "l.append(10)\n",
    "l.append(10)\n",
    "l"
   ]
  },
  {
   "cell_type": "code",
   "execution_count": 71,
   "id": "764b2e90",
   "metadata": {},
   "outputs": [],
   "source": [
    "l.remove(10)"
   ]
  },
  {
   "cell_type": "code",
   "execution_count": 73,
   "id": "d0164226",
   "metadata": {},
   "outputs": [],
   "source": [
    "l[0] = 10"
   ]
  },
  {
   "cell_type": "code",
   "execution_count": 75,
   "id": "88a0551b",
   "metadata": {},
   "outputs": [],
   "source": [
    "l.remove(10)"
   ]
  },
  {
   "cell_type": "code",
   "execution_count": 76,
   "id": "89a1ed13",
   "metadata": {},
   "outputs": [
    {
     "data": {
      "text/plain": [
       "[13, 10]"
      ]
     },
     "execution_count": 76,
     "metadata": {},
     "output_type": "execute_result"
    }
   ],
   "source": [
    "l"
   ]
  },
  {
   "cell_type": "code",
   "execution_count": 77,
   "id": "6eda9815",
   "metadata": {},
   "outputs": [
    {
     "data": {
      "text/plain": [
       "[3, 10, 13, [3, 10, 13]]"
      ]
     },
     "execution_count": 77,
     "metadata": {},
     "output_type": "execute_result"
    }
   ],
   "source": [
    "l = [3, 10, 13, [3, 10, 13]]\n",
    "l"
   ]
  },
  {
   "cell_type": "code",
   "execution_count": null,
   "id": "fe9fd477",
   "metadata": {},
   "outputs": [],
   "source": [
    "l.remove([3, 10, 13])"
   ]
  },
  {
   "cell_type": "code",
   "execution_count": 84,
   "id": "74079647",
   "metadata": {},
   "outputs": [
    {
     "data": {
      "text/plain": [
       "[3, 10, 13, [3, 10, 13]]"
      ]
     },
     "execution_count": 84,
     "metadata": {},
     "output_type": "execute_result"
    }
   ],
   "source": [
    "l"
   ]
  },
  {
   "cell_type": "code",
   "execution_count": 87,
   "id": "1ce09ab9",
   "metadata": {},
   "outputs": [
    {
     "data": {
      "text/plain": [
       "[3, 10, 13]"
      ]
     },
     "execution_count": 87,
     "metadata": {},
     "output_type": "execute_result"
    }
   ],
   "source": [
    "l.pop()"
   ]
  },
  {
   "cell_type": "code",
   "execution_count": 89,
   "id": "6f313f71",
   "metadata": {},
   "outputs": [
    {
     "data": {
      "text/plain": [
       "10"
      ]
     },
     "execution_count": 89,
     "metadata": {},
     "output_type": "execute_result"
    }
   ],
   "source": [
    "l.pop(1)"
   ]
  },
  {
   "cell_type": "code",
   "execution_count": 90,
   "id": "2f890bc8",
   "metadata": {},
   "outputs": [
    {
     "data": {
      "text/plain": [
       "[3, 13]"
      ]
     },
     "execution_count": 90,
     "metadata": {},
     "output_type": "execute_result"
    }
   ],
   "source": [
    "l"
   ]
  },
  {
   "cell_type": "code",
   "execution_count": 98,
   "id": "fd068985",
   "metadata": {},
   "outputs": [
    {
     "data": {
      "text/plain": [
       "[13, 20, 3]"
      ]
     },
     "execution_count": 98,
     "metadata": {},
     "output_type": "execute_result"
    }
   ],
   "source": [
    "l = [13,20,3]\n",
    "l"
   ]
  },
  {
   "cell_type": "code",
   "execution_count": 104,
   "id": "1c2852f4",
   "metadata": {},
   "outputs": [
    {
     "data": {
      "text/plain": [
       "[3, 13, 20, 3, 13, 20, 3, 13, 20]"
      ]
     },
     "execution_count": 104,
     "metadata": {},
     "output_type": "execute_result"
    }
   ],
   "source": [
    "l * 3"
   ]
  },
  {
   "cell_type": "code",
   "execution_count": 101,
   "id": "1af9461d",
   "metadata": {},
   "outputs": [
    {
     "data": {
      "text/plain": [
       "[3, 13, 20]"
      ]
     },
     "execution_count": 101,
     "metadata": {},
     "output_type": "execute_result"
    }
   ],
   "source": [
    "l"
   ]
  },
  {
   "cell_type": "code",
   "execution_count": 111,
   "id": "bced856c",
   "metadata": {},
   "outputs": [
    {
     "data": {
      "text/plain": [
       "3"
      ]
     },
     "execution_count": 111,
     "metadata": {},
     "output_type": "execute_result"
    }
   ],
   "source": [
    "l[0]"
   ]
  },
  {
   "cell_type": "code",
   "execution_count": 115,
   "id": "72c9eb35",
   "metadata": {},
   "outputs": [
    {
     "name": "stdout",
     "output_type": "stream",
     "text": [
      "Help on class enumerate in module builtins:\n",
      "\n",
      "class enumerate(object)\n",
      " |  enumerate(iterable, start=0)\n",
      " |  \n",
      " |  Return an enumerate object.\n",
      " |  \n",
      " |    iterable\n",
      " |      an object supporting iteration\n",
      " |  \n",
      " |  The enumerate object yields pairs containing a count (from start, which\n",
      " |  defaults to zero) and a value yielded by the iterable argument.\n",
      " |  \n",
      " |  enumerate is useful for obtaining an indexed list:\n",
      " |      (0, seq[0]), (1, seq[1]), (2, seq[2]), ...\n",
      " |  \n",
      " |  Methods defined here:\n",
      " |  \n",
      " |  __getattribute__(self, name, /)\n",
      " |      Return getattr(self, name).\n",
      " |  \n",
      " |  __iter__(self, /)\n",
      " |      Implement iter(self).\n",
      " |  \n",
      " |  __next__(self, /)\n",
      " |      Implement next(self).\n",
      " |  \n",
      " |  __reduce__(...)\n",
      " |      Return state information for pickling.\n",
      " |  \n",
      " |  ----------------------------------------------------------------------\n",
      " |  Static methods defined here:\n",
      " |  \n",
      " |  __new__(*args, **kwargs) from builtins.type\n",
      " |      Create and return a new object.  See help(type) for accurate signature.\n",
      "\n"
     ]
    }
   ],
   "source": [
    "help(enumerate)"
   ]
  },
  {
   "cell_type": "code",
   "execution_count": 116,
   "id": "3374bbdb",
   "metadata": {},
   "outputs": [
    {
     "data": {
      "text/plain": [
       "[3, 13]"
      ]
     },
     "execution_count": 116,
     "metadata": {},
     "output_type": "execute_result"
    }
   ],
   "source": [
    "l[0:2]"
   ]
  },
  {
   "cell_type": "code",
   "execution_count": 117,
   "id": "8f6fdbfe",
   "metadata": {},
   "outputs": [
    {
     "data": {
      "text/plain": [
       "[3, 13, 20]"
      ]
     },
     "execution_count": 117,
     "metadata": {},
     "output_type": "execute_result"
    }
   ],
   "source": [
    "l"
   ]
  },
  {
   "cell_type": "code",
   "execution_count": 118,
   "id": "2250540f",
   "metadata": {},
   "outputs": [
    {
     "ename": "IndexError",
     "evalue": "list index out of range",
     "output_type": "error",
     "traceback": [
      "\u001b[0;31m\u001b[0m",
      "\u001b[0;31mIndexError\u001b[0mTraceback (most recent call last)",
      "\u001b[0;32m<ipython-input-118-bb49eeb9f0db>\u001b[0m in \u001b[0;36m<module>\u001b[0;34m\u001b[0m\n\u001b[0;32m----> 1\u001b[0;31m \u001b[0ml\u001b[0m\u001b[0;34m[\u001b[0m\u001b[0;36m3\u001b[0m\u001b[0;34m]\u001b[0m\u001b[0;34m\u001b[0m\u001b[0;34m\u001b[0m\u001b[0m\n\u001b[0m",
      "\u001b[0;31mIndexError\u001b[0m: list index out of range"
     ]
    }
   ],
   "source": [
    "l[3]"
   ]
  },
  {
   "cell_type": "code",
   "execution_count": 120,
   "id": "d5b1bced",
   "metadata": {},
   "outputs": [
    {
     "name": "stdout",
     "output_type": "stream",
     "text": [
      "16\n",
      "33\n"
     ]
    }
   ],
   "source": [
    "for index in range(0,len(l)-1, 1):\n",
    "    res = l[index] + l[index+1]\n",
    "    print(res)"
   ]
  },
  {
   "cell_type": "code",
   "execution_count": 109,
   "id": "a22e3163",
   "metadata": {},
   "outputs": [
    {
     "data": {
      "text/plain": [
       "(16, 33)"
      ]
     },
     "execution_count": 109,
     "metadata": {},
     "output_type": "execute_result"
    }
   ],
   "source": [
    "16, 33"
   ]
  },
  {
   "cell_type": "code",
   "execution_count": 129,
   "id": "6b5548d2",
   "metadata": {},
   "outputs": [],
   "source": [
    "d1 = {'key1':'ich bin ein string'}\n",
    "d2 = dict({\"key1\":\"val1\",\n",
    "           \"key2\":\"val2\"})"
   ]
  },
  {
   "cell_type": "code",
   "execution_count": 136,
   "id": "503b7de5",
   "metadata": {},
   "outputs": [
    {
     "data": {
      "text/plain": [
       "False"
      ]
     },
     "execution_count": 136,
     "metadata": {},
     "output_type": "execute_result"
    }
   ],
   "source": [
    "[d2.keys()] == ['key1','key2']"
   ]
  },
  {
   "cell_type": "code",
   "execution_count": 143,
   "id": "18f94849",
   "metadata": {},
   "outputs": [
    {
     "data": {
      "text/plain": [
       "dict_keys(['key1', 'key2'])"
      ]
     },
     "execution_count": 143,
     "metadata": {},
     "output_type": "execute_result"
    }
   ],
   "source": [
    "for i in d2.keys():\n",
    "    print(i)"
   ]
  },
  {
   "cell_type": "code",
   "execution_count": 145,
   "id": "a615c717",
   "metadata": {},
   "outputs": [
    {
     "data": {
      "text/plain": [
       "{2: 3, 4: 5}"
      ]
     },
     "execution_count": 145,
     "metadata": {},
     "output_type": "execute_result"
    }
   ],
   "source": [
    "dict([(2,3),(4,5)])"
   ]
  },
  {
   "cell_type": "code",
   "execution_count": 163,
   "id": "8b1beafd",
   "metadata": {},
   "outputs": [],
   "source": [
    "dict1 = dict()\n",
    "dict1['hello'] = 'world'"
   ]
  },
  {
   "cell_type": "code",
   "execution_count": 191,
   "id": "17c1ff87",
   "metadata": {},
   "outputs": [],
   "source": [
    "list1 = ['hello','francis','ein']\n",
    "list2 = ['world','ist','goldfisch']\n",
    "#list3 = ['apfel','banane','kiwi']\n",
    "dict1 = dict()\n",
    "for i, j in zip(list1,list2):\n",
    "    dict1[i] = j"
   ]
  },
  {
   "cell_type": "code",
   "execution_count": 192,
   "id": "f6244b96",
   "metadata": {},
   "outputs": [
    {
     "name": "stdout",
     "output_type": "stream",
     "text": [
      "ein\n"
     ]
    }
   ],
   "source": [
    "for i in dict1.items():\n",
    "    if i[1] == 'goldfisch':\n",
    "        print(i[0])"
   ]
  },
  {
   "cell_type": "code",
   "execution_count": 193,
   "id": "5841cadc",
   "metadata": {},
   "outputs": [
    {
     "data": {
      "text/plain": [
       "'goldfisch'"
      ]
     },
     "execution_count": 193,
     "metadata": {},
     "output_type": "execute_result"
    }
   ],
   "source": [
    "dict1['ein']"
   ]
  },
  {
   "cell_type": "code",
   "execution_count": 166,
   "id": "b029f348",
   "metadata": {},
   "outputs": [
    {
     "data": {
      "text/plain": [
       "'world'"
      ]
     },
     "execution_count": 166,
     "metadata": {},
     "output_type": "execute_result"
    }
   ],
   "source": [
    "dict1['hello']"
   ]
  },
  {
   "cell_type": "code",
   "execution_count": 157,
   "id": "3be03c46",
   "metadata": {},
   "outputs": [],
   "source": [
    "hi = dict({list1[0]:list2[0],\n",
    "      list1[1]:list2[1],\n",
    "      list1[2]:list2[2]\n",
    "     })"
   ]
  },
  {
   "cell_type": "code",
   "execution_count": 159,
   "id": "10d378f9",
   "metadata": {},
   "outputs": [
    {
     "name": "stdout",
     "output_type": "stream",
     "text": [
      "hello world\n",
      "francis ist\n",
      "ein goldfisch\n"
     ]
    }
   ],
   "source": [
    "for key in hi.keys():\n",
    "    print(key, hi[key])"
   ]
  },
  {
   "cell_type": "code",
   "execution_count": 43,
   "id": "eba3b562",
   "metadata": {},
   "outputs": [
    {
     "name": "stdout",
     "output_type": "stream",
     "text": [
      "['>WP_214124041.1 oligosaccharide flippase family protein [Curvibacter sp. CHRR-16]\\n', 'MALLTSASVVEVLESSMGKLSLRELRGWLAGRAVVRKLASNSGWLLADQMLRIGVGALLNIWIARHFGPE\\n', 'RLGAYNYALALVALAAPLASWGLDSLLVRDLVKSPSHSGRLLVSAGILRLGTGLLSVVAAVGLASMARPG\\n', 'DHETLTLALIAGSAGVFNGLSVLEFWFQSQLRSKFSVLARDMAFLMSASLKIWCVLSQGSVELLSWAVLT\\n', 'EAAIYGLTLGAFFNRMSSGGLRLGDLEWRAVRNYLFEGRSLVLTGLLIAVYMRVDRVVIGSLLDNHAVGV\\n', 'YSIAVQLCEIFYVLPNVATASLYPVFVGLYEKDVMLYERRLIQIMRFFFYGGGLVALAFVLLGDWAIPLV\\n', 'FGPQYQEAVPVAKVYIFLLPFVGMSLVFSHRYILNKTPRYSLLGVVVGGVMTLGLHMIVVPRFGLLGAAS\\n', 'VALVSQILPSLAVTLFVDRSVGRIFIKAMQPKWW\\n', '>WP_214123374.1 PEP-CTERM sorting domain-containing protein [Curvibacter sp. CHRR-16]\\n', 'MKLSTSPSGTYAGAFSAIEVKTNGSALSGEKSFYTFCVELYETLYTNTTLYVKSVSNATQNAVSSYYSQT\\n', 'NPASGGTATSDPLSVQTEWLFTQFNVDKNFQSSILSTNAKANSFQVAIWYLEHELDSYKVQSWHGSSTNS\\n', 'GYGYLYTQDSYAQTLVAMANAAVKNGWKDVGDQVRVLNLYKDNKYTQYAQDQLYFVSAVPEPESLAMMLV\\n', 'GVVGVAGFVRYRKRKTA\\n', '>WP_087495855.1 PEP-CTERM sorting domain-containing protein [Curvibacter sp. AEP1-3]\\n', 'MKKFIIVAAMAATSFLSAHAASITGLVNTGSFASGAQDINYALNGNSFGYVTSNGSFPLNGAWIANTATS\\n', 'KWITPALNQGTSFDPSANGTYSWKLSFDLSGFNAATANFSGRFAADNSAVVKLNGVQVGTAGGFSSFSSF\\n', 'SANSGFYSGLNTLEFVVTNLAQGSGNPTGLRVEFLQSNVTPVPEPETYAMLLAGLGLMGMISRRRMKGKA\\n', 'A\\n', '>WP_198301951.1 PEP-CTERM sorting domain-containing protein [Curvibacter sp. AEP1-3]\\n', 'MKEKAVISVVYADNSLGSFSLIATGDTSATWSVGGTAVNMLSPATLGKGGAWSVVNPFGNKLVKQVSFGA\\n', 'APGLMSCHTCTNESDYTFMSITAAVPEPETYAMLLAGLAAIGAMVRRKKKV\\n', '>WP_066705294.1 exopolysaccharide Pel transporter PelG [Curvibacter delicatus]\\n', 'MAGIGFELRKLLNKRSYAGVLQAYAYAGLISSGPMVLSIVGMVLIGVLSFGVVIPHILISQFQITVTYIY\\n', 'FSSLILTGPVQLSFTRFISDRLYVKDEAAVLPNFNGLLFLVINVSILLALPVALFGLGGQTAMYRLLFVM\\n', 'GLAIMSGIWVSAVFLSGMKQYKAILLIFVLGYSATPVLALVFMHFFSMEGLLLGFVAGHFLLLAGMIWLI\\n', 'YRNYASDRFMAFDIWKPGAMYRSLMLTGLFFNLGLWVDKLMFWYYPGTGQSVVGPLHASVIYDFPIFLAY\\n', 'LTVIPGMAVFLVRIETDFVEYCTRFYEAAGGGATLDYIMRMRNQMVYYVRQGLLDIAKIQAITALVAFVL\\n', 'GERLLQWLGISTLYLPLLFVDVVGAGLQVVMLGVLNVLFYLDQRRIVVWLTGLLLVCNAGFSALSIYLGA\\n', 'AWFGYGFAVAMLVTVLVGIWVLNRRLEALEFETYMLQ\\n', '>WP_087496568.1 PEP-CTERM sorting domain-containing protein [Curvibacter sp. AEP1-3]\\n', 'MKSMKSIALAMLSTLALGANAATNLVTNGSFEQTAQTNWNTYTSLPGWTGQPNVELRNNVSGTAQDGLNF\\n', 'VELDTNANSGITQTITATGLVELSFWYSARPGTSSSTNDLQVSFGNSFQTTVLQGVGNSTSTHNWQHFTQ\\n', 'IVNLGNSGSAVLAFYARGASDSLGGSLDNISVTSVPEPETYAMLLAGLGVMGTIARRRKQKAA\\n', '>WP_087496336.1 PEP-CTERM sorting domain-containing protein [Curvibacter sp. AEP1-3]\\n', 'MFKNIAAGTLLAITFAASSAMAGAVHDDNLYTANTLAANDDLSTGRVDIGFNINFYGSNFSQLYVNNNGN\\n', 'VTFNSALSTFTPFSLLSTSTPMLAPFFADVDTRNAISGLTQYGQATVNGRQTFGVNWLNVGYFSSQADKT\\n', 'NSFQLIVTDRSDTGAGNFDFQFNYDNVSWETGSASNGVNGFGGASARAGWSNGTTNSFELAGSAVNGALL\\n', 'NSGSNALISHQLNSNVAGQYNFSVRNGNVIPAVPEPETYAMLLAGLGLMGVVARRRRAQGRS\\n', '>WP_087496032.1 exopolysaccharide biosynthesis protein [Curvibacter sp. AEP1-3]\\n', 'MSDHHTQADRLRAAAAALQDQPLSLQQLFRLHGRAGPGALLVVLSVPCLLPVPGAGVFMSMGMAMVAWMI\\n', 'WRYYPRLVMPRKVGRFQLSPPMARRALNTLAWLYEKASRVMRARLRWWVQPGHRVWLAPFVAAMAMIIFL\\n', 'PIPFGNVVPAAALLLIGLGLVFEDGLAMLTGVLVGLALVAVLAGLAGGAAHWAPELWAAWPLRPQ\\n', '>WP_214122982.1 choline ABC transporter substrate-binding protein [Curvibacter sp. CHRR-16]\\n', 'MSLFHRGTVGAVVALLSTLLPLHSQAAESAACQKVKFADVGWTDIAATTGLASVVLEELGYKPSVTMASV\\n', 'PIAFAGLKNKQLDVFLGYWNPSMTPMIEPFVKAGQIKVLDKPNLVGAKYTLAVPEYLYTKGLKSFADIAK\\n', 'FSKELDGKIFGIEPGNDGNALVQGMIDKNQFNLKGFKVVESSEAGMLAEVQRAVKNQKPIVFLGWEPHPM\\n', 'NVQVKMRYLEGGDDVFGPNYGEAKVYTAMPPDYETRCPNVGQLIRNLTFSTQMENEVMLPIMSKTKPNAA\\n', 'ARAWLKKNPAVLNDWLKGVTTVKGEDGLAAVKKGLGL\\n', '>WP_214123892.1 chain length determinant protein tyrosine kinase EpsG [Curvibacter sp. CHRR-16]\\n', 'MVAVENRTKRPLGDILVDAGIISKADAQRVAELQRAKKIRFGEAAIQLGLISEADIRYALSYQYDYAYLP\\n', 'RSSGRITHSDLVAAYAPFSAEVDQLRAIRSQLKLRWFDQATNTQLAVVGAGRAEGGSYLAANLAIVFAQM\\n', 'GERTLLIDADMRHPRQHSLFKLDNTLGFSSLLAERAEVSQVLKAISFMPGLDVIPAGPVPPNPLELLNRD\\n', 'SMQQLLEWAGKSYDIVLIDTPSASTGSDAMIVAAKAGAAMLVARANETKLADFNSLVAELKQSQINIVGS\\n', 'VLNDPPLIDVGG\\n', '>WP_214123812.1 transcriptional regulator EpsA [Curvibacter sp. CHRR-16]\\n', 'MLFKRDESQPSQEDFQRFNALLNEVLAVRNHLDLMTWLQGSLQHYLTHEILIAAWGDFHLGLIYYDIISA\\n', 'MPGVRTENATAKSLAPLLKGMFEQWAMQDREPFFLNVGHEGVTWEGLMEPGSIADAMTTMNSALVHGIND\\n', 'QRGRHDCLYMFFSRYPKRRHSDKQTIRMLLPYIDAAMRQVELLSHQHPSKPAPVEVAHDADGGVLSDREA\\n', 'EIMHWVGLGKTNSEIGSILNVSAFTVKNHMQRIFKKLDVLNRAQAVAAYREKYTPSSETASRHG\\n', '>WP_214123811.1 undecaprenyl-phosphate glucose phosphotransferase [Curvibacter sp. CHRR-16]\\n', 'MVERNKSAAMLSARNESDSVGRDTFLSAIEASLEPLTWVVLLWVCAWFFDKGVNGAYLILSVIVFSITFP\\n', 'GEPRLNSSWRQLLVDVWLSWVWAAGLLLLAGLGTGYHKEFSRNAMLVWLLSTPALLLLGHLTLRFVAPFL\\n', 'LALEGPVKKAIVVGMNEQGLALAERLSSSPYLRMEFAGFFDDRTPTRLPKNQHYQLLGKMADLSPYVRAN\\n', 'DVQIIYLSLPMASQPRILQVLDELKDTTASIFFVPDMFVTDLIQGRSGTVCGMPVISVCETPFTGASGVI\\n', 'KRISDIVLSLIILFLISPILLVVAVAVKWTSPGPILFKQRRYGLDGKEILVYKFRSMKVVEDGAKIQQAT\\n', 'KNDSRITPLGRILRKTSIDELPQFINVLQGRMSIVGPRPHAVAHNELYRKLIKGYMVRHKVKPGITGWAQ\\n', 'VNGYRGETETLDKMQGRIDFDLDYLRNWSLRLDLYIIFRTIKLVVNDRQAY\\n', '>WP_214123807.1 polysaccharide export protein EpsE [Curvibacter sp. CHRR-16]\\n', 'MMHTQLMTKCARWLGACCIVASAGLAFAQDKTFEDKLGPGDVIKVQVYQSPDLSIETRILESGDVSYPLV\\n', 'GTLRLAGLSIPEAEAVLVKSLKSGGFLRSPQVNITVTQARRKVVSILGAVGRPGQFPLEYNNARLSDVLA\\n', 'LAGGILPTGSDTVIITGQRGGKPWRQEIDVASLYLDGKAASDIPIQGGEVVYVHRAPVFYVYGEAQRPGS\\n', 'YRIERNMTFVQALVTAGGPTQRGTEKRLKLFRQDADGKVREMSPELSDMVRPDDVIYVRESLF\\n', '>WP_214123792.1 exosortase B [Curvibacter sp. CHRR-16]\\n', 'MTTDAKDITPSGGGGWLPSGSDPWTLGFLALALVLMYAQSYWNLAHTIWVTDEQGHGPIIFVVSVWLFFR\\n', 'ARHAVAALPKAPQIGWGSAVLALSLLAYIIGKSQSFLMLEVGSQVGVVLAFILLFWGARVLRLVWFPLFF\\n', 'LVFMTPYPEALVAIVTAPLKMAVSIVASDLLYQIGYPVSRVGVILNVGPYQLLVADACAGLNSMFTLEAL\\n', 'GLLYMNLMQYKSVKRNVLLAISVIPIAFAANVVRVMILVLVTYHMGNEAGQGFIHGFAGMLLFAVGLVLV\\n', 'LGTDYVLGLFFREKAV\\n', '>WP_214123791.1 EpsI family protein [Curvibacter sp. CHRR-16]\\n', 'MSPTRRRAVAVLLSAVTASAVAHYMTPSKHMADVLGKPDLEKIFPAAFADWTVDPFARIVQPSPETQALL\\n', 'NSIYNQTLTRTYINSNGRRIMLSVAYGGDQSDATRAHMPEVCYPAQGFQILSNFTGQLVLSDRAVPTRYL\\n', 'MAKQGNRNEPITYWMVVGDRATVSRLDQKIAQFELGLQGLIPDGMLVRVSSIDADMKRGHDLQAAFLKDL\\n', 'ADALPTEFRNRVLGRGI\\n', '>WP_087496556.1 EpsI family protein [Curvibacter sp. AEP1-3]\\n', 'MRRPGPAINSIILVLMMLAAGLAWVFTPTLFLADQLPPLKLKQIVPSSFGEWRELTTGPAQIVDPSSQTL\\n', 'IDAIYTETLSRTYVNKDGYRIMLSIAYGRDQRDSLQLHQPEVCYPAQGFQVLTKERVGLELPARSVASTR\\n', 'ITTRLGNRNEPVTYWTMVGEQVFQGGINKKLAEISYAKEGLIPDGLLFRVSSIDPEAPRAFSEQQKFSAE\\n', 'LVAALPQDFVARFAGKAQP\\n', '>WP_157443623.1 undecaprenyl-phosphate glucose phosphotransferase [Curvibacter lanceolatus]\\n', 'MLPLPQVYALLIIQMATLMTLVSSAVYRNWRGGQFKAMLGRVGVSWAITWALLMTWLVLTKSSTDFSRIW\\n', 'LLTWAGTSLGISWLARLGVFLIMSYMRGRQVNHMRVLLVGGGGPVAAIRRRVKTSTWTGYDLTGVVSMDD\\n', 'IDALHYSLGQLDPDEVWICPPANDMSSIQPVLNELRHSTANIRLVPDMGAFQMVNNGLSVVLGMPMLDIS\\n', 'SSPMSGFNMIVKWLEDKIVASLILILISPILAVIAIAVKVTSPGPVIFKQKRHGWNGEEIEVYKFRSMVV\\n', 'HNEHTGHVTQAKKGDSRITPLGAFLRRSSLDELPQFVNVLQGRMSIVGPRPHAVAHNMQYRELIPRYMLR\\n', 'HKVKPGITGWAQVNGLRGETNTIEKMEARIQADLYYIENWSLWLDLKIIFLTVFKGFIDENAY\\n', '>WP_087496563.1 undecaprenyl-phosphate glucose phosphotransferase [Curvibacter sp. AEP1-3]\\n', 'MSKAHITFSAAEFNGGHEHASLGRDNLLGILESCICPAALVGSLWVLAFLYEGDIPPAYLLLAVLTFALT\\n', 'FPGEPRLQASKAGSLLDIGFNWVWIAGLLGLTGYATGYIRQFDHQALFTWLWVAPATEAALTLGLRLAAP\\n', 'AIISLQGPRQRALIVGMNEQGLALATKLKSSPYSRIELAGFVDSRSTERLSAGDTYPLLGKLDQLAAIAK\\n', 'NDRIQVIYLSLPMASQPRILQILDELKDTTASIYFVPDMFVTDLIQGHPSAVCGMPVISVCETPFRGANG\\n', 'MVKRLSDIVFSIGILTLIAPILLGIALAVKFTSPGPVIFKQRRYGLDGEEILVYKFRSMSVTEDGGVVTQ\\n', 'AKKNDSRITPLGAFLRKTSLDELPQFINVLQGRMSIVGPRPHAVAHNELYRKLIKGYMVRHKVKPGITGW\\n', 'AQVNGYRGETDTLDKMQGRIDYDLDYLRNWSLRLDIHIILRTVRLVAKDQQAY\\n', '>WP_087496560.1 polysaccharide export protein EpsE [Curvibacter sp. AEP1-3]\\n', 'MKKIINLIATGLIALSSIVAQAQDGKADYPLGAGDTIRVQVFQNPDLTIETRVSESGVITYPLIGAVPLG\\n', 'GLSVAAAEKKIADALQTGGFIQKPQVNISLIQIRGNQVSVLGQVARPGRFPLETVNTRLSDMLANAGGAT\\n', 'TSGDDIVVVTGVREGKPFRKEIDIPSIFLDNKAQDNLLLQGGDTIYVHRAPMFFIYGEVQRPGSFRIERD\\n', 'MTIMQALAQGGGPNARGSEKRLRLHRKLANGTVQQIEPQLTDPVQANDVLYVKESIF\\n', '>WP_087496562.1 putative exosortase B-associated extracellular polysaccharide biosynthesis transporter EpsL [Curvibacter sp. AEP1-3]\\n', 'MRTPTTLFTLALSTLAASMAQAQQDPLTLSAGYTVQSDSNLFRLPSNADVLARTGQSSGAETIGVTTIGL\\n', 'GFNTRQSLQTLSVNLNLVDYQYQKFNYLSFTANNYNVNWQWAITPRVTGTLSTDRKETLNSFADFTGYRQ\\n', 'RNQRMDTTTRFDATYELDGPWRLIAGTSTTRQENQLAQVTGSDYTTNAVDAGVRYQFGSGSALSYQMRVG\\n', 'KGSYLNRVVPNTNALDDQYTQMDNDLRLRWDLGGGTAANANLTHINRTHPRYGQRDYNGFNSGAGLDWAI\\n', 'SGKTSVSLAFSHVLEAYAATDSNYSSTDRISIGPVWQISPKVGLRLRHEWAQRNYLGSPTSSVNSNRQDI\\n', 'TRDTTLSVNWQAHEKLALSASLQNASRGVNQAGLDYDSTMLLLTAQLTY\\n', '>WP_087496557.1 exosortase B [Curvibacter sp. AEP1-3]\\n', 'MKAKPLFPPFSAQAVKVWAPLGLGLFILYGPSLYKLFSGIWSQDEQMHGPIVLGISIWLLYKNWPTMENA\\n', 'ALGLRSSAWGWPLFGIGLILYVIGRSQGILLFEIGSVIWLVAALILLQRGTKALKAQWFALFFMLFMVPL\\n', 'PSAVVDAVTMPMKMAVSYAAENVLFAVGYPIGRNGVMLQIGQYKLLVADACAGLHTLLTLEALGLLYLNL\\n', 'VQRDSALRNIGLALLIVPISFTANVIRVMTLSLITYHFGDEAGQGFLHGFAGMVLFLSALLLIIGGDSAL\\n', 'QAFETWRTRKLKLRGAKP\\n', '>WP_084461717.1 undecaprenyl-phosphate glucose phosphotransferase [Curvibacter gracilis]\\n', 'MRFAVHGVDWFAFAGSGLVAYLWRFDGAAVLPLPQVYALLIIQMATLMTLVSSAVYRNWRGGQFKAMLGR\\n', 'VGVSWAITWALLMTWLVLTKSSGDFSRIWLLTWAGTSLGISWLARLCVFLIMSYMRGRQVNHMRVLLVGG\\n', 'GGPVAAIRRRVKTSTWTGYDLTGVVSIDDIDGLHYSIGQLDPDEVWICPPANDMSGLQPVLNELRHSTAN\\n', 'IRLVPDMGAFQMVNNGLSVVLGMPMLDISSSPMSGFNLIVKWLEDRIVASLILILISPILLGVALAVKFT\\n', 'SKGPIIFKQKRHGWNGEEIEVYKFRSMYVHDEGHGHVTQAKKGDSRITPLGAFLRRSSLDELPQFVNVLQ\\n', 'GRMSIVGPRPHAVAHNMQYRELIPRYMLRHKVKPGITGWAQVNGLRGETDTVDKMEARVQADLFYIENWS\\n', 'IWFDLKIIFMTIFKGFFSKNAY\\n', '>WP_084679642.1 polysaccharide biosynthesis tyrosine autokinase [Curvibacter lanceolatus]\\n', 'MSLTITPNAEPLHKHKQISLHDPDDAASKLDLVEYWRSITKRKWAILGFGLVVALLAGVIVFVLTPVYRG\\n', 'TATVLIEANKSKVLSIEDVYSGISQNREYFQTQVEIIKSREVAIRTIDALKLWDYPEFDPRSKEKSFLQE\\n', 'WQEKLGISEELEAKEWTTNSLADAVFVKFNKQLTIEPVRLSQLAKISFESNSPALAALVANTVANTYIEN\\n', 'DLDARYKMTKQASGWLQERLSSLKTKLDESERSLQNYREKAGIVDVKSAAQSGAGKQIEEVTQRLVETRL\\n', 'RRAEAENAYNQIKSVGKNGDYSSLPAVVRNSNVSEALKAQAEAERTMSEVAQRYGFEHPKYVAAEATLKS\\n', 'ARENVKRQVESVVGSVTREYEVALGTERALEGTLNSARGSIQNLNRKEFELGVLEREVDSNRQIYDMFMK\\n', 'RAKETNVSGDLQSAVARVVDAAVVPHRAVKPQKPQIIAIAFVFGLFVGMLVSLLLDRLDNTIKTTEDVEA\\n', 'KLKAPLLTTLPLLDKGDTDRVASARLFLDNPKSIYSEAIRTARTGVLLSAIDVPNRILLVTSSLPGEGKT\\n', 'TFSINLALAHAQTKRTLLIDADMRRPAITKGLDLAPGAKGLSELVAGTAVLDDCLQAVPGSSLSVLGSGR\\n', 'IPPNPLELLLSQKFKSTLDELAAIFDIIVIDSPPVELVSDALVISGHATGVIYAVKAADTPYPLARKGLQ\\n', 'RIRRAEGEIMGVVLNRFDFKQAEKYYGEYSGYGKYGYGKYGYKAGYGEAYGSEPEGKTGKKAA\\n', '>WP_019576955.1 cellulose synthase operon protein YhjQ [Curvibacter lanceolatus]\\n', 'MKVLAVVSSKGGVGKTTVTANLACALARQGRTVVVLDLDPQNALGLHFGVSPSELRGISRASLAQQSWKS\\n', 'VVFESRTGVYVLPYGVVNEDDRDRFEHLIETRLFWLRDHLQALNLPPDAVVLLDTPPGPSVYLKQALAEA\\n', 'HLALVVVLADAASYAALPLMQRLVQTYCTDQPNFSDALYVVNQVNNSRQLSKDVSNVIRSSFGDRVVGTI\\n', 'HQDQSVGDALANDLCVLDYESGSQAANDFRACAEKIAQRLFTRTATA\\n', '>WP_087496564.1 transcriptional regulator EpsA [Curvibacter sp. AEP1-3]\\n', 'MSFLPSLTTEDLHHYHRVVTHSVEVRSHFDMLIWLQGDMQKYLPHEILIAAWGDFSTGAVQHDIISAMSG\\n', 'VRSHASHTEPLTPLLTRLFARWSEFGKKPFSLNAGQSGFSMDDAGLKSALGGALLKMRSATVHGITDERG\\n', 'SHDCLYVVFSTREHFTEKERSAMAMVLPYIDTALRQVEHLPHQATVQANAPITYTNGHLPTEADVLTERE\\n', 'AEILKWVALGKTNPEIGSILEISAFTVKNHMQRVFKKLDVSNRAQAVGKFRAWVNHV\\n', '>WP_087496559.1 chain length determinant protein EpsF [Curvibacter sp. AEP1-3]\\n', 'MTVQQLFLILRARYKVALLILLLTVAATTAISLFLPKQYGASSAVVVDVKSPDLVSGLMLQGMMAPGYMA\\n', 'TQVDIINSDRVAKAAVKLLKMESSPVIQNQWREATQGKGQMSDWLAGLLQRGLDVKPSRESNVINIGYTG\\n', 'TDPDFAAAVANAFAQAYIEVNLDLRVAPARQYASFFDEQTKAAREKLEKAQQALSDYQQKNGITSTDERL\\n', 'DFETAKLNETSSQLTSVQGQTTDSQSKRQTTKADSIAEVMQSPLINGLKADIARLEAKLNESRGNLGANH\\n', 'PQILRSESELATLRSQLDSETRKITTSIETSYQVGKQREAQLQGALAAQKARVLVLNKQRDELNVLRRDI\\n', 'ESAQRAFELVSQRASQTNIESQTTQTNIAVLNPAVAPTSASKPRVMINILVSVFLGTFLGIGFALILELA\\n', 'NRKIRSTEDLVEVLELPVLGSVSSATGMLKLKHNSAGLLA\\n', '>WP_087496558.1 chain length determinant protein tyrosine kinase EpsG [Curvibacter sp. AEP1-3]\\n', 'MNDSIPSTAPLSSSNSIGSILVATGRLSQEDAARVLERQQKDRVPFGEAAIALRVLTKDDIDFALSKQFD\\n', 'YSYLSDSDNTLSPELVAAYKPFSRVGENLRAVRSQLMLRWFNTDPDRKVLAVVSPGKKEGRSFLAGNLAV\\n', 'VFAQQGERTLLIDADLRSAAGGGQQKLFRLGKSVGLSGVLAGRAGLEVAQLVPGLPGLAVLPAGAVPPNP\\n', 'QELLGRPAFGALLRIASERFDVIIIDTPAGSEYADAELVAARAGAAVLVAKQNQTKLPQTAQFARRLQDS\\n', 'GVALVGSVLNES\\n', '>WP_051443658.1 polysaccharide biosynthesis tyrosine autokinase [Curvibacter gracilis]\\n', 'MQLTAPQAAEHLHKHKQISLHDPEDEASKLDLVEYWRSITKRKWAILALGLVVALLAGVIVFALTPVYRA\\n', 'TTTVLIESSKKQVVSIEDVYSGMGQSREYFQTQVEIIKSREVAMRTINALKLWDYPEFDPRTKEKGQWQE\\n', 'LQEKLGIAETAEPKDWTTTALADAVYGKFNRQLSIEPVRLSQLAKINFESSSPALSALVANTIANTYIEN\\n', 'DLDARYKMTKQASGWLQERLSSLKTKLDESERNLQNYREKAGIVDVKGASQSGAGKQIEEVTQRLVETRL\\n', 'RRAEAENAYNQIKSVGKNGDYSSLPAVVRNNNVSEALKAQGEAERTMSEVAQRYGFEHPKYVAAEANLKS\\n', 'ARENVKRQVESVVGSVTREYEVAVGTERALEGTLNSARGSIQSLNRKEFELGVLEREVSSNRQIYDMFMT\\n', 'RAKETNVAGDLQSAVARVVDVAVVPDKPVKPQKAQIIVIAFVLGLFLGVLVALLLDRLDNTIKTTEDVEA\\n', 'KLKTPLLTTLPLLDKRDTDRLSSARLFVDHPESIYSEAIRTARTGVLLSAIDVPNRILLVTSSLPGEGKT\\n', 'TFSINLALAHAQTKRTLLIDADMRRPSIAKGLDLAPGAKGLSNLAAGTAKLDDCLQAVPGSSLSVLSSGP\\n', 'IPPNALEILLSQKFKALLDELATIYEVIVIDSPPVELVSDALVISSYATGVIYTIKAAETPYQLARKGLQ\\n', 'RIRRAEGEILGVVLNRFDFKRAEKYHGEYSGYGKYGYGKDGYQGGYGQAQANSLGKDAKKAA\\n', '>WP_084679489.1 polysaccharide biosynthesis tyrosine autokinase [Curvibacter lanceolatus]\\n', 'MKLEPILDAHAAPVPPALSSDRMGELFIQAGKLTRAQVEQIIQLQETSQLRFGEAARQLNLLSERDIQAV\\n', 'LAHQFNYVTATNLRVGLDAACPLPIANSPYSPEAEAIRRIRSELLLEARGLTPMQLAVVSPSGGEGRTYM\\n', 'AANLAFSFAQVGKRTLLIDADFRSPKIHAYFSMNNKKGLSGVLSGRSDVTLDVMTMVLPNLYVLPAGPLP\\n', 'PNPLEILQDPNLSALIDKLARDLDVIVVDTPAAMASSDSKVIARQVGAALVVGREHRTRIADLRVTVQAM\\n', 'QDVGVRVFGTVYNRYDGRSGAASSVAVSPPPPLVVRALAPAPLRAHALTGGPVAVGKPFWTHSLLSVVDQ\\n', 'VLLSGLNFAVGMCLIRFGSKSDYGLYSQLFAASLFAVGLLEALIGSPLTTLAPHMPAPQQALAIRRLQRW\\n', 'QCMAGAVLGLLFGLIAAWVVWDGVPEVAPGPVGLGFAVFVGMTTAREYRRTVWFIQTDLRSLLLSDGLYV\\n', 'LLALLGGAALALSKQVGAASILGVLSVAQGLALVVGQGPALAPTDTPSPLWSETLAAVWDKGRWAMPGMV\\n', 'VGWLGNYSFLYLASAMSGVEAAAEVSASRLLLVPVGLMVVAWSRVARPLAGRLIHARDWRSLNRLSLASL\\n', 'GGIEALSLVYMLMLVLALPWLQAHVLGAKYQGINTLVMAWGAYFLVSVARTIATTWLVSIGAFRQLFVEG\\n', 'SVVVLFMLVVASVTIPQWGALGAVLALIAMESFDFLLLLGLIAYQRRRLSRELPHA\\n', '>WP_051443222.1 polysaccharide biosynthesis tyrosine autokinase [Curvibacter gracilis]\\n', 'MKLEPILDAHAAAVPPALSSDRMGELFIQAGKLSRAQVEQIIRLQETSQLRFGEAARQLNLLTEQDIQAV\\n', 'LAHQFNYVTATNLRVGLDPACPLPIANAPYSPEAESIRRIRSELLLEGSGLAPLKVAVVSPGEGEGRTYM\\n', 'AANLAFSFAQVGKRTLLIDADFRSPKVHAYFSMNNKKGLSGVLAGRSDVTLDVMTMVLPNLYVLPAGPLP\\n', 'PNPLEILQDPHLSALIDKLAKDLDVIVVDTPAAMASSDSKVITRQVGAALIMGREHRTRVAELRATVQSM\\n', 'QDVGVRIFGTVYNRFDGRQPGAEGSGRRWMRWPVAWRFGPARGR\\n', '>WP_027477287.1 cellulose synthase operon protein YhjQ [Curvibacter gracilis]\\n', 'MKVLAVVSSKGGVGKTTVTANLACALARQGRTVVVLDLDPQNALGLHFGINPSEFRGISRASLAQQSWKS\\n', 'VVFESRTGVYVLPYGVVNEDDRDRFEHLIETRLFWLRDHLQELNLPPDAVVLLDTPPGPSVYLKQALAEA\\n', 'HLALVVVLADAASYAALPLMQRLVQTYCAGQPNFSEALYVVNQTNNSRQLSKDVSNVIRSSFGDRVVGII\\n', 'HQDQSVGDALANDLCVLDYESGSQAANDFRACAEKIAQRLPTRNATA\\n', '>TAH13498.1 hypothetical protein EAZ11_01255 [Curvibacter sp.]\\n', 'MAERALKQHAQQQLRAGLTQAQRLRAAAAALQDEPLRLQQLFRLHGKAGPGALLVVLAVPCLLPLPGTGS\\n', 'LMSLGLVALAWMIWRHFPRLVMPRRVGRFQLSAPMARRALHSLAWLYEQSARLMRARLRWWVQPGHRVWL\\n', 'APLVAAMAAIIFMPIPFGNIVPASVLLLIGLGLVFEDGLALLAGAAMGVVLVMVLAALMVSGVQWLPTLL\\n', 'AGWPT\\n', '>TAF82272.1 hypothetical protein EAZ54_05745 [Curvibacter sp.]\\n', 'MSDRHTQADRLRAAAAALQDQPLSLQQLFRLHGRAGPGALLVVLAVPCLLPVPGAGMLLSMGMVMVAWMI\\n', 'WRYYPRLVMPRKVGRFQLSPPMARRALNTLAWMYEKASAVMRTRMRWWMQPGHRVWLAPFVAAMALIIFM\\n', 'PIPFGNVVPAAALVLIGLGLVFEDGLAMLSGVVLGVALLAVLAALAGGAAHWAPELWAAWPLRPQ\\n', '>PHM19216.1 histidine kinase [Curvibacter sp. PD_MW3]\\n', 'MAGIGFELRKLLNKRSYAGVLQAYAYAGLISSGPMVLSIVGMVLIGVLSFGVVIPHILISQFQITVTYIY\\n', 'FSSLILTAPVQLSFTRFISDRLYVKDEAAVLPNFNGLLFVVLNVSILLALPVALFGLAGQTALFRLLFVM\\n', 'GLAIMSGIWVSAVFLSGMRQYKAILLIFVLGYSATPLLALLFMHFFNMEGLLLGFVAGHFLLLVGMVWLI\\n', 'YRNYSSDRFMAFDIWKPGAMYRSLMLTGLFFNLGLWVDKLMFWYYPGTGQSVVGPLHASVIYDFPIFLAY\\n', 'LTVIPGMAVFLVRIETDFVEYCAKFYEAVGGGATLDYIMRMRNQMVYYVRQGLLDIAKIQAITALVTFVL\\n', 'GEQLLQWLGISTLYLPLLFVDVVGAGLQVVMLGILNVLFYLDQRRIVVWLTGLLLVCNASFSALSIYLGA\\n', 'AWFGYGFAVAMLVTVLVGIWVLNRRLEALEFETYMLQ\\n', '>ARV19829.1 hypothetical protein AEP_02903 [Curvibacter sp. AEP1-3]\\n', 'MSDHHTQADRLRAAAAALQDQPLSLQQLFRLHGRAGPGALLVVLSVPCLLPVPGAGVFMSMGMAMVAWMI\\n', 'WRYYPRLVMPRKVGRFQLSPPMARRALNTLAWLYEKASRVMRARLRWWVQPGHRVWLAPFVAAMAMIIFL\\n', 'PIPFGNVVPAAALLLIGLGLVFEDGLAMLTGVLVGLALVAVLAGLAGGAAHWAPELWAAWPLRPQ\\n', '>CBA27723.1 hypothetical protein Csp_A03710 [Curvibacter putative symbiont of Hydra magnipapillata]\\n', 'MRILHLSMLYPPHIIGGAEKSVALLAEAQSAAGHQVAASCTTPGAAVQETINGVSVYRMPHETDFWAEEW\\n', 'PQHSSLERGLRRIKMPFNSKLERRFSEVIEDFKPDVVHTHSMTDVSTRAWLAAREQGVPIVHTLRDYDLL\\n', 'CAHSSMFKDGQRCTKRHLKCQFFTHFKKDHHLCVSAVVGVGAEILQTHIDHGYFAHVPADLRRVIWNPAV\\n', 'VDGVPPDYQKPALNGPIVFGYLGRISVDKGVGKLFEACRKLPRDGWRLVLAGRPAQDDEPLMNAAGDLPV\\n', 'DFLGFISPKVFFEQIDVLVAPSIWAEPLPRTILESYAMGIPALGADSGGIPDLIGHNNTAWLYPATDAEA\\n', 'LAERMQSILAAGRTALPGRATFQSVLDRTTPERVLQNYDEVYQRVVVQHG\\n', '>CBA31199.1 hypothetical protein Csp_C27350 [Curvibacter putative symbiont of Hydra magnipapillata]\\n', 'MHGRAGPGALLVVLSVPCLLPVPGAGVFMSMGMAMVAWMIWRYYPRLVMPRKVGRFQLSPPMARRALNTL\\n', 'AWLYEKASRVMRTRQRWWMQPGHRVWLAPFVAAMALIIFLPIPFGNVVPAAALLLIGLGLVFEDGLAMLT\\n', 'GVLVGLALVTVLAGLAGGAAHWAPELWAAWPLRPQ\\n']\n"
     ]
    }
   ],
   "source": [
    "datafile = '../data/curvibacter_exopolysaccharides.fasta'\n",
    "with open(datafile,'r') as fi:\n",
    "    print(fi.readlines())"
   ]
  },
  {
   "cell_type": "code",
   "execution_count": 197,
   "id": "7a539d12",
   "metadata": {},
   "outputs": [
    {
     "data": {
      "text/plain": [
       "True"
      ]
     },
     "execution_count": 197,
     "metadata": {},
     "output_type": "execute_result"
    }
   ],
   "source": [
    "my_string = \"hello world\"\n",
    "my_string.__contains__('wo')"
   ]
  },
  {
   "cell_type": "code",
   "execution_count": 198,
   "id": "d0be532b",
   "metadata": {},
   "outputs": [
    {
     "name": "stdout",
     "output_type": "stream",
     "text": [
      "Help on method-wrapper object:\n",
      "\n",
      "__contains__ = class method-wrapper(object)\n",
      " |  Methods defined here:\n",
      " |  \n",
      " |  __call__(self, /, *args, **kwargs)\n",
      " |      Call self as a function.\n",
      " |  \n",
      " |  __eq__(self, value, /)\n",
      " |      Return self==value.\n",
      " |  \n",
      " |  __ge__(self, value, /)\n",
      " |      Return self>=value.\n",
      " |  \n",
      " |  __getattribute__(self, name, /)\n",
      " |      Return getattr(self, name).\n",
      " |  \n",
      " |  __gt__(self, value, /)\n",
      " |      Return self>value.\n",
      " |  \n",
      " |  __hash__(self, /)\n",
      " |      Return hash(self).\n",
      " |  \n",
      " |  __le__(self, value, /)\n",
      " |      Return self<=value.\n",
      " |  \n",
      " |  __lt__(self, value, /)\n",
      " |      Return self<value.\n",
      " |  \n",
      " |  __ne__(self, value, /)\n",
      " |      Return self!=value.\n",
      " |  \n",
      " |  __reduce__(...)\n",
      " |      Helper for pickle.\n",
      " |  \n",
      " |  __repr__(self, /)\n",
      " |      Return repr(self).\n",
      " |  \n",
      " |  ----------------------------------------------------------------------\n",
      " |  Data descriptors defined here:\n",
      " |  \n",
      " |  __objclass__\n",
      " |  \n",
      " |  __self__\n",
      " |  \n",
      " |  __text_signature__\n",
      "\n"
     ]
    }
   ],
   "source": [
    "help(my_string.__contains__)"
   ]
  },
  {
   "cell_type": "code",
   "execution_count": 213,
   "id": "58ee612f",
   "metadata": {},
   "outputs": [],
   "source": [
    "def my_add(var_1,var_2=10):\n",
    "    return var_1 + var_2"
   ]
  },
  {
   "cell_type": "code",
   "execution_count": 208,
   "id": "264939ce",
   "metadata": {},
   "outputs": [
    {
     "data": {
      "text/plain": [
       "11"
      ]
     },
     "execution_count": 208,
     "metadata": {},
     "output_type": "execute_result"
    }
   ],
   "source": [
    "my_add(var_1=6,var_2=5)"
   ]
  },
  {
   "cell_type": "code",
   "execution_count": 239,
   "id": "a82b464b",
   "metadata": {},
   "outputs": [],
   "source": [
    "'''my_multiply\n",
    "    \n",
    "    Multiplies two integer values.\n",
    "    \n",
    "    :param var_1\n",
    "        :type int\n",
    "    :param var_2\n",
    "        :type int\n",
    "        \n",
    "    :return res\n",
    "        :type int\n",
    "'''\n",
    "def my_multiply(var_1:int,var_2:int)->int:\n",
    "    res = 0\n",
    "    for i in range(var_1):\n",
    "        #do something with add\n",
    "        res = my_add(res,var_2)\n",
    "    return res"
   ]
  },
  {
   "cell_type": "code",
   "execution_count": 240,
   "id": "0f22b0ae",
   "metadata": {},
   "outputs": [],
   "source": [
    "res = my_multiply(2,3)"
   ]
  },
  {
   "cell_type": "code",
   "execution_count": 249,
   "id": "7f834888",
   "metadata": {},
   "outputs": [],
   "source": [
    "def convert_km_to_miles(km:int,factor=0.621371)->float:\n",
    "     return km*factor"
   ]
  },
  {
   "cell_type": "code",
   "execution_count": 250,
   "id": "608448ad",
   "metadata": {},
   "outputs": [],
   "source": [
    "miles = convert_km_to_miles(12)"
   ]
  },
  {
   "cell_type": "code",
   "execution_count": 251,
   "id": "bf8ad5d8",
   "metadata": {},
   "outputs": [
    {
     "data": {
      "text/plain": [
       "7.4564520000000005"
      ]
     },
     "execution_count": 251,
     "metadata": {},
     "output_type": "execute_result"
    }
   ],
   "source": [
    "miles"
   ]
  }
 ],
 "metadata": {
  "kernelspec": {
   "display_name": "Python 3",
   "language": "python",
   "name": "python3"
  },
  "language_info": {
   "codemirror_mode": {
    "name": "ipython",
    "version": 3
   },
   "file_extension": ".py",
   "mimetype": "text/x-python",
   "name": "python",
   "nbconvert_exporter": "python",
   "pygments_lexer": "ipython3",
   "version": "3.8.12"
  }
 },
 "nbformat": 4,
 "nbformat_minor": 5
}
