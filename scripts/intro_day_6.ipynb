{
 "cells": [
  {
   "cell_type": "code",
   "execution_count": null,
   "id": "d9cc2d05",
   "metadata": {},
   "outputs": [],
   "source": [
    "import pandas as pd"
   ]
  },
  {
   "cell_type": "code",
   "execution_count": null,
   "id": "c0808449",
   "metadata": {},
   "outputs": [],
   "source": [
    "!wossname alignment"
   ]
  },
  {
   "cell_type": "code",
   "execution_count": null,
   "id": "e8195d7c",
   "metadata": {},
   "outputs": [],
   "source": [
    "!ls"
   ]
  },
  {
   "cell_type": "code",
   "execution_count": null,
   "id": "1baab0ba",
   "metadata": {},
   "outputs": [],
   "source": [
    "blast_table = pd.read_table(\"../data/sequences/blastp_output.tab\")"
   ]
  },
  {
   "cell_type": "code",
   "execution_count": null,
   "id": "946cd7db",
   "metadata": {},
   "outputs": [],
   "source": [
    "blast_table.head()"
   ]
  },
  {
   "cell_type": "code",
   "execution_count": null,
   "id": "11801023",
   "metadata": {},
   "outputs": [],
   "source": [
    "!blastdbcmd -db ../data/genomes/database_sequences.faa -entry WP_010871319.1"
   ]
  },
  {
   "cell_type": "code",
   "execution_count": null,
   "id": "ee4776d4",
   "metadata": {},
   "outputs": [],
   "source": [
    "!ls ../data/genomes"
   ]
  },
  {
   "cell_type": "code",
   "execution_count": null,
   "id": "dac1b164",
   "metadata": {},
   "outputs": [],
   "source": [
    "!cat ../data/genomes/GCF_* > ../data/genomes/database_sequences.faa"
   ]
  },
  {
   "cell_type": "code",
   "execution_count": null,
   "id": "65931963",
   "metadata": {},
   "outputs": [],
   "source": [
    "!rm ../data/genomes/database_sequences.faa.*"
   ]
  },
  {
   "cell_type": "code",
   "execution_count": null,
   "id": "904e6aea",
   "metadata": {},
   "outputs": [],
   "source": [
    "!makeblastdb -h"
   ]
  },
  {
   "cell_type": "code",
   "execution_count": null,
   "id": "b5b548de",
   "metadata": {},
   "outputs": [],
   "source": [
    "!makeblastdb -in ../data/genomes/database_sequences.faa -dbtype 'prot' -input_type 'fasta' -parse_seqids"
   ]
  },
  {
   "cell_type": "code",
   "execution_count": null,
   "id": "cd4004f2",
   "metadata": {},
   "outputs": [],
   "source": [
    "blast_table.head()"
   ]
  },
  {
   "cell_type": "code",
   "execution_count": null,
   "id": "a2f7f7df",
   "metadata": {
    "scrolled": true
   },
   "outputs": [],
   "source": [
    "!blastdbcmd -db ../data/genomes/database_sequences.faa -entry NP_179452.1 > ../data/sequences/ara_polyprenyp.faa"
   ]
  },
  {
   "cell_type": "code",
   "execution_count": null,
   "id": "e6f9fde4",
   "metadata": {},
   "outputs": [],
   "source": [
    "!needle -asequence ../data/sequences/crte.faa -bsequence ../data/sequences/ara_polyprenyp.faa -gapopen 10.0 -gapextend 0.5 -out ../data/sequences/needle_ara.txt"
   ]
  },
  {
   "cell_type": "code",
   "execution_count": null,
   "id": "161a270c",
   "metadata": {},
   "outputs": [],
   "source": [
    "filepath = '../data/sequences/needle.txt'\n",
    "def read_needle_file(filepath:str)->dict:\n",
    "    with open(filepath,'r') as needlefile:\n",
    "        similarity_values={}\n",
    "        lines = needlefile.readlines()\n",
    "        for line in lines:\n",
    "            if any([\"Length\" in line,\n",
    "                    \"Gaps:\" in line, \n",
    "                    \"Similarity\" in line, \n",
    "                    \"Identity\" in line, \n",
    "                    \"Score\" in line]):\n",
    "                key = line.split(\" \")[1].split(\":\")[0]\n",
    "                value = \"\".join(line.split(\" \")[2:])\n",
    "                similarity_values[key] = value.strip(\"\\n\")\n",
    "    return similarity_values"
   ]
  },
  {
   "cell_type": "code",
   "execution_count": null,
   "id": "4577b454",
   "metadata": {},
   "outputs": [],
   "source": [
    "read_needle_file(filepath)"
   ]
  },
  {
   "cell_type": "code",
   "execution_count": null,
   "id": "a3fc5aac",
   "metadata": {},
   "outputs": [],
   "source": [
    "!water -asequence ../data/sequences/crte.faa -bsequence ../data/sequences/ara_polyprenyp.faa -gapopen 10.0 -gapextend 0.5 -out ../data/sequences/water_ara.txt"
   ]
  }
 ],
 "metadata": {
  "kernelspec": {
   "display_name": "Python 3",
   "language": "python",
   "name": "python3"
  },
  "language_info": {
   "codemirror_mode": {
    "name": "ipython",
    "version": 3
   },
   "file_extension": ".py",
   "mimetype": "text/x-python",
   "name": "python",
   "nbconvert_exporter": "python",
   "pygments_lexer": "ipython3",
   "version": "3.8.12"
  }
 },
 "nbformat": 4,
 "nbformat_minor": 5
}
