{
 "cells": [
  {
   "cell_type": "code",
   "execution_count": 2,
   "id": "a2653a0f",
   "metadata": {},
   "outputs": [],
   "source": [
    "import numpy as np\n",
    "import matplotlib.pyplot as plt"
   ]
  },
  {
   "cell_type": "markdown",
   "id": "70582d87",
   "metadata": {},
   "source": [
    "# Recursive Functions"
   ]
  },
  {
   "cell_type": "code",
   "execution_count": 3,
   "id": "3941b01b",
   "metadata": {},
   "outputs": [],
   "source": [
    "def factorial(n):\n",
    "    if n == 1:\n",
    "        return 1\n",
    "    else:\n",
    "        return n * factorial(n-1)"
   ]
  },
  {
   "cell_type": "code",
   "execution_count": 4,
   "id": "497b0b3c",
   "metadata": {},
   "outputs": [
    {
     "data": {
      "text/plain": [
       "6"
      ]
     },
     "execution_count": 4,
     "metadata": {},
     "output_type": "execute_result"
    }
   ],
   "source": [
    "factorial(3)"
   ]
  },
  {
   "cell_type": "code",
   "execution_count": 5,
   "id": "2052e7b3",
   "metadata": {},
   "outputs": [],
   "source": [
    "def fib(n):\n",
    "    if n == 0:\n",
    "        return n\n",
    "    elif n == 1:\n",
    "        return 1 + fib(n-1)\n",
    "    else:\n",
    "        return fib(n - 1) + fib(n - 2)"
   ]
  },
  {
   "cell_type": "code",
   "execution_count": 6,
   "id": "f0b48f4c",
   "metadata": {},
   "outputs": [
    {
     "data": {
      "text/plain": [
       "13"
      ]
     },
     "execution_count": 6,
     "metadata": {},
     "output_type": "execute_result"
    }
   ],
   "source": [
    "fib(7)"
   ]
  },
  {
   "cell_type": "markdown",
   "id": "e6e9fb22",
   "metadata": {},
   "source": [
    "# 6-Dice Simulation"
   ]
  },
  {
   "cell_type": "code",
   "execution_count": 7,
   "id": "8125859a",
   "metadata": {},
   "outputs": [],
   "source": [
    "#help(np.random.randint)"
   ]
  },
  {
   "cell_type": "code",
   "execution_count": 8,
   "id": "d487f716",
   "metadata": {},
   "outputs": [],
   "source": [
    "def dice(tosses):\n",
    "    return np.random.randint(1,7,tosses)"
   ]
  },
  {
   "cell_type": "code",
   "execution_count": 9,
   "id": "30646d1d",
   "metadata": {},
   "outputs": [
    {
     "data": {
      "text/plain": [
       "array([2, 3, 5, 3, 3])"
      ]
     },
     "execution_count": 9,
     "metadata": {},
     "output_type": "execute_result"
    }
   ],
   "source": [
    "dice(5)"
   ]
  },
  {
   "cell_type": "markdown",
   "id": "b8429e57",
   "metadata": {},
   "source": [
    "# Distribution of the value 6 with rising number of tosses"
   ]
  },
  {
   "cell_type": "code",
   "execution_count": 10,
   "id": "d39bfc73",
   "metadata": {},
   "outputs": [],
   "source": [
    "arr = dice(100)"
   ]
  },
  {
   "cell_type": "code",
   "execution_count": 11,
   "id": "5cc9309c",
   "metadata": {},
   "outputs": [
    {
     "data": {
      "text/plain": [
       "14"
      ]
     },
     "execution_count": 11,
     "metadata": {},
     "output_type": "execute_result"
    }
   ],
   "source": [
    "np.count_nonzero(arr == 6)"
   ]
  },
  {
   "cell_type": "code",
   "execution_count": 12,
   "id": "1b19bc95",
   "metadata": {},
   "outputs": [
    {
     "data": {
      "text/plain": [
       "14"
      ]
     },
     "execution_count": 12,
     "metadata": {},
     "output_type": "execute_result"
    }
   ],
   "source": [
    "(arr == 6).sum()"
   ]
  },
  {
   "cell_type": "code",
   "execution_count": 13,
   "id": "998e754e",
   "metadata": {},
   "outputs": [
    {
     "data": {
      "text/plain": [
       "14"
      ]
     },
     "execution_count": 13,
     "metadata": {},
     "output_type": "execute_result"
    }
   ],
   "source": [
    "len(arr[arr==6])"
   ]
  },
  {
   "cell_type": "code",
   "execution_count": 14,
   "id": "9a98a7f1",
   "metadata": {},
   "outputs": [
    {
     "data": {
      "text/plain": [
       "14"
      ]
     },
     "execution_count": 14,
     "metadata": {},
     "output_type": "execute_result"
    }
   ],
   "source": [
    "arr.tolist().count(6)"
   ]
  },
  {
   "cell_type": "code",
   "execution_count": 15,
   "id": "dcb39917",
   "metadata": {},
   "outputs": [
    {
     "data": {
      "text/plain": [
       "14.0"
      ]
     },
     "execution_count": 15,
     "metadata": {},
     "output_type": "execute_result"
    }
   ],
   "source": [
    "np.apply_along_axis(lambda x: np.floor(x/6),0,arr).sum()"
   ]
  },
  {
   "cell_type": "code",
   "execution_count": 16,
   "id": "07ddd906",
   "metadata": {},
   "outputs": [],
   "source": [
    "tosses = [10,100,1000,10000,100000]\n",
    "amount_of_six = [(dice(toss) == 6).sum() for toss in tosses]\n",
    "percentage = [100/toss * occurences for toss, occurences in zip(tosses, amount_of_six)]"
   ]
  },
  {
   "cell_type": "code",
   "execution_count": 17,
   "id": "3e77e348",
   "metadata": {},
   "outputs": [
    {
     "name": "stdout",
     "output_type": "stream",
     "text": [
      "[+] There are 1 occurences of 6 by 10 tosses, which is 10.0%\n",
      "[+] There are 13 occurences of 6 by 100 tosses, which is 13.0%\n",
      "[+] There are 166 occurences of 6 by 1000 tosses, which is 16.6%\n",
      "[+] There are 1664 occurences of 6 by 10000 tosses, which is 16.64%\n",
      "[+] There are 16732 occurences of 6 by 100000 tosses, which is 16.73%\n"
     ]
    }
   ],
   "source": [
    "for t,p,a in zip(tosses,percentage,amount_of_six):\n",
    "    print(\"[+] There are {} occurences of 6 by {} tosses, which is {}%\".format(a,t,round(p,2)))"
   ]
  },
  {
   "cell_type": "code",
   "execution_count": 18,
   "id": "4e6f3583",
   "metadata": {},
   "outputs": [
    {
     "data": {
      "image/png": "[encoded data removed]",
      "text/plain": [
       "<Figure size 432x288 with 1 Axes>"
      ]
     },
     "metadata": {
      "needs_background": "light"
     },
     "output_type": "display_data"
    }
   ],
   "source": [
    "x = list(range(len(percentage)))\n",
    "plt.bar(height=percentage,x=x,tick_label=tosses, edgecolor='black', linewidth=2, color='royalblue')\n",
    "plt.xlabel('number of tosses')\n",
    "plt.ylabel('percentage of the occurence of 6')\n",
    "for i, v in enumerate(percentage):\n",
    "    plt.text(x[i] - 0.20, v + 0.9, str(round(v,2)))\n",
    "plt.ylim(0,100)\n",
    "plt.grid()"
   ]
  },
  {
   "cell_type": "markdown",
   "id": "44300154",
   "metadata": {},
   "source": [
    "# Expected occurences vs. real occurences"
   ]
  },
  {
   "cell_type": "code",
   "execution_count": 19,
   "id": "986f4b33",
   "metadata": {},
   "outputs": [],
   "source": [
    "tosses = [10,20,30,40,50]\n",
    "amount_of_six = [(dice(toss) == 6).sum() for toss in tosses]\n",
    "expected_number = [toss * (1/6) for toss in tosses]"
   ]
  },
  {
   "cell_type": "code",
   "execution_count": 20,
   "id": "a5d5cebb",
   "metadata": {},
   "outputs": [
    {
     "data": {
      "text/plain": [
       "<BarContainer object of 5 artists>"
      ]
     },
     "execution_count": 20,
     "metadata": {},
     "output_type": "execute_result"
    },
    {
     "data": {
      "image/png": "[encoded data removed]",
      "text/plain": [
       "<Figure size 432x288 with 1 Axes>"
      ]
     },
     "metadata": {
      "needs_background": "light"
     },
     "output_type": "display_data"
    }
   ],
   "source": [
    "plt.bar(height=amount_of_six,x=x,tick_label=tosses, edgecolor='black', linewidth=2, color='royalblue', alpha=0.5)\n",
    "plt.bar(height=expected_number,x=x,tick_label=tosses,edgecolor='black',linewidth=2, color='red',alpha=0.5)"
   ]
  }
 ],
 "metadata": {
  "kernelspec": {
   "display_name": "Python 3",
   "language": "python",
   "name": "python3"
  },
  "language_info": {
   "codemirror_mode": {
    "name": "ipython",
    "version": 3
   },
   "file_extension": ".py",
   "mimetype": "text/x-python",
   "name": "python",
   "nbconvert_exporter": "python",
   "pygments_lexer": "ipython3",
   "version": "3.8.12"
  }
 },
 "nbformat": 4,
 "nbformat_minor": 5
}
