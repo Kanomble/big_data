{
 "cells": [
  {
   "cell_type": "code",
   "execution_count": null,
   "id": "46c1a977",
   "metadata": {},
   "outputs": [],
   "source": [
    "import numpy as np\n",
    "import pandas as pd\n",
    "import matplotlib.pyplot as plt\n",
    "import scipy.stats as stats"
   ]
  },
  {
   "cell_type": "code",
   "execution_count": null,
   "id": "6bc74582",
   "metadata": {},
   "outputs": [],
   "source": [
    "def one_sample_ttest(sample_array:np.array,population_array:np.array)->float:\n",
    "    sample_size = len(sample_array)\n",
    "    sample_mean = np.mean(sample_array)\n",
    "    population_mean = np.mean(population_array)\n",
    "    sample_std = np.std(sample_array,ddof=1)\n",
    "    \n",
    "    t = (sample_mean-population_mean)/(sample_std/np.sqrt(sample_size))\n",
    "    return t"
   ]
  },
  {
   "cell_type": "code",
   "execution_count": null,
   "id": "7b198f62",
   "metadata": {},
   "outputs": [],
   "source": [
    "wines = pd.read_csv(\"../data/wine.csv\")"
   ]
  },
  {
   "cell_type": "code",
   "execution_count": null,
   "id": "ffc0ac81",
   "metadata": {},
   "outputs": [],
   "source": [
    "wines_cat_1 = wines[wines['wine_type'] == 1]\n",
    "wines_cat_2 = wines[wines['wine_type'] == 2]"
   ]
  },
  {
   "cell_type": "code",
   "execution_count": null,
   "id": "240a60ae",
   "metadata": {},
   "outputs": [],
   "source": [
    "one_sample_ttest(wines_cat_1['alcalinity'],wines['alcalinity'])"
   ]
  },
  {
   "cell_type": "code",
   "execution_count": null,
   "id": "399da950",
   "metadata": {},
   "outputs": [],
   "source": [
    "wines_cat_1['alcalinity'].mean()"
   ]
  },
  {
   "cell_type": "code",
   "execution_count": null,
   "id": "afa9a0e7",
   "metadata": {},
   "outputs": [],
   "source": [
    "wines['alcalinity'].mean()"
   ]
  },
  {
   "cell_type": "code",
   "execution_count": null,
   "id": "ed6f06ce",
   "metadata": {},
   "outputs": [],
   "source": [
    "stats.ttest_1samp(wines_cat_1['alcalinity'],wines['alcalinity'].mean())"
   ]
  },
  {
   "cell_type": "code",
   "execution_count": null,
   "id": "a0591b4c",
   "metadata": {},
   "outputs": [],
   "source": [
    "wines['alcalinity'].hist()"
   ]
  },
  {
   "cell_type": "code",
   "execution_count": null,
   "id": "285faf67",
   "metadata": {
    "scrolled": true
   },
   "outputs": [],
   "source": [
    "stats.shapiro(wines['alcalinity'])"
   ]
  },
  {
   "cell_type": "code",
   "execution_count": null,
   "id": "a51bef44",
   "metadata": {},
   "outputs": [],
   "source": [
    "help(stats.wilcoxon)"
   ]
  },
  {
   "cell_type": "code",
   "execution_count": null,
   "id": "118d19dd",
   "metadata": {},
   "outputs": [],
   "source": [
    "stats.wilcoxon(wines_cat_1['alcalinity'][0:50],wines_cat_2['alcalinity'][0:50])"
   ]
  },
  {
   "cell_type": "code",
   "execution_count": null,
   "id": "eef8d1ab",
   "metadata": {},
   "outputs": [],
   "source": [
    "stats.wilcoxon(wines['alcalinity'])"
   ]
  },
  {
   "cell_type": "code",
   "execution_count": null,
   "id": "10d279f7",
   "metadata": {},
   "outputs": [],
   "source": [
    "wines.head()"
   ]
  },
  {
   "cell_type": "code",
   "execution_count": null,
   "id": "0bec1a1e",
   "metadata": {},
   "outputs": [],
   "source": [
    "wines[(wines['color'] >= 7.0) & (wines['total_phenols'] >= 3.0)]"
   ]
  },
  {
   "cell_type": "code",
   "execution_count": null,
   "id": "dffba94e",
   "metadata": {},
   "outputs": [],
   "source": [
    "for i in range(len(wines['color'])):\n",
    "    if wines['color'][i] >= 7.0:\n",
    "        print(i)"
   ]
  },
  {
   "cell_type": "code",
   "execution_count": null,
   "id": "bb98a227",
   "metadata": {},
   "outputs": [],
   "source": [
    "stats.shapiro(wines['color'])"
   ]
  },
  {
   "cell_type": "code",
   "execution_count": null,
   "id": "98517709",
   "metadata": {},
   "outputs": [],
   "source": [
    "wines['color'].hist()"
   ]
  },
  {
   "cell_type": "code",
   "execution_count": null,
   "id": "ecdcd40d",
   "metadata": {},
   "outputs": [],
   "source": [
    "wines['color'].plot(kind=\"density\")"
   ]
  },
  {
   "cell_type": "code",
   "execution_count": null,
   "id": "0e540b5f",
   "metadata": {},
   "outputs": [],
   "source": [
    "help(stats.ttest_1samp)"
   ]
  },
  {
   "cell_type": "code",
   "execution_count": null,
   "id": "a413a390",
   "metadata": {},
   "outputs": [],
   "source": [
    "stats.ttest_1samp(wines[wines['wine_type'] == 3]['color'],np.mean(wines['color']),alternative='greater')"
   ]
  },
  {
   "cell_type": "code",
   "execution_count": null,
   "id": "cca92503",
   "metadata": {
    "scrolled": true
   },
   "outputs": [],
   "source": [
    "mensa = pd.read_csv('../data/mensa.csv', index_col=0)"
   ]
  },
  {
   "cell_type": "code",
   "execution_count": null,
   "id": "13977658",
   "metadata": {},
   "outputs": [],
   "source": [
    "mensa.columns"
   ]
  },
  {
   "cell_type": "code",
   "execution_count": null,
   "id": "5e4766f2",
   "metadata": {},
   "outputs": [],
   "source": [
    "mensa.mensa_food_quality_general.mean()"
   ]
  },
  {
   "cell_type": "code",
   "execution_count": null,
   "id": "78394d3b",
   "metadata": {},
   "outputs": [],
   "source": [
    "mensa[' mensa_food_quality_today'].mean()"
   ]
  },
  {
   "cell_type": "code",
   "execution_count": null,
   "id": "a880ecb5",
   "metadata": {},
   "outputs": [],
   "source": [
    "stats.ttest_ind(mensa.mensa_food_quality_general,mensa[' mensa_food_quality_today'],equal_var=False)"
   ]
  },
  {
   "cell_type": "code",
   "execution_count": null,
   "id": "02f1d7d5",
   "metadata": {},
   "outputs": [],
   "source": [
    "help(stats.ttest_ind)"
   ]
  },
  {
   "cell_type": "code",
   "execution_count": null,
   "id": "303530f6",
   "metadata": {},
   "outputs": [],
   "source": [
    "def ind_two_sample_ttest(arr_1:np.array,arr_2:np.array)->float:\n",
    "    x_1 = np.mean(arr_1)\n",
    "    x_2 = np.mean(arr_2)\n",
    "    sem_1 = np.std(arr_1)/np.sqrt(len(arr_1))\n",
    "    sem_2 = np.std(arr_2)/np.sqrt(len(arr_2))\n",
    "    return (x_1 - x_2)/(sem_1 + sem_2)"
   ]
  },
  {
   "cell_type": "code",
   "execution_count": null,
   "id": "222c419d",
   "metadata": {},
   "outputs": [],
   "source": [
    "ind_two_sample_ttest(mensa.mensa_food_quality_general,mensa[' mensa_food_quality_today'])"
   ]
  }
 ],
 "metadata": {
  "kernelspec": {
   "display_name": "Python 3",
   "language": "python",
   "name": "python3"
  },
  "language_info": {
   "codemirror_mode": {
    "name": "ipython",
    "version": 3
   },
   "file_extension": ".py",
   "mimetype": "text/x-python",
   "name": "python",
   "nbconvert_exporter": "python",
   "pygments_lexer": "ipython3",
   "version": "3.8.12"
  }
 },
 "nbformat": 4,
 "nbformat_minor": 5
}
