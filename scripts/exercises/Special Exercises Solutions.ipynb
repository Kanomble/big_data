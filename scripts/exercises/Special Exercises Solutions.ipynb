{
 "cells": [
  {
   "cell_type": "markdown",
   "id": "c297ac93",
   "metadata": {},
   "source": [
    "<div class=\"alert alert-info\">\n",
    "<b>Exercise 1</b><br>\n",
    "a) Download a fasta file from NCBI: https://www.ncbi.nlm.nih.gov/gene/854068 </br>\n",
    "b) Load the fasta file into your Jupyter Notebook and save the content into a list (<i>fhandle.readlines()</i>). Use the <i> open </i> function, in order to do so, read the description in <i> help(open) </i> or google it. Make yourself familiar with the concept of filepaths (google: dateipfad). You can check your current working directory with the <i> os </i> package.\n",
    "<hr>\n",
    "<br>\n",
    "<b> Hint: </b> Use tab-completion inside \"\" for seeing the content of your current\n",
    "working directory\n",
    "</div>"
   ]
  },
  {
   "cell_type": "code",
   "execution_count": 1,
   "id": "724a1ff8",
   "metadata": {
    "scrolled": true
   },
   "outputs": [],
   "source": [
    "import os"
   ]
  },
  {
   "cell_type": "code",
   "execution_count": 2,
   "id": "346f3dc2",
   "metadata": {
    "scrolled": true
   },
   "outputs": [
    {
     "data": {
      "text/plain": [
       "'/BigData/applications/scripts/exercises'"
      ]
     },
     "execution_count": 2,
     "metadata": {},
     "output_type": "execute_result"
    }
   ],
   "source": [
    "os.getcwd() #this is also a path"
   ]
  },
  {
   "cell_type": "code",
   "execution_count": 3,
   "id": "b7057e27",
   "metadata": {
    "scrolled": true
   },
   "outputs": [],
   "source": [
    "#this is a filepath to the file curvibacter_eps_proteins.faa\n",
    "#which is located in the data folder - my directory structure is the same\n",
    "#as in the github repository: https://github.com/Kanomble/big_data\n",
    "#\"..\" are used for pointing at a directory above the current directory\n",
    "#e.g. if you would like to go to the scripts directory from the current\n",
    "#working directory (look at the os.getcwd() commmand above) you need to \n",
    "#use these double dots!\n",
    "fhandle = \"../../data/curvibacter_eps_proteins.faa\""
   ]
  },
  {
   "cell_type": "code",
   "execution_count": 4,
   "id": "df8887f9",
   "metadata": {},
   "outputs": [
    {
     "data": {
      "text/plain": [
       "['.ipynb_checkpoints',\n",
       " '01_Exercise_Basics_Solutions.ipynb',\n",
       " '02_Exercise_Basics2_Solutions.ipynb',\n",
       " '03_Exercise_Numpy_Solutions.ipynb',\n",
       " '04_Exercise_Pandas_Solutions.ipynb',\n",
       " '05_Exercise_Matplotlib_Solutions.ipynb',\n",
       " 'blatt06.ipynb',\n",
       " 'Exercise Fasta File Splitting.ipynb',\n",
       " 'Special Exercises.ipynb',\n",
       " 'Untitled.ipynb']"
      ]
     },
     "execution_count": 4,
     "metadata": {},
     "output_type": "execute_result"
    }
   ],
   "source": [
    "os.listdir()"
   ]
  },
  {
   "cell_type": "code",
   "execution_count": 5,
   "id": "106863b5",
   "metadata": {},
   "outputs": [
    {
     "data": {
      "text/plain": [
       "True"
      ]
     },
     "execution_count": 5,
     "metadata": {},
     "output_type": "execute_result"
    }
   ],
   "source": [
    "fhandle = \"../../data/gene.fna\"\n",
    "os.path.isfile(fhandle)"
   ]
  },
  {
   "cell_type": "code",
   "execution_count": 6,
   "id": "85660f63",
   "metadata": {},
   "outputs": [],
   "source": [
    "with open(fhandle,'r') as file:\n",
    "    file_content = file.readlines()"
   ]
  },
  {
   "cell_type": "code",
   "execution_count": 7,
   "id": "f3d3bcc1",
   "metadata": {},
   "outputs": [
    {
     "data": {
      "text/plain": [
       "list"
      ]
     },
     "execution_count": 7,
     "metadata": {},
     "output_type": "execute_result"
    }
   ],
   "source": [
    "type(file_content)"
   ]
  },
  {
   "cell_type": "code",
   "execution_count": 8,
   "id": "fde6e383",
   "metadata": {},
   "outputs": [
    {
     "data": {
      "text/plain": [
       "['>NC_001147.6:c160594-159548 ADH1 [organism=Saccharomyces cerevisiae S288C] [GeneID=854068] [chromosome=XV]\\n',\n",
       " 'ATGTCTATCCCAGAAACTCAAAAAGGTGTTATCTTCTACGAATCCCACGGTAAGTTGGAATACAAAGATA\\n',\n",
       " 'TTCCAGTTCCAAAGCCAAAGGCCAACGAATTGTTGATCAACGTTAAATACTCTGGTGTCTGTCACACTGA\\n',\n",
       " 'CTTGCACGCTTGGCACGGTGACTGGCCATTGCCAGTTAAGCTACCATTAGTCGGTGGTCACGAAGGTGCC\\n',\n",
       " 'GGTGTCGTTGTCGGCATGGGTGAAAACGTTAAGGGCTGGAAGATCGGTGACTACGCCGGTATCAAATGGT\\n',\n",
       " 'TGAACGGTTCTTGTATGGCCTGTGAATACTGTGAATTGGGTAACGAATCCAACTGTCCTCACGCTGACTT\\n',\n",
       " 'GTCTGGTTACACCCACGACGGTTCTTTCCAACAATACGCTACCGCTGACGCTGTTCAAGCCGCTCACATT\\n',\n",
       " 'CCTCAAGGTACCGACTTGGCCCAAGTCGCCCCCATCTTGTGTGCTGGTATCACCGTCTACAAGGCTTTGA\\n',\n",
       " 'AGTCTGCTAACTTGATGGCCGGTCACTGGGTTGCTATCTCCGGTGCTGCTGGTGGTCTAGGTTCTTTGGC\\n',\n",
       " 'TGTTCAATACGCCAAGGCTATGGGTTACAGAGTCTTGGGTATTGACGGTGGTGAAGGTAAGGAAGAATTA\\n',\n",
       " 'TTCAGATCCATCGGTGGTGAAGTCTTCATTGACTTCACTAAGGAAAAGGACATTGTCGGTGCTGTTCTAA\\n',\n",
       " 'AGGCCACTGACGGTGGTGCTCACGGTGTCATCAACGTTTCCGTTTCCGAAGCCGCTATTGAAGCTTCTAC\\n',\n",
       " 'CAGATACGTTAGAGCTAACGGTACCACCGTTTTGGTCGGTATGCCAGCTGGTGCCAAGTGTTGTTCTGAT\\n',\n",
       " 'GTCTTCAACCAAGTCGTCAAGTCCATCTCTATTGTTGGTTCTTACGTCGGTAACAGAGCTGACACCAGAG\\n',\n",
       " 'AAGCTTTGGACTTCTTCGCCAGAGGTTTGGTCAAGTCTCCAATCAAGGTTGTCGGCTTGTCTACCTTGCC\\n',\n",
       " 'AGAAATTTACGAAAAGATGGAAAAGGGTCAAATCGTTGGTAGATACGTTGTTGACACTTCTAAATAA\\n']"
      ]
     },
     "execution_count": 8,
     "metadata": {},
     "output_type": "execute_result"
    }
   ],
   "source": [
    "file_content"
   ]
  },
  {
   "cell_type": "markdown",
   "id": "c9c5bfcf",
   "metadata": {},
   "source": [
    "<div class=\"alert alert-info\">\n",
    "<b>Exercise 2</b><br>\n",
    "a) Translate the DNA sequence into protein! Use a dictionary for this purpose!</br>\n",
    "b) Compare your protein sequence with the corresponding available protein sequence from NCBI.\n",
    "</div>"
   ]
  },
  {
   "cell_type": "code",
   "execution_count": 9,
   "id": "1ac04e39",
   "metadata": {},
   "outputs": [],
   "source": [
    "codon_sun = {\n",
    "    'ATA':'I', 'ATC':'I', 'ATT':'I', 'ATG':'M',\n",
    "    'ACA':'T', 'ACC':'T', 'ACG':'T', 'ACT':'T',\n",
    "    'AAC':'N', 'AAT':'N', 'AAA':'K', 'AAG':'K',\n",
    "    'AGC':'S', 'AGT':'S', 'AGA':'R', 'AGG':'R',                \n",
    "    'CTA':'L', 'CTC':'L', 'CTG':'L', 'CTT':'L',\n",
    "    'CCA':'P', 'CCC':'P', 'CCG':'P', 'CCT':'P',\n",
    "    'CAC':'H', 'CAT':'H', 'CAA':'Q', 'CAG':'Q',\n",
    "    'CGA':'R', 'CGC':'R', 'CGG':'R', 'CGT':'R',\n",
    "    'GTA':'V', 'GTC':'V', 'GTG':'V', 'GTT':'V',\n",
    "    'GCA':'A', 'GCC':'A', 'GCG':'A', 'GCT':'A',\n",
    "    'GAC':'D', 'GAT':'D', 'GAA':'E', 'GAG':'E',\n",
    "    'GGA':'G', 'GGC':'G', 'GGG':'G', 'GGT':'G',\n",
    "    'TCA':'S', 'TCC':'S', 'TCG':'S', 'TCT':'S',\n",
    "    'TTC':'F', 'TTT':'F', 'TTA':'L', 'TTG':'L',\n",
    "    'TAC':'Y', 'TAT':'Y', 'TAA':'_', 'TAG':'_',\n",
    "    'TGC':'C', 'TGT':'C', 'TGA':'_', 'TGG':'W',\n",
    "}"
   ]
  },
  {
   "cell_type": "code",
   "execution_count": 10,
   "id": "43f757f7",
   "metadata": {},
   "outputs": [
    {
     "data": {
      "text/plain": [
       "'M'"
      ]
     },
     "execution_count": 10,
     "metadata": {},
     "output_type": "execute_result"
    }
   ],
   "source": [
    "codon_sun['ATG']"
   ]
  },
  {
   "cell_type": "code",
   "execution_count": 11,
   "id": "31837152",
   "metadata": {},
   "outputs": [],
   "source": [
    "header = file_content[0]"
   ]
  },
  {
   "cell_type": "code",
   "execution_count": 12,
   "id": "c4d9838f",
   "metadata": {},
   "outputs": [],
   "source": [
    "sequence = file_content[1:]"
   ]
  },
  {
   "cell_type": "code",
   "execution_count": 13,
   "id": "8317ef35",
   "metadata": {},
   "outputs": [
    {
     "data": {
      "text/plain": [
       "'ATGTCTATCCCAGAAACTCAAAAAGGTGTTATCTTCTACGAATCCCACGGTAAGTTGGAATACAAAGATA'"
      ]
     },
     "execution_count": 13,
     "metadata": {},
     "output_type": "execute_result"
    }
   ],
   "source": [
    "sequence[0].rstrip()"
   ]
  },
  {
   "cell_type": "code",
   "execution_count": 14,
   "id": "3a5bbc9e",
   "metadata": {},
   "outputs": [],
   "source": [
    "sequence = [substring.rstrip() for substring in sequence]"
   ]
  },
  {
   "cell_type": "code",
   "execution_count": 15,
   "id": "6a3ceec5",
   "metadata": {},
   "outputs": [],
   "source": [
    "sequence = ''.join(sequence)"
   ]
  },
  {
   "cell_type": "code",
   "execution_count": 16,
   "id": "2ac23351",
   "metadata": {},
   "outputs": [
    {
     "data": {
      "text/plain": [
       "str"
      ]
     },
     "execution_count": 16,
     "metadata": {},
     "output_type": "execute_result"
    }
   ],
   "source": [
    "type(sequence)"
   ]
  },
  {
   "cell_type": "code",
   "execution_count": 17,
   "id": "f564d6e4",
   "metadata": {},
   "outputs": [
    {
     "data": {
      "text/plain": [
       "'ATGTCTATCCCAGAAACTCAAAAAGGTGTTATCTTCTACGAATCCCACGGTAAGTTGGAATACAAAGATATTCCAGTTCCAAAGCCAAAGGCCAACGAATTGTTGATCAACGTTAAATACTCTGGTGTCTGTCACACTGACTTGCACGCTTGGCACGGTGACTGGCCATTGCCAGTTAAGCTACCATTAGTCGGTGGTCACGAAGGTGCCGGTGTCGTTGTCGGCATGGGTGAAAACGTTAAGGGCTGGAAGATCGGTGACTACGCCGGTATCAAATGGTTGAACGGTTCTTGTATGGCCTGTGAATACTGTGAATTGGGTAACGAATCCAACTGTCCTCACGCTGACTTGTCTGGTTACACCCACGACGGTTCTTTCCAACAATACGCTACCGCTGACGCTGTTCAAGCCGCTCACATTCCTCAAGGTACCGACTTGGCCCAAGTCGCCCCCATCTTGTGTGCTGGTATCACCGTCTACAAGGCTTTGAAGTCTGCTAACTTGATGGCCGGTCACTGGGTTGCTATCTCCGGTGCTGCTGGTGGTCTAGGTTCTTTGGCTGTTCAATACGCCAAGGCTATGGGTTACAGAGTCTTGGGTATTGACGGTGGTGAAGGTAAGGAAGAATTATTCAGATCCATCGGTGGTGAAGTCTTCATTGACTTCACTAAGGAAAAGGACATTGTCGGTGCTGTTCTAAAGGCCACTGACGGTGGTGCTCACGGTGTCATCAACGTTTCCGTTTCCGAAGCCGCTATTGAAGCTTCTACCAGATACGTTAGAGCTAACGGTACCACCGTTTTGGTCGGTATGCCAGCTGGTGCCAAGTGTTGTTCTGATGTCTTCAACCAAGTCGTCAAGTCCATCTCTATTGTTGGTTCTTACGTCGGTAACAGAGCTGACACCAGAGAAGCTTTGGACTTCTTCGCCAGAGGTTTGGTCAAGTCTCCAATCAAGGTTGTCGGCTTGTCTACCTTGCCAGAAATTTACGAAAAGATGGAAAAGGGTCAAATCGTTGGTAGATACGTTGTTGACACTTCTAAATAA'"
      ]
     },
     "execution_count": 17,
     "metadata": {},
     "output_type": "execute_result"
    }
   ],
   "source": [
    "sequence"
   ]
  },
  {
   "cell_type": "code",
   "execution_count": 18,
   "id": "e8c1aacf",
   "metadata": {},
   "outputs": [
    {
     "name": "stdout",
     "output_type": "stream",
     "text": [
      "MSIPETQKGVIFYESHGKLEYKDIPVPKPKANELLINVKYSGVCHTDLHAWHGDWPLPVKLPLVGGHEGAGVVVGMGENVKGWKIGDYAGIKWLNGSCMACEYCELGNESNCPHADLSGYTHDGSFQQYATADAVQAAHIPQGTDLAQVAPILCAGITVYKALKSANLMAGHWVAISGAAGGLGSLAVQYAKAMGYRVLGIDGGEGKEELFRSIGGEVFIDFTKEKDIVGAVLKATDGGAHGVINVSVSEAAIEASTRYVRANGTTVLVGMPAGAKCCSDVFNQVVKSISIVGSYVGNRADTREALDFFARGLVKSPIKVVGLSTLPEIYEKMEKGQIVGRYVVDTSK_\n"
     ]
    }
   ],
   "source": [
    "protein = \"\"\n",
    "for triplet in range(0,len(sequence),3):\n",
    "    protein += codon_sun[sequence[triplet:triplet + 3]]\n",
    "print(protein)"
   ]
  },
  {
   "cell_type": "code",
   "execution_count": 19,
   "id": "185eff3b",
   "metadata": {},
   "outputs": [
    {
     "data": {
      "text/plain": [
       "'>NC_001147.6:c160594-159548 ADH1 [organism=Saccharomyces cerevisiae S288C] [GeneID=854068] [chromosome=XV]\\n'"
      ]
     },
     "execution_count": 19,
     "metadata": {},
     "output_type": "execute_result"
    }
   ],
   "source": [
    "header"
   ]
  },
  {
   "cell_type": "code",
   "execution_count": 20,
   "id": "5415c013",
   "metadata": {},
   "outputs": [
    {
     "data": {
      "text/plain": [
       "'MSIPETQKGVIFYESHGKLEYKDIPVPKPKANELLINVKYSGVCHTDLHAWHGDWPLPVKLPLVGGHEGAGVVVGMGENVKGWKIGDYAGIKWLNGSCMACEYCELGNESNCPHADLSGYTHDGSFQQYATADAVQAAHIPQGTDLAQVAPILCAGITVYKALKSANLMAGHWVAISGAAGGLGSLAVQYAKAMGYRVLGIDGGEGKEELFRSIGGEVFIDFTKEKDIVGAVLKATDGGAHGVINVSVSEAAIEASTRYVRANGTTVLVGMPAGAKCCSDVFNQVVKSISIVGSYVGNRADTREALDFFARGLVKSPIKVVGLSTLPEIYEKMEKGQIVGRYVVDTSK_'"
      ]
     },
     "execution_count": 20,
     "metadata": {},
     "output_type": "execute_result"
    }
   ],
   "source": [
    "protein"
   ]
  },
  {
   "cell_type": "code",
   "execution_count": 21,
   "id": "78f70963",
   "metadata": {},
   "outputs": [
    {
     "data": {
      "text/plain": [
       "'MSIPETQKGVIFYESHGKLEYKDIPVPKPKANELLINVKYSGVCHTDLHAWHGDWPLPVKLPLVGGHEGAGVVVGMGENVKGWKIGDYAGIKWLNGSCMACEYCELGNESNCPHADLSGYTHDGSFQQYATADAVQAAHIPQGTDLAQVAPILCAGITVYKALKSANLMAGHWVAISGAAGGLGSLAVQYAKAMGYRVLGIDGGEGKEELFRSIGGEVFIDFTKEKDIVGAVLKATDGGAHGVINVSVSEAAIEASTRYVRANGTTVLVGMPAGAKCCSDVFNQVVKSISIVGSYVGNRADTREALDFFARGLVKSPIKVVGLSTLPEIYEKMEKGQIVGRYVVDTSK\\n'"
      ]
     },
     "execution_count": 21,
     "metadata": {},
     "output_type": "execute_result"
    }
   ],
   "source": [
    "protein.replace('_','') + \"\\n\""
   ]
  },
  {
   "cell_type": "code",
   "execution_count": 22,
   "id": "70bb035c",
   "metadata": {},
   "outputs": [],
   "source": [
    "with open(\"../../data/protein_translated.fna\",'w') as protein_file:\n",
    "    protein_file.write(header)\n",
    "    protein_file.write(protein.replace('_','') + \"\\n\")"
   ]
  },
  {
   "cell_type": "markdown",
   "id": "631ed86d",
   "metadata": {},
   "source": [
    "<div class=\"alert alert-info\">\n",
    "<b>Exercise 3 - NumPy again</b><br>\n",
    "a) Write a vectorized function that simulates six sided dice tosses, save the results into an array. Tosses: 10, 100, 1000, 10000, 100000<br>\n",
    "b) Write two different functions, that both count the number of a specific value in your tosses list.\n",
    "    <br>\n",
    "c) Write a function that calculates the percentage of the occurrence of a specific number in your tosses.\n",
    "    <br>\n",
    "d) Write a functon that calculates the expected number of occurrences of a specific number in your tosses.\n",
    "</div>"
   ]
  },
  {
   "cell_type": "code",
   "execution_count": 23,
   "id": "c1ff53f2",
   "metadata": {},
   "outputs": [],
   "source": [
    "import numpy as np "
   ]
  },
  {
   "cell_type": "code",
   "execution_count": 24,
   "id": "ab5f39d4",
   "metadata": {},
   "outputs": [
    {
     "data": {
      "text/plain": [
       "0"
      ]
     },
     "execution_count": 24,
     "metadata": {},
     "output_type": "execute_result"
    }
   ],
   "source": [
    "np.random.randint(10)"
   ]
  },
  {
   "cell_type": "code",
   "execution_count": 25,
   "id": "cac51ad6",
   "metadata": {},
   "outputs": [],
   "source": [
    "def tosses(number_of_tosses):\n",
    "    return np.random.randint(1,7,number_of_tosses)"
   ]
  },
  {
   "cell_type": "code",
   "execution_count": 26,
   "id": "645cb9ab",
   "metadata": {},
   "outputs": [],
   "source": [
    "def nonvectorized_tosses(number_of_tosses):\n",
    "    result = []\n",
    "    for i in range(number_of_tosses):\n",
    "        result.append(np.random.randint(1,7,1))\n",
    "    return result"
   ]
  },
  {
   "cell_type": "code",
   "execution_count": 27,
   "id": "efc3f19f",
   "metadata": {},
   "outputs": [
    {
     "name": "stdout",
     "output_type": "stream",
     "text": [
      "13.9 µs ± 322 ns per loop (mean ± std. dev. of 7 runs, 100000 loops each)\n"
     ]
    }
   ],
   "source": [
    "%timeit tosses(1000)"
   ]
  },
  {
   "cell_type": "code",
   "execution_count": 28,
   "id": "739a67bb",
   "metadata": {},
   "outputs": [
    {
     "name": "stdout",
     "output_type": "stream",
     "text": [
      "5.75 ms ± 22.3 µs per loop (mean ± std. dev. of 7 runs, 100 loops each)\n"
     ]
    }
   ],
   "source": [
    "%timeit nonvectorized_tosses(1000)"
   ]
  },
  {
   "cell_type": "code",
   "execution_count": 29,
   "id": "51f9663b",
   "metadata": {},
   "outputs": [],
   "source": [
    "def count1(arr1, number):\n",
    "    return (arr1 == number).sum()"
   ]
  },
  {
   "cell_type": "code",
   "execution_count": 30,
   "id": "23b42708",
   "metadata": {},
   "outputs": [],
   "source": [
    "def count2(arr2, number):\n",
    "    lst = arr2.tolist()\n",
    "    return lst.count(number)"
   ]
  },
  {
   "cell_type": "code",
   "execution_count": 31,
   "id": "7912bce6",
   "metadata": {},
   "outputs": [],
   "source": [
    "listOfTosses = tosses(10000)\n",
    "listOfTosses_second = tosses(10000)"
   ]
  },
  {
   "cell_type": "code",
   "execution_count": 32,
   "id": "3fe1bac2",
   "metadata": {},
   "outputs": [
    {
     "data": {
      "text/plain": [
       "array([ True, False, False, ..., False, False, False])"
      ]
     },
     "execution_count": 32,
     "metadata": {},
     "output_type": "execute_result"
    }
   ],
   "source": [
    "listOfTosses == listOfTosses_second"
   ]
  },
  {
   "cell_type": "code",
   "execution_count": 33,
   "id": "ee048046",
   "metadata": {},
   "outputs": [
    {
     "data": {
      "text/plain": [
       "1660"
      ]
     },
     "execution_count": 33,
     "metadata": {},
     "output_type": "execute_result"
    }
   ],
   "source": [
    "count1(listOfTosses,6)"
   ]
  },
  {
   "cell_type": "code",
   "execution_count": 34,
   "id": "dbadd3f1",
   "metadata": {},
   "outputs": [
    {
     "data": {
      "text/plain": [
       "1660"
      ]
     },
     "execution_count": 34,
     "metadata": {},
     "output_type": "execute_result"
    }
   ],
   "source": [
    "count2(listOfTosses,6)"
   ]
  },
  {
   "cell_type": "code",
   "execution_count": 35,
   "id": "90a0c0c0",
   "metadata": {},
   "outputs": [],
   "source": [
    "def get_percentage(arr,number):\n",
    "    return count1(arr,number)/len(arr) * 100"
   ]
  },
  {
   "cell_type": "code",
   "execution_count": 36,
   "id": "c0d6940d",
   "metadata": {},
   "outputs": [
    {
     "data": {
      "text/plain": [
       "16.6"
      ]
     },
     "execution_count": 36,
     "metadata": {},
     "output_type": "execute_result"
    }
   ],
   "source": [
    "get_percentage(listOfTosses,6)"
   ]
  },
  {
   "cell_type": "code",
   "execution_count": 37,
   "id": "1a0e6047",
   "metadata": {},
   "outputs": [],
   "source": [
    "def get_expected_number(arr):\n",
    "    return len(arr) * 1/6"
   ]
  },
  {
   "cell_type": "code",
   "execution_count": 38,
   "id": "f7da329b",
   "metadata": {},
   "outputs": [
    {
     "data": {
      "text/plain": [
       "1666.6666666666667"
      ]
     },
     "execution_count": 38,
     "metadata": {},
     "output_type": "execute_result"
    }
   ],
   "source": [
    "get_expected_number(listOfTosses)"
   ]
  }
 ],
 "metadata": {
  "kernelspec": {
   "display_name": "Python 3",
   "language": "python",
   "name": "python3"
  },
  "language_info": {
   "codemirror_mode": {
    "name": "ipython",
    "version": 3
   },
   "file_extension": ".py",
   "mimetype": "text/x-python",
   "name": "python",
   "nbconvert_exporter": "python",
   "pygments_lexer": "ipython3",
   "version": "3.8.12"
  }
 },
 "nbformat": 4,
 "nbformat_minor": 5
}
