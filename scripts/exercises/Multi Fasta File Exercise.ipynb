{
 "cells": [
  {
   "cell_type": "markdown",
   "id": "e2b00e2e",
   "metadata": {},
   "source": [
    "<div class=\"alert alert-info\">\n",
    "<b>Exercise: Multi Fasta File</b><br>\n",
    "a) The fasta file curvibacter_exopolysaccharides.fasta contains multiple eps related genes from different curvibacter species. Open this file for reading and load the content into a python data structure.<br>\n",
    "b) Separate the genes into multiple files. Each file should contain the genes of one particular organism.<br>\n",
    "</div>"
   ]
  },
  {
   "cell_type": "code",
   "execution_count": 2,
   "id": "a92a5662",
   "metadata": {},
   "outputs": [],
   "source": [
    "fhandle = \"../../data/curvibacter_exopolysaccharides.fasta\""
   ]
  },
  {
   "cell_type": "code",
   "execution_count": 3,
   "id": "889273f7",
   "metadata": {},
   "outputs": [],
   "source": [
    "sequence_dict = {}\n",
    "with open(fhandle,\"r\") as file:\n",
    "    for line in file.readlines():\n",
    "        if line.startswith(\">\"):\n",
    "            organism = line.split(\">\")[1].split(\"[\")[-1].split(\"]\")[0]\n",
    "            if organism not in sequence_dict.keys():\n",
    "                sequence_dict[organism] = []\n",
    "        sequence_dict[organism].append(line)"
   ]
  },
  {
   "cell_type": "code",
   "execution_count": 4,
   "id": "d0670df4",
   "metadata": {},
   "outputs": [
    {
     "name": "stdout",
     "output_type": "stream",
     "text": [
      "[*] Next protein sequence file for: CURVIBACTER_SP_CHRR-16\n",
      "[*] Next protein sequence file for: CURVIBACTER_SP_AEP1-3\n",
      "[*] Next protein sequence file for: CURVIBACTER_DELICATUS\n",
      "[*] Next protein sequence file for: CURVIBACTER_LANCEOLATUS\n",
      "[*] Next protein sequence file for: CURVIBACTER_GRACILIS\n",
      "[*] Next protein sequence file for: CURVIBACTER_SP\n",
      "[*] Next protein sequence file for: CURVIBACTER_SP_PD_MW3\n",
      "[*] Next protein sequence file for: CURVIBACTER_PUTATIVE_SYMBIONT_OF_HYDRA_MAGNIPAPILLATA\n"
     ]
    }
   ],
   "source": [
    "for organism in sequence_dict.keys():\n",
    "    org_file = '_'.join(organism.upper().replace(\".\",\"\").split(\" \")) + '.fasta'\n",
    "    print(\"[*] Next protein sequence file for: {}\".format(org_file))\n",
    "    file = open(org_file,\"w\")\n",
    "    for line in sequence_dict[organism]:\n",
    "        file.write(line)\n",
    "    file.close()"
   ]
  }
 ],
 "metadata": {
  "kernelspec": {
   "display_name": "Python 3",
   "language": "python",
   "name": "python3"
  },
  "language_info": {
   "codemirror_mode": {
    "name": "ipython",
    "version": 3
   },
   "file_extension": ".py",
   "mimetype": "text/x-python",
   "name": "python",
   "nbconvert_exporter": "python",
   "pygments_lexer": "ipython3",
   "version": "3.8.12"
  }
 },
 "nbformat": 4,
 "nbformat_minor": 5
}
