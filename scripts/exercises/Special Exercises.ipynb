{
 "cells": [
  {
   "cell_type": "markdown",
   "id": "c297ac93",
   "metadata": {},
   "source": [
    "<div class=\"alert alert-info\">\n",
    "<b>Exercise 1</b><br>\n",
    "a) Download a fasta file from NCBI: https://www.ncbi.nlm.nih.gov/gene/854068 </br>\n",
    "b) Load the fasta file into your Jupyter Notebook and save the content into a list (<i>fhandle.readlines()</i>). Use the <i> open </i> function, in order to do so, read the description in <i> help(open) </i> or google it. Make yourself familiar with the concept of filepaths (google: dateipfad). You can check your current working directory with the <i> os </i> package.\n",
    "<hr>\n",
    "<br>\n",
    "<b> Hint: </b> Use tab-completion inside \"\" for seeing the content of your current\n",
    "working directory\n",
    "</div>"
   ]
  },
  {
   "cell_type": "code",
   "execution_count": 1,
   "id": "724a1ff8",
   "metadata": {},
   "outputs": [],
   "source": [
    "import os"
   ]
  },
  {
   "cell_type": "code",
   "execution_count": 2,
   "id": "346f3dc2",
   "metadata": {},
   "outputs": [
    {
     "data": {
      "text/plain": [
       "'/BigData/applications/scripts/exercises'"
      ]
     },
     "execution_count": 2,
     "metadata": {},
     "output_type": "execute_result"
    }
   ],
   "source": [
    "os.getcwd() #this is also a path"
   ]
  },
  {
   "cell_type": "code",
   "execution_count": 3,
   "id": "b7057e27",
   "metadata": {},
   "outputs": [],
   "source": [
    "#this is a filepath to the file curvibacter_eps_proteins.faa\n",
    "#which is located in the data folder - my directory structure is the same\n",
    "#as in the github repository: https://github.com/Kanomble/big_data\n",
    "#\"..\" are used for pointing at a directory above the current directory\n",
    "#e.g. if you would like to go to the scripts directory from the current\n",
    "#working directory (look at the os.getcwd() commmand above) you need to \n",
    "#use these double dots!\n",
    "fhandle = \"../../data/curvibacter_eps_proteins.faa\""
   ]
  },
  {
   "cell_type": "markdown",
   "id": "c9c5bfcf",
   "metadata": {},
   "source": [
    "<div class=\"alert alert-info\">\n",
    "<b>Exercise 2</b><br>\n",
    "a) Translate the DNA sequence into protein! Use a dictionary for this purpose!</br>\n",
    "</div>"
   ]
  }
 ],
 "metadata": {
  "kernelspec": {
   "display_name": "Python 3",
   "language": "python",
   "name": "python3"
  },
  "language_info": {
   "codemirror_mode": {
    "name": "ipython",
    "version": 3
   },
   "file_extension": ".py",
   "mimetype": "text/x-python",
   "name": "python",
   "nbconvert_exporter": "python",
   "pygments_lexer": "ipython3",
   "version": "3.8.12"
  }
 },
 "nbformat": 4,
 "nbformat_minor": 5
}
