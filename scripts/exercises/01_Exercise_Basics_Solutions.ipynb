{
 "cells": [
  {
   "cell_type": "markdown",
   "metadata": {},
   "source": [
    "## Basics 1"
   ]
  },
  {
   "cell_type": "markdown",
   "metadata": {},
   "source": [
    "<div class=\"alert alert-info\">\n",
    "<b>Exercise 1</b><br>\n",
    "a) Write some code to calculate the Fahrenheit value, given a Celsius value.<br>\n",
    "b) Print out the results in a sentence.<br>\n",
    "<br>\n",
    "°F = °C * 9 / 5 + 32\n",
    "</div>"
   ]
  },
  {
   "cell_type": "code",
   "execution_count": 1,
   "metadata": {},
   "outputs": [
    {
     "name": "stdout",
     "output_type": "stream",
     "text": [
      "Enter a celsius number: 10\n",
      "10.0 celsius are 50.0 fahrenheit\n"
     ]
    }
   ],
   "source": [
    "degree = input(\"Enter a celsius number: \")\n",
    "try:\n",
    "    degree = float(degree)\n",
    "    F = degree * 9/5 + 32\n",
    "    print(\"{} celsius are {} fahrenheit\".format(degree,str(F)))\n",
    "except ValueError:\n",
    "    print(\"Please enter a number!\")"
   ]
  },
  {
   "cell_type": "code",
   "execution_count": 2,
   "metadata": {},
   "outputs": [],
   "source": [
    "def calculate_fahrenheit(celsius):\n",
    "    fahrenheit = celsius * 9/5 + 32\n",
    "    return fahrenheit"
   ]
  },
  {
   "cell_type": "code",
   "execution_count": 3,
   "metadata": {},
   "outputs": [
    {
     "data": {
      "text/plain": [
       "50.0"
      ]
     },
     "execution_count": 3,
     "metadata": {},
     "output_type": "execute_result"
    }
   ],
   "source": [
    "calculate_fahrenheit(10)"
   ]
  },
  {
   "cell_type": "markdown",
   "metadata": {},
   "source": [
    "<div class=\"alert alert-info\">\n",
    "<b>Exercise 2</b><br>\n",
    "a) Find out if the sequence is all alphabetic and upper case.<br>\n",
    "b) Count all DNA nucleotides of a given sequence.<br>\n",
    "c) Find out if the sequence contains a start codon and find the first position.<br>\n",
    "d) Calculate the GC content and print the results.<br>\n",
    "</div>"
   ]
  },
  {
   "cell_type": "code",
   "execution_count": 4,
   "metadata": {},
   "outputs": [],
   "source": [
    "seq = 'ATACAGTCGATCGTAGCTATGATACGATCGTAGCTACGTATACGTACGTCGGCGAT'\\\n",
    "      'GCATGCTAACAAATCGATCGTACGTACTGATCGATCGTACGTACGTAGCTtgatcgtacgtcagttgac'"
   ]
  },
  {
   "cell_type": "code",
   "execution_count": 5,
   "metadata": {},
   "outputs": [
    {
     "name": "stdout",
     "output_type": "stream",
     "text": [
      "True\n",
      "False\n"
     ]
    }
   ],
   "source": [
    "print(seq.isalpha())\n",
    "print(seq.isupper())"
   ]
  },
  {
   "cell_type": "code",
   "execution_count": 6,
   "metadata": {},
   "outputs": [
    {
     "name": "stdout",
     "output_type": "stream",
     "text": [
      "1\n",
      "8\n"
     ]
    }
   ],
   "source": [
    "#given sequence = any random sequence\n",
    "#lets try \"gat\"\n",
    "print(seq.count(\"gat\"))\n",
    "#but if the whole string has small characters the result is different\n",
    "print(seq.lower().count(\"gat\"))"
   ]
  },
  {
   "cell_type": "code",
   "execution_count": 7,
   "metadata": {},
   "outputs": [
    {
     "name": "stdout",
     "output_type": "stream",
     "text": [
      "Index of first occurence of start codon: 18\n"
     ]
    }
   ],
   "source": [
    "print(\"Index of first occurence of start codon: {}\".format(seq.index(\"ATG\")))"
   ]
  },
  {
   "cell_type": "code",
   "execution_count": 8,
   "metadata": {},
   "outputs": [
    {
     "data": {
      "text/plain": [
       "'ATG'"
      ]
     },
     "execution_count": 8,
     "metadata": {},
     "output_type": "execute_result"
    }
   ],
   "source": [
    "seq[18:21]"
   ]
  },
  {
   "cell_type": "code",
   "execution_count": 9,
   "metadata": {},
   "outputs": [
    {
     "name": "stdout",
     "output_type": "stream",
     "text": [
      "The GC content of the sequence is: 46.4%\n"
     ]
    }
   ],
   "source": [
    "seqUPPER = seq.upper()\n",
    "gs = seqUPPER.count('G')\n",
    "cs = seqUPPER.count('C')\n",
    "gc_content = (gs + cs )/len(seqUPPER)\n",
    "print(\"The GC content of the sequence is: {}%\".format(round(gc_content*100,2)))"
   ]
  },
  {
   "cell_type": "markdown",
   "metadata": {},
   "source": [
    "<div class=\"alert alert-info\">\n",
    "<b>Exercise 3</b><br>\n",
    "a) Transcribe the DNA sequence into an RNA sequence.<br>\n",
    "    ATG -> AUG<br>\n",
    "b) Create the complementary strain of the DNA sequence.<br>\n",
    "    ATG -> TAC<br>\n",
    "</div>"
   ]
  },
  {
   "cell_type": "code",
   "execution_count": 10,
   "metadata": {},
   "outputs": [
    {
     "data": {
      "text/plain": [
       "'ATACAGTCGATCGTAGCTATGATACGATCGTAGCTACGTATACGTACGTCGGCGATGCATGCTAACAAATCGATCGTACGTACTGATCGATCGTACGTACGTAGCTtgatcgtacgtcagttgac'"
      ]
     },
     "execution_count": 10,
     "metadata": {},
     "output_type": "execute_result"
    }
   ],
   "source": [
    "seq"
   ]
  },
  {
   "cell_type": "code",
   "execution_count": 11,
   "metadata": {},
   "outputs": [
    {
     "data": {
      "text/plain": [
       "'ATACAGTCGATCGTAGCTATGATACGATCGTAGCTACGTATACGTACGTCGGCGATGCATGCTAACAAATCGATCGTACGTACTGATCGATCGTACGTACGTAGCTTGATCGTACGTCAGTTGAC'"
      ]
     },
     "execution_count": 11,
     "metadata": {},
     "output_type": "execute_result"
    }
   ],
   "source": [
    "seqUPPER"
   ]
  },
  {
   "cell_type": "code",
   "execution_count": 12,
   "metadata": {},
   "outputs": [],
   "source": [
    "seqRNA = seqUPPER.replace(\"T\",\"U\")"
   ]
  },
  {
   "cell_type": "code",
   "execution_count": 13,
   "metadata": {},
   "outputs": [
    {
     "data": {
      "text/plain": [
       "'AUACAGUCGAUCGUAGCUAUGAUACGAUCGUAGCUACGUAUACGUACGUCGGCGAUGCAUGCUAACAAAUCGAUCGUACGUACUGAUCGAUCGUACGUACGUAGCUUGAUCGUACGUCAGUUGAC'"
      ]
     },
     "execution_count": 13,
     "metadata": {},
     "output_type": "execute_result"
    }
   ],
   "source": [
    "seqRNA"
   ]
  },
  {
   "cell_type": "code",
   "execution_count": 14,
   "metadata": {},
   "outputs": [],
   "source": [
    "#using a loop over a seq as a list - a little bit more advanced \n",
    "seq = seq.upper()\n",
    "seq_list = list(seq)\n",
    "for i in range(len(seq_list)):\n",
    "    if seq_list[i] == 'A':\n",
    "        seq_list[i] = 'T'\n",
    "    elif seq_list[i] == 'T':\n",
    "        seq_list[i] = 'A'\n",
    "    elif seq_list[i] == 'C':\n",
    "        seq_list[i] = 'G'\n",
    "    else:\n",
    "        seq_list[i] = 'C'\n",
    "seq_comp = ''.join(seq_list)"
   ]
  },
  {
   "cell_type": "markdown",
   "metadata": {},
   "source": [
    "<div class=\"alert alert-info\">\n",
    "<b>Exercise 4</b><br>\n",
    "a) Count the number of observations.<br>\n",
    "b) Show the position of the Fuchs in the list. (Do some googling).<br>\n",
    "c) Control this by printing the position you found out.<br>\n",
    "d) Sort your observation list.<br>\n",
    "e) Count the number of different animals.\n",
    "</div>"
   ]
  },
  {
   "cell_type": "code",
   "execution_count": 15,
   "metadata": {},
   "outputs": [],
   "source": [
    "obser = 'Fuchs,Elefant,Hund,Hund,Mensch,Fuchs,Glurak'"
   ]
  },
  {
   "cell_type": "code",
   "execution_count": 16,
   "metadata": {},
   "outputs": [],
   "source": [
    "lst = obser.split(',')"
   ]
  },
  {
   "cell_type": "code",
   "execution_count": 17,
   "metadata": {},
   "outputs": [
    {
     "name": "stdout",
     "output_type": "stream",
     "text": [
      "First occurence of Fuchs: 0\n",
      "Second occurence of Fuchs: 5\n"
     ]
    }
   ],
   "source": [
    "print(\"First occurence of Fuchs: {}\".format(lst.index(\"Fuchs\")))\n",
    "lst.reverse()\n",
    "print(\"Second occurence of Fuchs: {}\".format(len(lst) - 1 - lst.index(\"Fuchs\")))\n",
    "lst = obser.split(',')"
   ]
  },
  {
   "cell_type": "code",
   "execution_count": 18,
   "metadata": {},
   "outputs": [],
   "source": [
    "lst = obser.split(\",\")"
   ]
  },
  {
   "cell_type": "code",
   "execution_count": 19,
   "metadata": {},
   "outputs": [
    {
     "name": "stdout",
     "output_type": "stream",
     "text": [
      "First ocurrence of Fuchs: 0 : Fuchs\n",
      "Second occurence of Fuchs: 5 : Fuchs\n"
     ]
    }
   ],
   "source": [
    "lstR = lst.copy()\n",
    "print(\"First ocurrence of Fuchs: {} : {}\".format(lstR.index(\"Fuchs\"),lst[lstR.index(\"Fuchs\")]))\n",
    "lstR.remove(\"Fuchs\")\n",
    "print(\"Second occurence of Fuchs: {} : {}\".format(lstR.index(\"Fuchs\")+1,lst[lstR.index(\"Fuchs\")+1]))"
   ]
  },
  {
   "cell_type": "code",
   "execution_count": 20,
   "metadata": {},
   "outputs": [
    {
     "name": "stdout",
     "output_type": "stream",
     "text": [
      "['Fuchs', 'Elefant', 'Hund', 'Hund', 'Mensch', 'Fuchs', 'Glurak']\n"
     ]
    }
   ],
   "source": [
    "print(lst)"
   ]
  },
  {
   "cell_type": "code",
   "execution_count": 21,
   "metadata": {},
   "outputs": [
    {
     "name": "stdout",
     "output_type": "stream",
     "text": [
      "['Elefant', 'Fuchs', 'Fuchs', 'Glurak', 'Hund', 'Hund', 'Mensch']\n"
     ]
    }
   ],
   "source": [
    "lstSorted = lst.copy()\n",
    "lstSorted.sort()\n",
    "print(lstSorted)"
   ]
  },
  {
   "cell_type": "markdown",
   "metadata": {},
   "source": [
    "<div class=\"alert alert-info\">\n",
    "<b>Exercise 5</b><br>\n",
    "a) Create a list called organisms and store the Arabidopsis, Yeast and Synechocystis.<br>\n",
    "b) Create a second list called genes and store the 27500, 5700, 2500.<br>\n",
    "c) Combine the two lists into a dictionary.<br>\n",
    "d) Print each key:value pair.\n",
    "</div>"
   ]
  },
  {
   "cell_type": "code",
   "execution_count": 22,
   "metadata": {},
   "outputs": [],
   "source": [
    "organisms = [\"Arabidopsis\",\"Yeast\",\"Synechocystis\"]\n",
    "genes = [27500,5700,2500]"
   ]
  },
  {
   "cell_type": "code",
   "execution_count": 23,
   "metadata": {},
   "outputs": [
    {
     "name": "stdout",
     "output_type": "stream",
     "text": [
      "Arabidopsis 27500\n",
      "Yeast 5700\n",
      "Synechocystis 2500\n"
     ]
    }
   ],
   "source": [
    "for organism, gene in zip(organisms,genes):\n",
    "    print(organism, gene)"
   ]
  },
  {
   "cell_type": "code",
   "execution_count": 24,
   "metadata": {},
   "outputs": [],
   "source": [
    "dic = dict(zip(organisms,genes))"
   ]
  },
  {
   "cell_type": "code",
   "execution_count": 25,
   "metadata": {},
   "outputs": [
    {
     "data": {
      "text/plain": [
       "dict_keys(['Arabidopsis', 'Yeast', 'Synechocystis'])"
      ]
     },
     "execution_count": 25,
     "metadata": {},
     "output_type": "execute_result"
    }
   ],
   "source": [
    "dic.keys()"
   ]
  },
  {
   "cell_type": "code",
   "execution_count": 26,
   "metadata": {},
   "outputs": [
    {
     "data": {
      "text/plain": [
       "dict_values([27500, 5700, 2500])"
      ]
     },
     "execution_count": 26,
     "metadata": {},
     "output_type": "execute_result"
    }
   ],
   "source": [
    "dic.values()"
   ]
  },
  {
   "cell_type": "code",
   "execution_count": 27,
   "metadata": {},
   "outputs": [
    {
     "name": "stdout",
     "output_type": "stream",
     "text": [
      "('Arabidopsis', 27500)\n",
      "('Yeast', 5700)\n",
      "('Synechocystis', 2500)\n"
     ]
    }
   ],
   "source": [
    "for item in dic.items():\n",
    "    print(item)"
   ]
  }
 ],
 "metadata": {
  "anaconda-cloud": {},
  "kernelspec": {
   "display_name": "Python 3",
   "language": "python",
   "name": "python3"
  },
  "language_info": {
   "codemirror_mode": {
    "name": "ipython",
    "version": 3
   },
   "file_extension": ".py",
   "mimetype": "text/x-python",
   "name": "python",
   "nbconvert_exporter": "python",
   "pygments_lexer": "ipython3",
   "version": "3.8.12"
  }
 },
 "nbformat": 4,
 "nbformat_minor": 2
}
