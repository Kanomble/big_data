{
 "cells": [
  {
   "cell_type": "code",
   "execution_count": 1,
   "id": "758d9ed6",
   "metadata": {},
   "outputs": [],
   "source": [
    "import numpy as np\n",
    "import pandas as pd\n",
    "import matplotlib.pyplot as plt\n",
    "import seaborn as sns\n",
    "import scipy.stats as stats"
   ]
  },
  {
   "cell_type": "code",
   "execution_count": 2,
   "id": "a04cf585",
   "metadata": {},
   "outputs": [],
   "source": [
    "iris = sns.load_dataset('iris')"
   ]
  },
  {
   "cell_type": "code",
   "execution_count": 4,
   "id": "ccb7635c",
   "metadata": {},
   "outputs": [
    {
     "name": "stdout",
     "output_type": "stream",
     "text": [
      "Help on function read_csv in module pandas.io.parsers.readers:\n",
      "\n",
      "read_csv(filepath_or_buffer: 'FilePathOrBuffer', sep=<no_default>, delimiter=None, header='infer', names=<no_default>, index_col=None, usecols=None, squeeze=False, prefix=<no_default>, mangle_dupe_cols=True, dtype: 'DtypeArg | None' = None, engine=None, converters=None, true_values=None, false_values=None, skipinitialspace=False, skiprows=None, skipfooter=0, nrows=None, na_values=None, keep_default_na=True, na_filter=True, verbose=False, skip_blank_lines=True, parse_dates=False, infer_datetime_format=False, keep_date_col=False, date_parser=None, dayfirst=False, cache_dates=True, iterator=False, chunksize=None, compression='infer', thousands=None, decimal: 'str' = '.', lineterminator=None, quotechar='\"', quoting=0, doublequote=True, escapechar=None, comment=None, encoding=None, encoding_errors: 'str | None' = 'strict', dialect=None, error_bad_lines=None, warn_bad_lines=None, on_bad_lines=None, delim_whitespace=False, low_memory=True, memory_map=False, float_precision=None, storage_options: 'StorageOptions' = None)\n",
      "    Read a comma-separated values (csv) file into DataFrame.\n",
      "    \n",
      "    Also supports optionally iterating or breaking of the file\n",
      "    into chunks.\n",
      "    \n",
      "    Additional help can be found in the online docs for\n",
      "    `IO Tools <https://pandas.pydata.org/pandas-docs/stable/user_guide/io.html>`_.\n",
      "    \n",
      "    Parameters\n",
      "    ----------\n",
      "    filepath_or_buffer : str, path object or file-like object\n",
      "        Any valid string path is acceptable. The string could be a URL. Valid\n",
      "        URL schemes include http, ftp, s3, gs, and file. For file URLs, a host is\n",
      "        expected. A local file could be: file://localhost/path/to/table.csv.\n",
      "    \n",
      "        If you want to pass in a path object, pandas accepts any ``os.PathLike``.\n",
      "    \n",
      "        By file-like object, we refer to objects with a ``read()`` method, such as\n",
      "        a file handle (e.g. via builtin ``open`` function) or ``StringIO``.\n",
      "    sep : str, default ','\n",
      "        Delimiter to use. If sep is None, the C engine cannot automatically detect\n",
      "        the separator, but the Python parsing engine can, meaning the latter will\n",
      "        be used and automatically detect the separator by Python's builtin sniffer\n",
      "        tool, ``csv.Sniffer``. In addition, separators longer than 1 character and\n",
      "        different from ``'\\s+'`` will be interpreted as regular expressions and\n",
      "        will also force the use of the Python parsing engine. Note that regex\n",
      "        delimiters are prone to ignoring quoted data. Regex example: ``'\\r\\t'``.\n",
      "    delimiter : str, default ``None``\n",
      "        Alias for sep.\n",
      "    header : int, list of int, default 'infer'\n",
      "        Row number(s) to use as the column names, and the start of the\n",
      "        data.  Default behavior is to infer the column names: if no names\n",
      "        are passed the behavior is identical to ``header=0`` and column\n",
      "        names are inferred from the first line of the file, if column\n",
      "        names are passed explicitly then the behavior is identical to\n",
      "        ``header=None``. Explicitly pass ``header=0`` to be able to\n",
      "        replace existing names. The header can be a list of integers that\n",
      "        specify row locations for a multi-index on the columns\n",
      "        e.g. [0,1,3]. Intervening rows that are not specified will be\n",
      "        skipped (e.g. 2 in this example is skipped). Note that this\n",
      "        parameter ignores commented lines and empty lines if\n",
      "        ``skip_blank_lines=True``, so ``header=0`` denotes the first line of\n",
      "        data rather than the first line of the file.\n",
      "    names : array-like, optional\n",
      "        List of column names to use. If the file contains a header row,\n",
      "        then you should explicitly pass ``header=0`` to override the column names.\n",
      "        Duplicates in this list are not allowed.\n",
      "    index_col : int, str, sequence of int / str, or False, default ``None``\n",
      "      Column(s) to use as the row labels of the ``DataFrame``, either given as\n",
      "      string name or column index. If a sequence of int / str is given, a\n",
      "      MultiIndex is used.\n",
      "    \n",
      "      Note: ``index_col=False`` can be used to force pandas to *not* use the first\n",
      "      column as the index, e.g. when you have a malformed file with delimiters at\n",
      "      the end of each line.\n",
      "    usecols : list-like or callable, optional\n",
      "        Return a subset of the columns. If list-like, all elements must either\n",
      "        be positional (i.e. integer indices into the document columns) or strings\n",
      "        that correspond to column names provided either by the user in `names` or\n",
      "        inferred from the document header row(s). For example, a valid list-like\n",
      "        `usecols` parameter would be ``[0, 1, 2]`` or ``['foo', 'bar', 'baz']``.\n",
      "        Element order is ignored, so ``usecols=[0, 1]`` is the same as ``[1, 0]``.\n",
      "        To instantiate a DataFrame from ``data`` with element order preserved use\n",
      "        ``pd.read_csv(data, usecols=['foo', 'bar'])[['foo', 'bar']]`` for columns\n",
      "        in ``['foo', 'bar']`` order or\n",
      "        ``pd.read_csv(data, usecols=['foo', 'bar'])[['bar', 'foo']]``\n",
      "        for ``['bar', 'foo']`` order.\n",
      "    \n",
      "        If callable, the callable function will be evaluated against the column\n",
      "        names, returning names where the callable function evaluates to True. An\n",
      "        example of a valid callable argument would be ``lambda x: x.upper() in\n",
      "        ['AAA', 'BBB', 'DDD']``. Using this parameter results in much faster\n",
      "        parsing time and lower memory usage.\n",
      "    squeeze : bool, default False\n",
      "        If the parsed data only contains one column then return a Series.\n",
      "    prefix : str, optional\n",
      "        Prefix to add to column numbers when no header, e.g. 'X' for X0, X1, ...\n",
      "    mangle_dupe_cols : bool, default True\n",
      "        Duplicate columns will be specified as 'X', 'X.1', ...'X.N', rather than\n",
      "        'X'...'X'. Passing in False will cause data to be overwritten if there\n",
      "        are duplicate names in the columns.\n",
      "    dtype : Type name or dict of column -> type, optional\n",
      "        Data type for data or columns. E.g. {'a': np.float64, 'b': np.int32,\n",
      "        'c': 'Int64'}\n",
      "        Use `str` or `object` together with suitable `na_values` settings\n",
      "        to preserve and not interpret dtype.\n",
      "        If converters are specified, they will be applied INSTEAD\n",
      "        of dtype conversion.\n",
      "    engine : {'c', 'python'}, optional\n",
      "        Parser engine to use. The C engine is faster while the python engine is\n",
      "        currently more feature-complete.\n",
      "    converters : dict, optional\n",
      "        Dict of functions for converting values in certain columns. Keys can either\n",
      "        be integers or column labels.\n",
      "    true_values : list, optional\n",
      "        Values to consider as True.\n",
      "    false_values : list, optional\n",
      "        Values to consider as False.\n",
      "    skipinitialspace : bool, default False\n",
      "        Skip spaces after delimiter.\n",
      "    skiprows : list-like, int or callable, optional\n",
      "        Line numbers to skip (0-indexed) or number of lines to skip (int)\n",
      "        at the start of the file.\n",
      "    \n",
      "        If callable, the callable function will be evaluated against the row\n",
      "        indices, returning True if the row should be skipped and False otherwise.\n",
      "        An example of a valid callable argument would be ``lambda x: x in [0, 2]``.\n",
      "    skipfooter : int, default 0\n",
      "        Number of lines at bottom of file to skip (Unsupported with engine='c').\n",
      "    nrows : int, optional\n",
      "        Number of rows of file to read. Useful for reading pieces of large files.\n",
      "    na_values : scalar, str, list-like, or dict, optional\n",
      "        Additional strings to recognize as NA/NaN. If dict passed, specific\n",
      "        per-column NA values.  By default the following values are interpreted as\n",
      "        NaN: '', '#N/A', '#N/A N/A', '#NA', '-1.#IND', '-1.#QNAN', '-NaN', '-nan',\n",
      "        '1.#IND', '1.#QNAN', '<NA>', 'N/A', 'NA', 'NULL', 'NaN', 'n/a',\n",
      "        'nan', 'null'.\n",
      "    keep_default_na : bool, default True\n",
      "        Whether or not to include the default NaN values when parsing the data.\n",
      "        Depending on whether `na_values` is passed in, the behavior is as follows:\n",
      "    \n",
      "        * If `keep_default_na` is True, and `na_values` are specified, `na_values`\n",
      "          is appended to the default NaN values used for parsing.\n",
      "        * If `keep_default_na` is True, and `na_values` are not specified, only\n",
      "          the default NaN values are used for parsing.\n",
      "        * If `keep_default_na` is False, and `na_values` are specified, only\n",
      "          the NaN values specified `na_values` are used for parsing.\n",
      "        * If `keep_default_na` is False, and `na_values` are not specified, no\n",
      "          strings will be parsed as NaN.\n",
      "    \n",
      "        Note that if `na_filter` is passed in as False, the `keep_default_na` and\n",
      "        `na_values` parameters will be ignored.\n",
      "    na_filter : bool, default True\n",
      "        Detect missing value markers (empty strings and the value of na_values). In\n",
      "        data without any NAs, passing na_filter=False can improve the performance\n",
      "        of reading a large file.\n",
      "    verbose : bool, default False\n",
      "        Indicate number of NA values placed in non-numeric columns.\n",
      "    skip_blank_lines : bool, default True\n",
      "        If True, skip over blank lines rather than interpreting as NaN values.\n",
      "    parse_dates : bool or list of int or names or list of lists or dict, default False\n",
      "        The behavior is as follows:\n",
      "    \n",
      "        * boolean. If True -> try parsing the index.\n",
      "        * list of int or names. e.g. If [1, 2, 3] -> try parsing columns 1, 2, 3\n",
      "          each as a separate date column.\n",
      "        * list of lists. e.g.  If [[1, 3]] -> combine columns 1 and 3 and parse as\n",
      "          a single date column.\n",
      "        * dict, e.g. {'foo' : [1, 3]} -> parse columns 1, 3 as date and call\n",
      "          result 'foo'\n",
      "    \n",
      "        If a column or index cannot be represented as an array of datetimes,\n",
      "        say because of an unparsable value or a mixture of timezones, the column\n",
      "        or index will be returned unaltered as an object data type. For\n",
      "        non-standard datetime parsing, use ``pd.to_datetime`` after\n",
      "        ``pd.read_csv``. To parse an index or column with a mixture of timezones,\n",
      "        specify ``date_parser`` to be a partially-applied\n",
      "        :func:`pandas.to_datetime` with ``utc=True``. See\n",
      "        :ref:`io.csv.mixed_timezones` for more.\n",
      "    \n",
      "        Note: A fast-path exists for iso8601-formatted dates.\n",
      "    infer_datetime_format : bool, default False\n",
      "        If True and `parse_dates` is enabled, pandas will attempt to infer the\n",
      "        format of the datetime strings in the columns, and if it can be inferred,\n",
      "        switch to a faster method of parsing them. In some cases this can increase\n",
      "        the parsing speed by 5-10x.\n",
      "    keep_date_col : bool, default False\n",
      "        If True and `parse_dates` specifies combining multiple columns then\n",
      "        keep the original columns.\n",
      "    date_parser : function, optional\n",
      "        Function to use for converting a sequence of string columns to an array of\n",
      "        datetime instances. The default uses ``dateutil.parser.parser`` to do the\n",
      "        conversion. Pandas will try to call `date_parser` in three different ways,\n",
      "        advancing to the next if an exception occurs: 1) Pass one or more arrays\n",
      "        (as defined by `parse_dates`) as arguments; 2) concatenate (row-wise) the\n",
      "        string values from the columns defined by `parse_dates` into a single array\n",
      "        and pass that; and 3) call `date_parser` once for each row using one or\n",
      "        more strings (corresponding to the columns defined by `parse_dates`) as\n",
      "        arguments.\n",
      "    dayfirst : bool, default False\n",
      "        DD/MM format dates, international and European format.\n",
      "    cache_dates : bool, default True\n",
      "        If True, use a cache of unique, converted dates to apply the datetime\n",
      "        conversion. May produce significant speed-up when parsing duplicate\n",
      "        date strings, especially ones with timezone offsets.\n",
      "    \n",
      "        .. versionadded:: 0.25.0\n",
      "    iterator : bool, default False\n",
      "        Return TextFileReader object for iteration or getting chunks with\n",
      "        ``get_chunk()``.\n",
      "    \n",
      "        .. versionchanged:: 1.2\n",
      "    \n",
      "           ``TextFileReader`` is a context manager.\n",
      "    chunksize : int, optional\n",
      "        Return TextFileReader object for iteration.\n",
      "        See the `IO Tools docs\n",
      "        <https://pandas.pydata.org/pandas-docs/stable/io.html#io-chunking>`_\n",
      "        for more information on ``iterator`` and ``chunksize``.\n",
      "    \n",
      "        .. versionchanged:: 1.2\n",
      "    \n",
      "           ``TextFileReader`` is a context manager.\n",
      "    compression : {'infer', 'gzip', 'bz2', 'zip', 'xz', None}, default 'infer'\n",
      "        For on-the-fly decompression of on-disk data. If 'infer' and\n",
      "        `filepath_or_buffer` is path-like, then detect compression from the\n",
      "        following extensions: '.gz', '.bz2', '.zip', or '.xz' (otherwise no\n",
      "        decompression). If using 'zip', the ZIP file must contain only one data\n",
      "        file to be read in. Set to None for no decompression.\n",
      "    thousands : str, optional\n",
      "        Thousands separator.\n",
      "    decimal : str, default '.'\n",
      "        Character to recognize as decimal point (e.g. use ',' for European data).\n",
      "    lineterminator : str (length 1), optional\n",
      "        Character to break file into lines. Only valid with C parser.\n",
      "    quotechar : str (length 1), optional\n",
      "        The character used to denote the start and end of a quoted item. Quoted\n",
      "        items can include the delimiter and it will be ignored.\n",
      "    quoting : int or csv.QUOTE_* instance, default 0\n",
      "        Control field quoting behavior per ``csv.QUOTE_*`` constants. Use one of\n",
      "        QUOTE_MINIMAL (0), QUOTE_ALL (1), QUOTE_NONNUMERIC (2) or QUOTE_NONE (3).\n",
      "    doublequote : bool, default ``True``\n",
      "       When quotechar is specified and quoting is not ``QUOTE_NONE``, indicate\n",
      "       whether or not to interpret two consecutive quotechar elements INSIDE a\n",
      "       field as a single ``quotechar`` element.\n",
      "    escapechar : str (length 1), optional\n",
      "        One-character string used to escape other characters.\n",
      "    comment : str, optional\n",
      "        Indicates remainder of line should not be parsed. If found at the beginning\n",
      "        of a line, the line will be ignored altogether. This parameter must be a\n",
      "        single character. Like empty lines (as long as ``skip_blank_lines=True``),\n",
      "        fully commented lines are ignored by the parameter `header` but not by\n",
      "        `skiprows`. For example, if ``comment='#'``, parsing\n",
      "        ``#empty\\na,b,c\\n1,2,3`` with ``header=0`` will result in 'a,b,c' being\n",
      "        treated as the header.\n",
      "    encoding : str, optional\n",
      "        Encoding to use for UTF when reading/writing (ex. 'utf-8'). `List of Python\n",
      "        standard encodings\n",
      "        <https://docs.python.org/3/library/codecs.html#standard-encodings>`_ .\n",
      "    \n",
      "        .. versionchanged:: 1.2\n",
      "    \n",
      "           When ``encoding`` is ``None``, ``errors=\"replace\"`` is passed to\n",
      "           ``open()``. Otherwise, ``errors=\"strict\"`` is passed to ``open()``.\n",
      "           This behavior was previously only the case for ``engine=\"python\"``.\n",
      "    \n",
      "        .. versionchanged:: 1.3.0\n",
      "    \n",
      "           ``encoding_errors`` is a new argument. ``encoding`` has no longer an\n",
      "           influence on how encoding errors are handled.\n",
      "    \n",
      "    encoding_errors : str, optional, default \"strict\"\n",
      "        How encoding errors are treated. `List of possible values\n",
      "        <https://docs.python.org/3/library/codecs.html#error-handlers>`_ .\n",
      "    \n",
      "        .. versionadded:: 1.3.0\n",
      "    \n",
      "    dialect : str or csv.Dialect, optional\n",
      "        If provided, this parameter will override values (default or not) for the\n",
      "        following parameters: `delimiter`, `doublequote`, `escapechar`,\n",
      "        `skipinitialspace`, `quotechar`, and `quoting`. If it is necessary to\n",
      "        override values, a ParserWarning will be issued. See csv.Dialect\n",
      "        documentation for more details.\n",
      "    error_bad_lines : bool, default ``None``\n",
      "        Lines with too many fields (e.g. a csv line with too many commas) will by\n",
      "        default cause an exception to be raised, and no DataFrame will be returned.\n",
      "        If False, then these \"bad lines\" will be dropped from the DataFrame that is\n",
      "        returned.\n",
      "    \n",
      "        .. deprecated:: 1.3.0\n",
      "           The ``on_bad_lines`` parameter should be used instead to specify behavior upon\n",
      "           encountering a bad line instead.\n",
      "    warn_bad_lines : bool, default ``None``\n",
      "        If error_bad_lines is False, and warn_bad_lines is True, a warning for each\n",
      "        \"bad line\" will be output.\n",
      "    \n",
      "        .. deprecated:: 1.3.0\n",
      "           The ``on_bad_lines`` parameter should be used instead to specify behavior upon\n",
      "           encountering a bad line instead.\n",
      "    on_bad_lines : {'error', 'warn', 'skip'}, default 'error'\n",
      "        Specifies what to do upon encountering a bad line (a line with too many fields).\n",
      "        Allowed values are :\n",
      "    \n",
      "            - 'error', raise an Exception when a bad line is encountered.\n",
      "            - 'warn', raise a warning when a bad line is encountered and skip that line.\n",
      "            - 'skip', skip bad lines without raising or warning when they are encountered.\n",
      "    \n",
      "        .. versionadded:: 1.3.0\n",
      "    \n",
      "    delim_whitespace : bool, default False\n",
      "        Specifies whether or not whitespace (e.g. ``' '`` or ``'    '``) will be\n",
      "        used as the sep. Equivalent to setting ``sep='\\s+'``. If this option\n",
      "        is set to True, nothing should be passed in for the ``delimiter``\n",
      "        parameter.\n",
      "    low_memory : bool, default True\n",
      "        Internally process the file in chunks, resulting in lower memory use\n",
      "        while parsing, but possibly mixed type inference.  To ensure no mixed\n",
      "        types either set False, or specify the type with the `dtype` parameter.\n",
      "        Note that the entire file is read into a single DataFrame regardless,\n",
      "        use the `chunksize` or `iterator` parameter to return the data in chunks.\n",
      "        (Only valid with C parser).\n",
      "    memory_map : bool, default False\n",
      "        If a filepath is provided for `filepath_or_buffer`, map the file object\n",
      "        directly onto memory and access the data directly from there. Using this\n",
      "        option can improve performance because there is no longer any I/O overhead.\n",
      "    float_precision : str, optional\n",
      "        Specifies which converter the C engine should use for floating-point\n",
      "        values. The options are ``None`` or 'high' for the ordinary converter,\n",
      "        'legacy' for the original lower precision pandas converter, and\n",
      "        'round_trip' for the round-trip converter.\n",
      "    \n",
      "        .. versionchanged:: 1.2\n",
      "    \n",
      "    storage_options : dict, optional\n",
      "        Extra options that make sense for a particular storage connection, e.g.\n",
      "        host, port, username, password, etc. For HTTP(S) URLs the key-value pairs\n",
      "        are forwarded to ``urllib`` as header options. For other URLs (e.g.\n",
      "        starting with \"s3://\", and \"gcs://\") the key-value pairs are forwarded to\n",
      "        ``fsspec``. Please see ``fsspec`` and ``urllib`` for more details.\n",
      "    \n",
      "        .. versionadded:: 1.2\n",
      "    \n",
      "    Returns\n",
      "    -------\n",
      "    DataFrame or TextParser\n",
      "        A comma-separated values (csv) file is returned as two-dimensional\n",
      "        data structure with labeled axes.\n",
      "    \n",
      "    See Also\n",
      "    --------\n",
      "    DataFrame.to_csv : Write DataFrame to a comma-separated values (csv) file.\n",
      "    read_csv : Read a comma-separated values (csv) file into DataFrame.\n",
      "    read_fwf : Read a table of fixed-width formatted lines into DataFrame.\n",
      "    \n",
      "    Examples\n",
      "    --------\n",
      "    >>> pd.read_csv('data.csv')  # doctest: +SKIP\n",
      "\n"
     ]
    }
   ],
   "source": [
    "help(pd.read_csv)"
   ]
  },
  {
   "cell_type": "code",
   "execution_count": 5,
   "id": "6bd78640",
   "metadata": {},
   "outputs": [
    {
     "data": {
      "text/html": [
       "<div>\n",
       "<style scoped>\n",
       "    .dataframe tbody tr th:only-of-type {\n",
       "        vertical-align: middle;\n",
       "    }\n",
       "\n",
       "    .dataframe tbody tr th {\n",
       "        vertical-align: top;\n",
       "    }\n",
       "\n",
       "    .dataframe thead th {\n",
       "        text-align: right;\n",
       "    }\n",
       "</style>\n",
       "<table border=\"1\" class=\"dataframe\">\n",
       "  <thead>\n",
       "    <tr style=\"text-align: right;\">\n",
       "      <th></th>\n",
       "      <th>sepal_length</th>\n",
       "      <th>sepal_width</th>\n",
       "      <th>petal_length</th>\n",
       "      <th>petal_width</th>\n",
       "      <th>species</th>\n",
       "    </tr>\n",
       "  </thead>\n",
       "  <tbody>\n",
       "    <tr>\n",
       "      <th>0</th>\n",
       "      <td>5.1</td>\n",
       "      <td>3.5</td>\n",
       "      <td>1.4</td>\n",
       "      <td>0.2</td>\n",
       "      <td>setosa</td>\n",
       "    </tr>\n",
       "    <tr>\n",
       "      <th>1</th>\n",
       "      <td>4.9</td>\n",
       "      <td>3.0</td>\n",
       "      <td>1.4</td>\n",
       "      <td>0.2</td>\n",
       "      <td>setosa</td>\n",
       "    </tr>\n",
       "    <tr>\n",
       "      <th>2</th>\n",
       "      <td>4.7</td>\n",
       "      <td>3.2</td>\n",
       "      <td>1.3</td>\n",
       "      <td>0.2</td>\n",
       "      <td>setosa</td>\n",
       "    </tr>\n",
       "    <tr>\n",
       "      <th>3</th>\n",
       "      <td>4.6</td>\n",
       "      <td>3.1</td>\n",
       "      <td>1.5</td>\n",
       "      <td>0.2</td>\n",
       "      <td>setosa</td>\n",
       "    </tr>\n",
       "    <tr>\n",
       "      <th>4</th>\n",
       "      <td>5.0</td>\n",
       "      <td>3.6</td>\n",
       "      <td>1.4</td>\n",
       "      <td>0.2</td>\n",
       "      <td>setosa</td>\n",
       "    </tr>\n",
       "  </tbody>\n",
       "</table>\n",
       "</div>"
      ],
      "text/plain": [
       "   sepal_length  sepal_width  petal_length  petal_width species\n",
       "0           5.1          3.5           1.4          0.2  setosa\n",
       "1           4.9          3.0           1.4          0.2  setosa\n",
       "2           4.7          3.2           1.3          0.2  setosa\n",
       "3           4.6          3.1           1.5          0.2  setosa\n",
       "4           5.0          3.6           1.4          0.2  setosa"
      ]
     },
     "execution_count": 5,
     "metadata": {},
     "output_type": "execute_result"
    }
   ],
   "source": [
    "iris.head()"
   ]
  },
  {
   "cell_type": "code",
   "execution_count": 6,
   "id": "5a489128",
   "metadata": {},
   "outputs": [
    {
     "data": {
      "text/html": [
       "<div>\n",
       "<style scoped>\n",
       "    .dataframe tbody tr th:only-of-type {\n",
       "        vertical-align: middle;\n",
       "    }\n",
       "\n",
       "    .dataframe tbody tr th {\n",
       "        vertical-align: top;\n",
       "    }\n",
       "\n",
       "    .dataframe thead th {\n",
       "        text-align: right;\n",
       "    }\n",
       "</style>\n",
       "<table border=\"1\" class=\"dataframe\">\n",
       "  <thead>\n",
       "    <tr style=\"text-align: right;\">\n",
       "      <th></th>\n",
       "      <th>sepal_length</th>\n",
       "      <th>sepal_width</th>\n",
       "      <th>petal_length</th>\n",
       "      <th>petal_width</th>\n",
       "      <th>species</th>\n",
       "    </tr>\n",
       "  </thead>\n",
       "  <tbody>\n",
       "    <tr>\n",
       "      <th>145</th>\n",
       "      <td>6.7</td>\n",
       "      <td>3.0</td>\n",
       "      <td>5.2</td>\n",
       "      <td>2.3</td>\n",
       "      <td>virginica</td>\n",
       "    </tr>\n",
       "    <tr>\n",
       "      <th>146</th>\n",
       "      <td>6.3</td>\n",
       "      <td>2.5</td>\n",
       "      <td>5.0</td>\n",
       "      <td>1.9</td>\n",
       "      <td>virginica</td>\n",
       "    </tr>\n",
       "    <tr>\n",
       "      <th>147</th>\n",
       "      <td>6.5</td>\n",
       "      <td>3.0</td>\n",
       "      <td>5.2</td>\n",
       "      <td>2.0</td>\n",
       "      <td>virginica</td>\n",
       "    </tr>\n",
       "    <tr>\n",
       "      <th>148</th>\n",
       "      <td>6.2</td>\n",
       "      <td>3.4</td>\n",
       "      <td>5.4</td>\n",
       "      <td>2.3</td>\n",
       "      <td>virginica</td>\n",
       "    </tr>\n",
       "    <tr>\n",
       "      <th>149</th>\n",
       "      <td>5.9</td>\n",
       "      <td>3.0</td>\n",
       "      <td>5.1</td>\n",
       "      <td>1.8</td>\n",
       "      <td>virginica</td>\n",
       "    </tr>\n",
       "  </tbody>\n",
       "</table>\n",
       "</div>"
      ],
      "text/plain": [
       "     sepal_length  sepal_width  petal_length  petal_width    species\n",
       "145           6.7          3.0           5.2          2.3  virginica\n",
       "146           6.3          2.5           5.0          1.9  virginica\n",
       "147           6.5          3.0           5.2          2.0  virginica\n",
       "148           6.2          3.4           5.4          2.3  virginica\n",
       "149           5.9          3.0           5.1          1.8  virginica"
      ]
     },
     "execution_count": 6,
     "metadata": {},
     "output_type": "execute_result"
    }
   ],
   "source": [
    "iris.tail()"
   ]
  },
  {
   "cell_type": "code",
   "execution_count": 7,
   "id": "c4cfa8e5",
   "metadata": {},
   "outputs": [
    {
     "name": "stdout",
     "output_type": "stream",
     "text": [
      "<class 'pandas.core.frame.DataFrame'>\n",
      "RangeIndex: 150 entries, 0 to 149\n",
      "Data columns (total 5 columns):\n",
      " #   Column        Non-Null Count  Dtype  \n",
      "---  ------        --------------  -----  \n",
      " 0   sepal_length  150 non-null    float64\n",
      " 1   sepal_width   150 non-null    float64\n",
      " 2   petal_length  150 non-null    float64\n",
      " 3   petal_width   150 non-null    float64\n",
      " 4   species       150 non-null    object \n",
      "dtypes: float64(4), object(1)\n",
      "memory usage: 6.0+ KB\n"
     ]
    }
   ],
   "source": [
    "iris.info()"
   ]
  },
  {
   "cell_type": "code",
   "execution_count": 8,
   "id": "79cf8cc9",
   "metadata": {},
   "outputs": [
    {
     "data": {
      "text/html": [
       "<div>\n",
       "<style scoped>\n",
       "    .dataframe tbody tr th:only-of-type {\n",
       "        vertical-align: middle;\n",
       "    }\n",
       "\n",
       "    .dataframe tbody tr th {\n",
       "        vertical-align: top;\n",
       "    }\n",
       "\n",
       "    .dataframe thead th {\n",
       "        text-align: right;\n",
       "    }\n",
       "</style>\n",
       "<table border=\"1\" class=\"dataframe\">\n",
       "  <thead>\n",
       "    <tr style=\"text-align: right;\">\n",
       "      <th></th>\n",
       "      <th>sepal_length</th>\n",
       "      <th>sepal_width</th>\n",
       "      <th>petal_length</th>\n",
       "      <th>petal_width</th>\n",
       "    </tr>\n",
       "  </thead>\n",
       "  <tbody>\n",
       "    <tr>\n",
       "      <th>count</th>\n",
       "      <td>150.000000</td>\n",
       "      <td>150.000000</td>\n",
       "      <td>150.000000</td>\n",
       "      <td>150.000000</td>\n",
       "    </tr>\n",
       "    <tr>\n",
       "      <th>mean</th>\n",
       "      <td>5.843333</td>\n",
       "      <td>3.057333</td>\n",
       "      <td>3.758000</td>\n",
       "      <td>1.199333</td>\n",
       "    </tr>\n",
       "    <tr>\n",
       "      <th>std</th>\n",
       "      <td>0.828066</td>\n",
       "      <td>0.435866</td>\n",
       "      <td>1.765298</td>\n",
       "      <td>0.762238</td>\n",
       "    </tr>\n",
       "    <tr>\n",
       "      <th>min</th>\n",
       "      <td>4.300000</td>\n",
       "      <td>2.000000</td>\n",
       "      <td>1.000000</td>\n",
       "      <td>0.100000</td>\n",
       "    </tr>\n",
       "    <tr>\n",
       "      <th>25%</th>\n",
       "      <td>5.100000</td>\n",
       "      <td>2.800000</td>\n",
       "      <td>1.600000</td>\n",
       "      <td>0.300000</td>\n",
       "    </tr>\n",
       "    <tr>\n",
       "      <th>50%</th>\n",
       "      <td>5.800000</td>\n",
       "      <td>3.000000</td>\n",
       "      <td>4.350000</td>\n",
       "      <td>1.300000</td>\n",
       "    </tr>\n",
       "    <tr>\n",
       "      <th>75%</th>\n",
       "      <td>6.400000</td>\n",
       "      <td>3.300000</td>\n",
       "      <td>5.100000</td>\n",
       "      <td>1.800000</td>\n",
       "    </tr>\n",
       "    <tr>\n",
       "      <th>max</th>\n",
       "      <td>7.900000</td>\n",
       "      <td>4.400000</td>\n",
       "      <td>6.900000</td>\n",
       "      <td>2.500000</td>\n",
       "    </tr>\n",
       "  </tbody>\n",
       "</table>\n",
       "</div>"
      ],
      "text/plain": [
       "       sepal_length  sepal_width  petal_length  petal_width\n",
       "count    150.000000   150.000000    150.000000   150.000000\n",
       "mean       5.843333     3.057333      3.758000     1.199333\n",
       "std        0.828066     0.435866      1.765298     0.762238\n",
       "min        4.300000     2.000000      1.000000     0.100000\n",
       "25%        5.100000     2.800000      1.600000     0.300000\n",
       "50%        5.800000     3.000000      4.350000     1.300000\n",
       "75%        6.400000     3.300000      5.100000     1.800000\n",
       "max        7.900000     4.400000      6.900000     2.500000"
      ]
     },
     "execution_count": 8,
     "metadata": {},
     "output_type": "execute_result"
    }
   ],
   "source": [
    "iris.describe()"
   ]
  },
  {
   "cell_type": "code",
   "execution_count": null,
   "id": "3d9b2a51",
   "metadata": {},
   "outputs": [],
   "source": [
    "iris.hist()\n",
    "plt.tight_layout()"
   ]
  },
  {
   "cell_type": "code",
   "execution_count": null,
   "id": "deeb8b03",
   "metadata": {},
   "outputs": [],
   "source": [
    "iris['petal_width'].std()"
   ]
  },
  {
   "cell_type": "code",
   "execution_count": null,
   "id": "22b19a73",
   "metadata": {},
   "outputs": [],
   "source": [
    "def std_population(arr):\n",
    "    ssquare = sum((arr - np.mean(arr))**2)/(len(arr)-1)\n",
    "    return np.sqrt(ssquare)"
   ]
  },
  {
   "cell_type": "code",
   "execution_count": null,
   "id": "e6ce31a7",
   "metadata": {},
   "outputs": [],
   "source": [
    "std_population(iris['petal_width'])"
   ]
  },
  {
   "cell_type": "code",
   "execution_count": null,
   "id": "5c4a61a0",
   "metadata": {},
   "outputs": [],
   "source": [
    "round(iris['petal_width'].std(),3) == round(std_population(iris['petal_width']),3)"
   ]
  },
  {
   "cell_type": "code",
   "execution_count": 17,
   "id": "ae37a185",
   "metadata": {},
   "outputs": [
    {
     "data": {
      "text/plain": [
       "array(['setosa', 'versicolor', 'virginica'], dtype=object)"
      ]
     },
     "execution_count": 17,
     "metadata": {},
     "output_type": "execute_result"
    }
   ],
   "source": [
    "iris['species'].unique()"
   ]
  },
  {
   "cell_type": "code",
   "execution_count": 10,
   "id": "c442d31c",
   "metadata": {},
   "outputs": [],
   "source": [
    "setosa = iris[iris['species'] == \"setosa\"]\n",
    "versicolor = iris[iris['species'] == \"versicolor\"]\n",
    "virginica = iris[iris['species'] == \"virginica\"]"
   ]
  },
  {
   "cell_type": "code",
   "execution_count": 12,
   "id": "1a24277c",
   "metadata": {},
   "outputs": [],
   "source": [
    "empty_list = []\n",
    "for i in iris['species']:\n",
    "    if i != 'virginica':\n",
    "        empty_list.append(False)\n",
    "    else:\n",
    "        empty_list.append(True)"
   ]
  },
  {
   "cell_type": "code",
   "execution_count": 16,
   "id": "bbe35583",
   "metadata": {},
   "outputs": [
    {
     "data": {
      "text/html": [
       "<div>\n",
       "<style scoped>\n",
       "    .dataframe tbody tr th:only-of-type {\n",
       "        vertical-align: middle;\n",
       "    }\n",
       "\n",
       "    .dataframe tbody tr th {\n",
       "        vertical-align: top;\n",
       "    }\n",
       "\n",
       "    .dataframe thead th {\n",
       "        text-align: right;\n",
       "    }\n",
       "</style>\n",
       "<table border=\"1\" class=\"dataframe\">\n",
       "  <thead>\n",
       "    <tr style=\"text-align: right;\">\n",
       "      <th></th>\n",
       "      <th>sepal_length</th>\n",
       "      <th>sepal_width</th>\n",
       "      <th>petal_length</th>\n",
       "      <th>petal_width</th>\n",
       "      <th>species</th>\n",
       "    </tr>\n",
       "  </thead>\n",
       "  <tbody>\n",
       "    <tr>\n",
       "      <th>100</th>\n",
       "      <td>6.3</td>\n",
       "      <td>3.3</td>\n",
       "      <td>6.0</td>\n",
       "      <td>2.5</td>\n",
       "      <td>virginica</td>\n",
       "    </tr>\n",
       "    <tr>\n",
       "      <th>101</th>\n",
       "      <td>5.8</td>\n",
       "      <td>2.7</td>\n",
       "      <td>5.1</td>\n",
       "      <td>1.9</td>\n",
       "      <td>virginica</td>\n",
       "    </tr>\n",
       "    <tr>\n",
       "      <th>102</th>\n",
       "      <td>7.1</td>\n",
       "      <td>3.0</td>\n",
       "      <td>5.9</td>\n",
       "      <td>2.1</td>\n",
       "      <td>virginica</td>\n",
       "    </tr>\n",
       "    <tr>\n",
       "      <th>103</th>\n",
       "      <td>6.3</td>\n",
       "      <td>2.9</td>\n",
       "      <td>5.6</td>\n",
       "      <td>1.8</td>\n",
       "      <td>virginica</td>\n",
       "    </tr>\n",
       "    <tr>\n",
       "      <th>104</th>\n",
       "      <td>6.5</td>\n",
       "      <td>3.0</td>\n",
       "      <td>5.8</td>\n",
       "      <td>2.2</td>\n",
       "      <td>virginica</td>\n",
       "    </tr>\n",
       "  </tbody>\n",
       "</table>\n",
       "</div>"
      ],
      "text/plain": [
       "     sepal_length  sepal_width  petal_length  petal_width    species\n",
       "100           6.3          3.3           6.0          2.5  virginica\n",
       "101           5.8          2.7           5.1          1.9  virginica\n",
       "102           7.1          3.0           5.9          2.1  virginica\n",
       "103           6.3          2.9           5.6          1.8  virginica\n",
       "104           6.5          3.0           5.8          2.2  virginica"
      ]
     },
     "execution_count": 16,
     "metadata": {},
     "output_type": "execute_result"
    }
   ],
   "source": [
    "iris[pd.Series(empty_list)].head()"
   ]
  },
  {
   "cell_type": "code",
   "execution_count": 19,
   "id": "8ff00049",
   "metadata": {},
   "outputs": [
    {
     "data": {
      "image/png": "[encoded data removed]",
      "text/plain": [
       "<Figure size 432x288 with 4 Axes>"
      ]
     },
     "metadata": {
      "needs_background": "light"
     },
     "output_type": "display_data"
    }
   ],
   "source": [
    "iris.hist()\n",
    "plt.tight_layout()"
   ]
  },
  {
   "cell_type": "code",
   "execution_count": 20,
   "id": "b1fefa5f",
   "metadata": {},
   "outputs": [
    {
     "data": {
      "text/plain": [
       "<matplotlib.collections.PathCollection at 0x7fa1954beaf0>"
      ]
     },
     "execution_count": 20,
     "metadata": {},
     "output_type": "execute_result"
    },
    {
     "data": {
      "image/png": "[encoded data removed]",
      "text/plain": [
       "<Figure size 432x288 with 1 Axes>"
      ]
     },
     "metadata": {
      "needs_background": "light"
     },
     "output_type": "display_data"
    }
   ],
   "source": [
    "plt.scatter(range(len(iris)),iris['petal_length'])"
   ]
  },
  {
   "cell_type": "code",
   "execution_count": 21,
   "id": "92c9d56c",
   "metadata": {},
   "outputs": [
    {
     "data": {
      "text/plain": [
       "<matplotlib.collections.PathCollection at 0x7fa1954ff2b0>"
      ]
     },
     "execution_count": 21,
     "metadata": {},
     "output_type": "execute_result"
    },
    {
     "data": {
      "image/png": "[encoded data removed]",
      "text/plain": [
       "<Figure size 432x288 with 1 Axes>"
      ]
     },
     "metadata": {
      "needs_background": "light"
     },
     "output_type": "display_data"
    }
   ],
   "source": [
    "colors = []\n",
    "for i in range(150):\n",
    "    if i%3 == 0:\n",
    "        colors.append('r')\n",
    "    if i%3 == 1:\n",
    "        colors.append('g')\n",
    "    if i%3 == 2:\n",
    "        colors.append('b')\n",
    "colors.sort()\n",
    "\n",
    "plt.scatter(range(len(iris)),iris['petal_length'],color = colors)"
   ]
  },
  {
   "cell_type": "code",
   "execution_count": 22,
   "id": "28d8d311",
   "metadata": {},
   "outputs": [
    {
     "data": {
      "text/plain": [
       "<matplotlib.collections.PathCollection at 0x7fa19554ca60>"
      ]
     },
     "execution_count": 22,
     "metadata": {},
     "output_type": "execute_result"
    },
    {
     "data": {
      "image/png": "[encoded data removed]",
      "text/plain": [
       "<Figure size 432x288 with 1 Axes>"
      ]
     },
     "metadata": {
      "needs_background": "light"
     },
     "output_type": "display_data"
    }
   ],
   "source": [
    "colors = {'setosa':'r','versicolor':'b','virginica':'g'}\n",
    "plt.scatter(range(len(iris)),iris['petal_length'],color = iris['species'].map(colors))"
   ]
  },
  {
   "cell_type": "code",
   "execution_count": 23,
   "id": "35426ad8",
   "metadata": {},
   "outputs": [
    {
     "data": {
      "text/plain": [
       "<matplotlib.legend.Legend at 0x7fa1955103d0>"
      ]
     },
     "execution_count": 23,
     "metadata": {},
     "output_type": "execute_result"
    },
    {
     "data": {
      "image/png": "[encoded data removed]",
      "text/plain": [
       "<Figure size 432x288 with 1 Axes>"
      ]
     },
     "metadata": {
      "needs_background": "light"
     },
     "output_type": "display_data"
    }
   ],
   "source": [
    "plt.scatter(range(len(setosa)),setosa['petal_length'],color='r',label='setosa')\n",
    "plt.scatter(range(len(versicolor)),versicolor['petal_length'],color='b',label='versicolor')\n",
    "plt.scatter(range(len(virginica)),virginica['petal_length'],color='g',label='virginica')\n",
    "plt.legend()"
   ]
  },
  {
   "cell_type": "code",
   "execution_count": 24,
   "id": "9c97d467",
   "metadata": {},
   "outputs": [
    {
     "data": {
      "text/plain": [
       "1.0"
      ]
     },
     "execution_count": 24,
     "metadata": {},
     "output_type": "execute_result"
    }
   ],
   "source": [
    "setosa['petal_length'].min()"
   ]
  },
  {
   "cell_type": "code",
   "execution_count": 47,
   "id": "7530b7c1",
   "metadata": {},
   "outputs": [
    {
     "data": {
      "text/plain": [
       "Text(0.5, 1.0, 'distribution of the petal length of different iris species')"
      ]
     },
     "execution_count": 47,
     "metadata": {},
     "output_type": "execute_result"
    },
    {
     "data": {
      "image/png": "[encoded data removed]",
      "text/plain": [
       "<Figure size 576x432 with 1 Axes>"
      ]
     },
     "metadata": {
      "needs_background": "light"
     },
     "output_type": "display_data"
    }
   ],
   "source": [
    "additional_list = [0] * 100\n",
    "setosa_pl = list(setosa['petal_length'])\n",
    "setosa_pl = setosa_pl + additional_list\n",
    "\n",
    "additional_list = [0] * 50\n",
    "versicolor_pl = list(versicolor['petal_length'])\n",
    "versicolor_pl = additional_list + versicolor_pl + additional_list\n",
    "\n",
    "additional_list = [0] * 100\n",
    "virginica_pl = list(virginica['petal_length'])\n",
    "virginica_pl = additional_list + virginica_pl\n",
    "\n",
    "fsize = 16\n",
    "plt.figure(figsize=(8,6))\n",
    "plt.scatter(range(len(setosa_pl)),setosa_pl,color='r',label='setosa')#str(round(np.mean(setosa['petal_length']),2))\n",
    "#plt.axhline(np.mean(setosa['petal_length']), color='r')\n",
    "plt.scatter(range(len(versicolor_pl)),versicolor_pl,color='b',label='versicolor')\n",
    "plt.scatter(range(len(virginica_pl)),virginica_pl,color='g',label='virginica')\n",
    "plt.ylim(0.5,8)\n",
    "plt.grid()\n",
    "plt.legend(loc=\"upper left\",fontsize=fsize-2)\n",
    "plt.xlabel(\"plant species\",fontsize=fsize)\n",
    "plt.ylabel(\"petal length\",fontsize=fsize)\n",
    "plt.title(\"distribution of the petal length of different iris species\", fontsize=fsize)"
   ]
  },
  {
   "cell_type": "code",
   "execution_count": 48,
   "id": "f6bb86ea",
   "metadata": {},
   "outputs": [
    {
     "data": {
      "text/plain": [
       "Ttest_indResult(statistic=-39.492719391538095, pvalue=5.404910513441677e-62)"
      ]
     },
     "execution_count": 48,
     "metadata": {},
     "output_type": "execute_result"
    }
   ],
   "source": [
    "stats.ttest_ind(setosa['petal_length'],versicolor['petal_length']) # --> significant p < a == 0.05 "
   ]
  },
  {
   "cell_type": "code",
   "execution_count": 49,
   "id": "5f3ed54b",
   "metadata": {},
   "outputs": [
    {
     "data": {
      "text/plain": [
       "Ttest_indResult(statistic=-49.98618625709594, pvalue=1.5048006992427275e-71)"
      ]
     },
     "execution_count": 49,
     "metadata": {},
     "output_type": "execute_result"
    }
   ],
   "source": [
    "stats.ttest_ind(setosa['petal_length'],virginica['petal_length']) "
   ]
  },
  {
   "cell_type": "code",
   "execution_count": 50,
   "id": "7ea357a9",
   "metadata": {},
   "outputs": [
    {
     "data": {
      "text/plain": [
       "Ttest_indResult(statistic=-12.603779441384985, pvalue=3.1788195478061495e-22)"
      ]
     },
     "execution_count": 50,
     "metadata": {},
     "output_type": "execute_result"
    }
   ],
   "source": [
    "stats.ttest_ind(versicolor['petal_length'],virginica['petal_length']) "
   ]
  },
  {
   "cell_type": "code",
   "execution_count": 51,
   "id": "bfdb21ca",
   "metadata": {},
   "outputs": [
    {
     "data": {
      "text/plain": [
       "ShapiroResult(statistic=0.8762688040733337, pvalue=7.412849778454245e-10)"
      ]
     },
     "execution_count": 51,
     "metadata": {},
     "output_type": "execute_result"
    }
   ],
   "source": [
    "stats.shapiro(iris['petal_length'])"
   ]
  },
  {
   "cell_type": "code",
   "execution_count": 52,
   "id": "024ae6ad",
   "metadata": {},
   "outputs": [
    {
     "data": {
      "text/plain": [
       "MannwhitneyuResult(statistic=0.0, pvalue=5.665214485738232e-18)"
      ]
     },
     "execution_count": 52,
     "metadata": {},
     "output_type": "execute_result"
    }
   ],
   "source": [
    "stats.mannwhitneyu(setosa['petal_length'],virginica['petal_length'])"
   ]
  },
  {
   "cell_type": "code",
   "execution_count": 53,
   "id": "b53bbfb2",
   "metadata": {},
   "outputs": [
    {
     "data": {
      "text/plain": [
       "WilcoxonResult(statistic=0.0, pvalue=7.463471219275886e-10)"
      ]
     },
     "execution_count": 53,
     "metadata": {},
     "output_type": "execute_result"
    }
   ],
   "source": [
    "stats.wilcoxon(setosa['petal_length'],virginica['petal_length'])"
   ]
  },
  {
   "cell_type": "code",
   "execution_count": 54,
   "id": "5335a1df",
   "metadata": {},
   "outputs": [
    {
     "name": "stdout",
     "output_type": "stream",
     "text": [
      "Help on function wilcoxon in module scipy.stats.morestats:\n",
      "\n",
      "wilcoxon(x, y=None, zero_method='wilcox', correction=False, alternative='two-sided', mode='auto')\n",
      "    Calculate the Wilcoxon signed-rank test.\n",
      "    \n",
      "    The Wilcoxon signed-rank test tests the null hypothesis that two\n",
      "    related paired samples come from the same distribution. In particular,\n",
      "    it tests whether the distribution of the differences x - y is symmetric\n",
      "    about zero. It is a non-parametric version of the paired T-test.\n",
      "    \n",
      "    Parameters\n",
      "    ----------\n",
      "    x : array_like\n",
      "        Either the first set of measurements (in which case ``y`` is the second\n",
      "        set of measurements), or the differences between two sets of\n",
      "        measurements (in which case ``y`` is not to be specified.)  Must be\n",
      "        one-dimensional.\n",
      "    y : array_like, optional\n",
      "        Either the second set of measurements (if ``x`` is the first set of\n",
      "        measurements), or not specified (if ``x`` is the differences between\n",
      "        two sets of measurements.)  Must be one-dimensional.\n",
      "    zero_method : {\"pratt\", \"wilcox\", \"zsplit\"}, optional\n",
      "        The following options are available (default is \"wilcox\"):\n",
      "    \n",
      "          * \"pratt\": Includes zero-differences in the ranking process,\n",
      "            but drops the ranks of the zeros, see [4]_, (more conservative).\n",
      "          * \"wilcox\": Discards all zero-differences, the default.\n",
      "          * \"zsplit\": Includes zero-differences in the ranking process and\n",
      "            split the zero rank between positive and negative ones.\n",
      "    correction : bool, optional\n",
      "        If True, apply continuity correction by adjusting the Wilcoxon rank\n",
      "        statistic by 0.5 towards the mean value when computing the\n",
      "        z-statistic if a normal approximation is used.  Default is False.\n",
      "    alternative : {\"two-sided\", \"greater\", \"less\"}, optional\n",
      "        The alternative hypothesis to be tested, see Notes. Default is\n",
      "        \"two-sided\".\n",
      "    mode : {\"auto\", \"exact\", \"approx\"}\n",
      "        Method to calculate the p-value, see Notes. Default is \"auto\".\n",
      "    \n",
      "    Returns\n",
      "    -------\n",
      "    statistic : float\n",
      "        If ``alternative`` is \"two-sided\", the sum of the ranks of the\n",
      "        differences above or below zero, whichever is smaller.\n",
      "        Otherwise the sum of the ranks of the differences above zero.\n",
      "    pvalue : float\n",
      "        The p-value for the test depending on ``alternative`` and ``mode``.\n",
      "    \n",
      "    See Also\n",
      "    --------\n",
      "    kruskal, mannwhitneyu\n",
      "    \n",
      "    Notes\n",
      "    -----\n",
      "    The test has been introduced in [4]_. Given n independent samples\n",
      "    (xi, yi) from a bivariate distribution (i.e. paired samples),\n",
      "    it computes the differences di = xi - yi. One assumption of the test\n",
      "    is that the differences are symmetric, see [2]_.\n",
      "    The two-sided test has the null hypothesis that the median of the\n",
      "    differences is zero against the alternative that it is different from\n",
      "    zero. The one-sided test has the null hypothesis that the median is\n",
      "    positive against the alternative that it is negative\n",
      "    (``alternative == 'less'``), or vice versa (``alternative == 'greater.'``).\n",
      "    \n",
      "    To derive the p-value, the exact distribution (``mode == 'exact'``)\n",
      "    can be used for sample sizes of up to 25. The default ``mode == 'auto'``\n",
      "    uses the exact distribution if there are at most 25 observations and no\n",
      "    ties, otherwise a normal approximation is used (``mode == 'approx'``).\n",
      "    \n",
      "    The treatment of ties can be controlled by the parameter `zero_method`.\n",
      "    If ``zero_method == 'pratt'``, the normal approximation is adjusted as in\n",
      "    [5]_. A typical rule is to require that n > 20 ([2]_, p. 383).\n",
      "    \n",
      "    References\n",
      "    ----------\n",
      "    .. [1] https://en.wikipedia.org/wiki/Wilcoxon_signed-rank_test\n",
      "    .. [2] Conover, W.J., Practical Nonparametric Statistics, 1971.\n",
      "    .. [3] Pratt, J.W., Remarks on Zeros and Ties in the Wilcoxon Signed\n",
      "       Rank Procedures, Journal of the American Statistical Association,\n",
      "       Vol. 54, 1959, pp. 655-667. :doi:`10.1080/01621459.1959.10501526`\n",
      "    .. [4] Wilcoxon, F., Individual Comparisons by Ranking Methods,\n",
      "       Biometrics Bulletin, Vol. 1, 1945, pp. 80-83. :doi:`10.2307/3001968`\n",
      "    .. [5] Cureton, E.E., The Normal Approximation to the Signed-Rank\n",
      "       Sampling Distribution When Zero Differences are Present,\n",
      "       Journal of the American Statistical Association, Vol. 62, 1967,\n",
      "       pp. 1068-1069. :doi:`10.1080/01621459.1967.10500917`\n",
      "    \n",
      "    Examples\n",
      "    --------\n",
      "    In [4]_, the differences in height between cross- and self-fertilized\n",
      "    corn plants is given as follows:\n",
      "    \n",
      "    >>> d = [6, 8, 14, 16, 23, 24, 28, 29, 41, -48, 49, 56, 60, -67, 75]\n",
      "    \n",
      "    Cross-fertilized plants appear to be be higher. To test the null\n",
      "    hypothesis that there is no height difference, we can apply the\n",
      "    two-sided test:\n",
      "    \n",
      "    >>> from scipy.stats import wilcoxon\n",
      "    >>> w, p = wilcoxon(d)\n",
      "    >>> w, p\n",
      "    (24.0, 0.041259765625)\n",
      "    \n",
      "    Hence, we would reject the null hypothesis at a confidence level of 5%,\n",
      "    concluding that there is a difference in height between the groups.\n",
      "    To confirm that the median of the differences can be assumed to be\n",
      "    positive, we use:\n",
      "    \n",
      "    >>> w, p = wilcoxon(d, alternative='greater')\n",
      "    >>> w, p\n",
      "    (96.0, 0.0206298828125)\n",
      "    \n",
      "    This shows that the null hypothesis that the median is negative can be\n",
      "    rejected at a confidence level of 5% in favor of the alternative that\n",
      "    the median is greater than zero. The p-values above are exact. Using the\n",
      "    normal approximation gives very similar values:\n",
      "    \n",
      "    >>> w, p = wilcoxon(d, mode='approx')\n",
      "    >>> w, p\n",
      "    (24.0, 0.04088813291185591)\n",
      "    \n",
      "    Note that the statistic changed to 96 in the one-sided case (the sum\n",
      "    of ranks of positive differences) whereas it is 24 in the two-sided\n",
      "    case (the minimum of sum of ranks above and below zero).\n",
      "\n"
     ]
    }
   ],
   "source": [
    "help(stats.wilcoxon)"
   ]
  },
  {
   "cell_type": "code",
   "execution_count": null,
   "id": "6d3bfffd",
   "metadata": {},
   "outputs": [],
   "source": [
    "stats.normaltest(iris['petal_length'])"
   ]
  },
  {
   "cell_type": "code",
   "execution_count": null,
   "id": "affdb630",
   "metadata": {},
   "outputs": [],
   "source": [
    "help(stats.mannwhitneyu)"
   ]
  },
  {
   "cell_type": "code",
   "execution_count": null,
   "id": "19211a07",
   "metadata": {},
   "outputs": [],
   "source": [
    "stats.mannwhitneyu(versicolor['petal_length'],virginica['petal_length']) "
   ]
  },
  {
   "cell_type": "code",
   "execution_count": 55,
   "id": "7823f2a0",
   "metadata": {},
   "outputs": [
    {
     "data": {
      "image/png": "[encoded data removed]",
      "text/plain": [
       "<Figure size 864x576 with 1 Axes>"
      ]
     },
     "metadata": {
      "needs_background": "light"
     },
     "output_type": "display_data"
    }
   ],
   "source": [
    "figure = plt.figure(figsize=(12,8))\n",
    "\n",
    "plt.rcParams['font.size'] = 12\n",
    "plt.hist(iris[iris['species'] == 'setosa']['sepal_length'], bins=5,color='r', edgecolor='black', linewidth=2, alpha=0.5, label='setosa')\n",
    "plt.hist(iris[iris['species'] == 'versicolor']['sepal_length'], bins=5,color='b', edgecolor='black', linewidth=2, alpha=0.5, label='versicolor')\n",
    "plt.hist(iris[iris['species'] == 'virginica']['sepal_length'], bins=5,color='g', edgecolor='black', linewidth=2, alpha=0.5, label='virginica')\n",
    "plt.xlabel('sepal length distribution colored by species')\n",
    "plt.ylabel('frequency')\n",
    "plt.legend()\n",
    "plt.grid()\n",
    "plt.show()"
   ]
  },
  {
   "cell_type": "code",
   "execution_count": null,
   "id": "c7b1153c",
   "metadata": {},
   "outputs": [],
   "source": [
    "std_population(setosa['petal_width'])"
   ]
  },
  {
   "cell_type": "code",
   "execution_count": null,
   "id": "b2dee8f9",
   "metadata": {},
   "outputs": [],
   "source": [
    "std_population(virginica['petal_width'])"
   ]
  },
  {
   "cell_type": "code",
   "execution_count": null,
   "id": "73516207",
   "metadata": {},
   "outputs": [],
   "source": [
    "std_population(versicolor['petal_width'])"
   ]
  },
  {
   "cell_type": "code",
   "execution_count": null,
   "id": "a468257f",
   "metadata": {},
   "outputs": [],
   "source": [
    "def std_error_mean(arr):\n",
    "    sigma = std_population(arr)\n",
    "    return sigma/np.sqrt(len(arr))"
   ]
  },
  {
   "cell_type": "code",
   "execution_count": null,
   "id": "6e54d79b",
   "metadata": {},
   "outputs": [],
   "source": [
    "import scipy.stats as stats"
   ]
  },
  {
   "cell_type": "code",
   "execution_count": null,
   "id": "1ebb53b4",
   "metadata": {},
   "outputs": [],
   "source": [
    "std_error_mean(iris['petal_width'])"
   ]
  },
  {
   "cell_type": "code",
   "execution_count": null,
   "id": "8a953023",
   "metadata": {},
   "outputs": [],
   "source": [
    "stats.sem(iris['petal_width'])"
   ]
  },
  {
   "cell_type": "code",
   "execution_count": null,
   "id": "b1e07aa2",
   "metadata": {},
   "outputs": [],
   "source": [
    "res = stats.shapiro(iris['petal_width'])"
   ]
  },
  {
   "cell_type": "code",
   "execution_count": null,
   "id": "7d362a88",
   "metadata": {},
   "outputs": [],
   "source": [
    "res.pvalue"
   ]
  },
  {
   "cell_type": "code",
   "execution_count": null,
   "id": "3aae0107",
   "metadata": {},
   "outputs": [],
   "source": [
    "iris['petal_width'].hist()"
   ]
  },
  {
   "cell_type": "code",
   "execution_count": null,
   "id": "acea34fa",
   "metadata": {},
   "outputs": [],
   "source": [
    "setosa.hist()\n",
    "plt.tight_layout()"
   ]
  },
  {
   "cell_type": "code",
   "execution_count": null,
   "id": "ca642144",
   "metadata": {},
   "outputs": [],
   "source": [
    "stats.pearsonr(setosa['petal_length'],setosa['petal_width'])"
   ]
  },
  {
   "cell_type": "code",
   "execution_count": null,
   "id": "228178f8",
   "metadata": {},
   "outputs": [],
   "source": [
    "help(stats.shapiro)"
   ]
  },
  {
   "cell_type": "code",
   "execution_count": null,
   "id": "52c64218",
   "metadata": {},
   "outputs": [],
   "source": [
    "help(stats.normaltest)"
   ]
  },
  {
   "cell_type": "code",
   "execution_count": null,
   "id": "c5ca0892",
   "metadata": {},
   "outputs": [],
   "source": [
    "stats.shapiro(setosa['petal_width'])"
   ]
  },
  {
   "cell_type": "code",
   "execution_count": null,
   "id": "99e9b23d",
   "metadata": {},
   "outputs": [],
   "source": [
    "stats.normaltest(setosa['petal_width'])"
   ]
  },
  {
   "cell_type": "code",
   "execution_count": null,
   "id": "0ad809b1",
   "metadata": {},
   "outputs": [],
   "source": [
    "stats.shapiro(versicolor['petal_width'])"
   ]
  },
  {
   "cell_type": "code",
   "execution_count": null,
   "id": "fd96aa21",
   "metadata": {},
   "outputs": [],
   "source": [
    "stats.normaltest(versicolor['petal_width'])"
   ]
  },
  {
   "cell_type": "code",
   "execution_count": null,
   "id": "e270d8ac",
   "metadata": {},
   "outputs": [],
   "source": [
    "stats.shapiro(virginica['petal_width'])"
   ]
  },
  {
   "cell_type": "code",
   "execution_count": null,
   "id": "fd292081",
   "metadata": {},
   "outputs": [],
   "source": [
    "stats.normaltest(virginica['petal_width'])"
   ]
  },
  {
   "cell_type": "code",
   "execution_count": null,
   "id": "203ab3d4",
   "metadata": {},
   "outputs": [],
   "source": [
    "#values from a standard normal distribution\n",
    "x1 = np.random.normal(0,1,1000)\n",
    "x2 = np.random.normal(0,1,1000)"
   ]
  },
  {
   "cell_type": "code",
   "execution_count": null,
   "id": "ebaebfe8",
   "metadata": {
    "scrolled": true
   },
   "outputs": [],
   "source": [
    "plt.figure(figsize=(6,5))\n",
    "plt.hist(x1,color=\"tomato\",edgecolor='black')\n",
    "plt.grid()"
   ]
  },
  {
   "cell_type": "code",
   "execution_count": null,
   "id": "cf8bfc91",
   "metadata": {},
   "outputs": [],
   "source": [
    "#testing for normal distribution\n",
    "stats.normaltest(x1)"
   ]
  },
  {
   "cell_type": "code",
   "execution_count": null,
   "id": "827c4d75",
   "metadata": {},
   "outputs": [],
   "source": [
    "stats.shapiro(x1)"
   ]
  },
  {
   "cell_type": "code",
   "execution_count": null,
   "id": "c01af1bc",
   "metadata": {},
   "outputs": [],
   "source": [
    "np.mean(x1) == np.mean(x2)"
   ]
  },
  {
   "cell_type": "code",
   "execution_count": null,
   "id": "243d4a0f",
   "metadata": {},
   "outputs": [],
   "source": [
    "np.mean(x1)"
   ]
  },
  {
   "cell_type": "code",
   "execution_count": null,
   "id": "8c2d72a2",
   "metadata": {},
   "outputs": [],
   "source": [
    "np.mean(x2)"
   ]
  },
  {
   "cell_type": "code",
   "execution_count": null,
   "id": "52ca884f",
   "metadata": {},
   "outputs": [],
   "source": [
    "stats.ttest_ind(x1,x2) #we have to accept the null hypothesis"
   ]
  },
  {
   "cell_type": "code",
   "execution_count": null,
   "id": "53f43b91",
   "metadata": {},
   "outputs": [],
   "source": [
    "help(stats.ttest_ind)"
   ]
  },
  {
   "cell_type": "code",
   "execution_count": null,
   "id": "378025fb",
   "metadata": {},
   "outputs": [],
   "source": [
    "def ttest_two_sample(x1,x2):\n",
    "    x1_mean = np.mean(x1)\n",
    "    x2_mean = np.mean(x2)\n",
    "    temp = np.sum((x1 - x1_mean)**2) + np.sum((x2 - x2_mean)**2)\n",
    "    var = temp/(len(x1)+len(x2)-2)\n",
    "    t = (x1_mean - x2_mean)/np.sqrt(var*((1/len(x1))+(1/len(x2))))\n",
    "    return t"
   ]
  },
  {
   "cell_type": "code",
   "execution_count": null,
   "id": "22c703ee",
   "metadata": {},
   "outputs": [],
   "source": [
    "stats.t.cdf(abs(0.8653345405145465),1998)"
   ]
  },
  {
   "cell_type": "markdown",
   "id": "0db1d621",
   "metadata": {},
   "source": [
    "# CohensD"
   ]
  },
  {
   "cell_type": "code",
   "execution_count": null,
   "id": "d791004b",
   "metadata": {},
   "outputs": [],
   "source": [
    "def cohensD_equalstd(x1,x2):\n",
    "    return (np.mean(x1) - np.mean(x2))/np.std(x1)"
   ]
  },
  {
   "cell_type": "code",
   "execution_count": null,
   "id": "41263460",
   "metadata": {},
   "outputs": [],
   "source": [
    "def cohensD_uneuqalstd(x1,x2):\n",
    "    n = np.mean(x1) - np.mean(x2)\n",
    "    s1 = np.sum((x1 - np.mean(x1))**2)/(len(x1)-1)\n",
    "    s2 = np.sum((x2 - np.mean(x2))**2)/(len(x2)-1)\n",
    "    dn = np.sqrt((s1 + s2)/2)\n",
    "    return n/dn"
   ]
  },
  {
   "cell_type": "code",
   "execution_count": null,
   "id": "e11277f3",
   "metadata": {},
   "outputs": [],
   "source": [
    "cohensD_equalstd(x1,x2)"
   ]
  },
  {
   "cell_type": "code",
   "execution_count": null,
   "id": "86592dbe",
   "metadata": {},
   "outputs": [],
   "source": [
    "def cohens_r(x1,x2):\n",
    "    d = cohensD_uneuqalstd(x1,x2)\n",
    "    dn = np.sqrt((d**2) + ((len(x1)+len(x2))**2/(len(x1)*len(x2))))\n",
    "    return d/dn"
   ]
  },
  {
   "cell_type": "code",
   "execution_count": null,
   "id": "6f216944",
   "metadata": {},
   "outputs": [],
   "source": [
    "cohens_r(x1,x2)"
   ]
  },
  {
   "cell_type": "code",
   "execution_count": null,
   "id": "262efa78",
   "metadata": {},
   "outputs": [],
   "source": [
    "t1 = np.random.normal(10,0.5,1000)\n",
    "t2 = np.random.normal(10,2,1000)"
   ]
  },
  {
   "cell_type": "code",
   "execution_count": null,
   "id": "f7f2c07f",
   "metadata": {},
   "outputs": [],
   "source": [
    "cohensD_uneuqalstd(t1,t2)"
   ]
  }
 ],
 "metadata": {
  "kernelspec": {
   "display_name": "Python 3",
   "language": "python",
   "name": "python3"
  },
  "language_info": {
   "codemirror_mode": {
    "name": "ipython",
    "version": 3
   },
   "file_extension": ".py",
   "mimetype": "text/x-python",
   "name": "python",
   "nbconvert_exporter": "python",
   "pygments_lexer": "ipython3",
   "version": "3.8.12"
  }
 },
 "nbformat": 4,
 "nbformat_minor": 5
}
