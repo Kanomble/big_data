{
 "cells": [
  {
   "cell_type": "code",
   "execution_count": 1,
   "id": "758d9ed6",
   "metadata": {},
   "outputs": [],
   "source": [
    "import numpy as np\n",
    "import pandas as pd\n",
    "import matplotlib.pyplot as plt\n",
    "import seaborn as sns\n",
    "import scipy.stats as stats"
   ]
  },
  {
   "cell_type": "code",
   "execution_count": 2,
   "id": "a04cf585",
   "metadata": {},
   "outputs": [],
   "source": [
    "iris = sns.load_dataset('iris')"
   ]
  },
  {
   "cell_type": "code",
   "execution_count": 4,
   "id": "6bd78640",
   "metadata": {},
   "outputs": [
    {
     "data": {
      "text/html": [
       "<div>\n",
       "<style scoped>\n",
       "    .dataframe tbody tr th:only-of-type {\n",
       "        vertical-align: middle;\n",
       "    }\n",
       "\n",
       "    .dataframe tbody tr th {\n",
       "        vertical-align: top;\n",
       "    }\n",
       "\n",
       "    .dataframe thead th {\n",
       "        text-align: right;\n",
       "    }\n",
       "</style>\n",
       "<table border=\"1\" class=\"dataframe\">\n",
       "  <thead>\n",
       "    <tr style=\"text-align: right;\">\n",
       "      <th></th>\n",
       "      <th>sepal_length</th>\n",
       "      <th>sepal_width</th>\n",
       "      <th>petal_length</th>\n",
       "      <th>petal_width</th>\n",
       "      <th>species</th>\n",
       "    </tr>\n",
       "  </thead>\n",
       "  <tbody>\n",
       "    <tr>\n",
       "      <th>0</th>\n",
       "      <td>5.1</td>\n",
       "      <td>3.5</td>\n",
       "      <td>1.4</td>\n",
       "      <td>0.2</td>\n",
       "      <td>setosa</td>\n",
       "    </tr>\n",
       "    <tr>\n",
       "      <th>1</th>\n",
       "      <td>4.9</td>\n",
       "      <td>3.0</td>\n",
       "      <td>1.4</td>\n",
       "      <td>0.2</td>\n",
       "      <td>setosa</td>\n",
       "    </tr>\n",
       "    <tr>\n",
       "      <th>2</th>\n",
       "      <td>4.7</td>\n",
       "      <td>3.2</td>\n",
       "      <td>1.3</td>\n",
       "      <td>0.2</td>\n",
       "      <td>setosa</td>\n",
       "    </tr>\n",
       "    <tr>\n",
       "      <th>3</th>\n",
       "      <td>4.6</td>\n",
       "      <td>3.1</td>\n",
       "      <td>1.5</td>\n",
       "      <td>0.2</td>\n",
       "      <td>setosa</td>\n",
       "    </tr>\n",
       "    <tr>\n",
       "      <th>4</th>\n",
       "      <td>5.0</td>\n",
       "      <td>3.6</td>\n",
       "      <td>1.4</td>\n",
       "      <td>0.2</td>\n",
       "      <td>setosa</td>\n",
       "    </tr>\n",
       "  </tbody>\n",
       "</table>\n",
       "</div>"
      ],
      "text/plain": [
       "   sepal_length  sepal_width  petal_length  petal_width species\n",
       "0           5.1          3.5           1.4          0.2  setosa\n",
       "1           4.9          3.0           1.4          0.2  setosa\n",
       "2           4.7          3.2           1.3          0.2  setosa\n",
       "3           4.6          3.1           1.5          0.2  setosa\n",
       "4           5.0          3.6           1.4          0.2  setosa"
      ]
     },
     "execution_count": 4,
     "metadata": {},
     "output_type": "execute_result"
    }
   ],
   "source": [
    "iris.head()"
   ]
  },
  {
   "cell_type": "code",
   "execution_count": 5,
   "id": "5a489128",
   "metadata": {},
   "outputs": [
    {
     "data": {
      "text/html": [
       "<div>\n",
       "<style scoped>\n",
       "    .dataframe tbody tr th:only-of-type {\n",
       "        vertical-align: middle;\n",
       "    }\n",
       "\n",
       "    .dataframe tbody tr th {\n",
       "        vertical-align: top;\n",
       "    }\n",
       "\n",
       "    .dataframe thead th {\n",
       "        text-align: right;\n",
       "    }\n",
       "</style>\n",
       "<table border=\"1\" class=\"dataframe\">\n",
       "  <thead>\n",
       "    <tr style=\"text-align: right;\">\n",
       "      <th></th>\n",
       "      <th>sepal_length</th>\n",
       "      <th>sepal_width</th>\n",
       "      <th>petal_length</th>\n",
       "      <th>petal_width</th>\n",
       "      <th>species</th>\n",
       "    </tr>\n",
       "  </thead>\n",
       "  <tbody>\n",
       "    <tr>\n",
       "      <th>145</th>\n",
       "      <td>6.7</td>\n",
       "      <td>3.0</td>\n",
       "      <td>5.2</td>\n",
       "      <td>2.3</td>\n",
       "      <td>virginica</td>\n",
       "    </tr>\n",
       "    <tr>\n",
       "      <th>146</th>\n",
       "      <td>6.3</td>\n",
       "      <td>2.5</td>\n",
       "      <td>5.0</td>\n",
       "      <td>1.9</td>\n",
       "      <td>virginica</td>\n",
       "    </tr>\n",
       "    <tr>\n",
       "      <th>147</th>\n",
       "      <td>6.5</td>\n",
       "      <td>3.0</td>\n",
       "      <td>5.2</td>\n",
       "      <td>2.0</td>\n",
       "      <td>virginica</td>\n",
       "    </tr>\n",
       "    <tr>\n",
       "      <th>148</th>\n",
       "      <td>6.2</td>\n",
       "      <td>3.4</td>\n",
       "      <td>5.4</td>\n",
       "      <td>2.3</td>\n",
       "      <td>virginica</td>\n",
       "    </tr>\n",
       "    <tr>\n",
       "      <th>149</th>\n",
       "      <td>5.9</td>\n",
       "      <td>3.0</td>\n",
       "      <td>5.1</td>\n",
       "      <td>1.8</td>\n",
       "      <td>virginica</td>\n",
       "    </tr>\n",
       "  </tbody>\n",
       "</table>\n",
       "</div>"
      ],
      "text/plain": [
       "     sepal_length  sepal_width  petal_length  petal_width    species\n",
       "145           6.7          3.0           5.2          2.3  virginica\n",
       "146           6.3          2.5           5.0          1.9  virginica\n",
       "147           6.5          3.0           5.2          2.0  virginica\n",
       "148           6.2          3.4           5.4          2.3  virginica\n",
       "149           5.9          3.0           5.1          1.8  virginica"
      ]
     },
     "execution_count": 5,
     "metadata": {},
     "output_type": "execute_result"
    }
   ],
   "source": [
    "iris.tail()"
   ]
  },
  {
   "cell_type": "code",
   "execution_count": 6,
   "id": "c4cfa8e5",
   "metadata": {},
   "outputs": [
    {
     "name": "stdout",
     "output_type": "stream",
     "text": [
      "<class 'pandas.core.frame.DataFrame'>\n",
      "RangeIndex: 150 entries, 0 to 149\n",
      "Data columns (total 5 columns):\n",
      " #   Column        Non-Null Count  Dtype  \n",
      "---  ------        --------------  -----  \n",
      " 0   sepal_length  150 non-null    float64\n",
      " 1   sepal_width   150 non-null    float64\n",
      " 2   petal_length  150 non-null    float64\n",
      " 3   petal_width   150 non-null    float64\n",
      " 4   species       150 non-null    object \n",
      "dtypes: float64(4), object(1)\n",
      "memory usage: 6.0+ KB\n"
     ]
    }
   ],
   "source": [
    "iris.info()"
   ]
  },
  {
   "cell_type": "code",
   "execution_count": 7,
   "id": "79cf8cc9",
   "metadata": {},
   "outputs": [
    {
     "data": {
      "text/html": [
       "<div>\n",
       "<style scoped>\n",
       "    .dataframe tbody tr th:only-of-type {\n",
       "        vertical-align: middle;\n",
       "    }\n",
       "\n",
       "    .dataframe tbody tr th {\n",
       "        vertical-align: top;\n",
       "    }\n",
       "\n",
       "    .dataframe thead th {\n",
       "        text-align: right;\n",
       "    }\n",
       "</style>\n",
       "<table border=\"1\" class=\"dataframe\">\n",
       "  <thead>\n",
       "    <tr style=\"text-align: right;\">\n",
       "      <th></th>\n",
       "      <th>sepal_length</th>\n",
       "      <th>sepal_width</th>\n",
       "      <th>petal_length</th>\n",
       "      <th>petal_width</th>\n",
       "    </tr>\n",
       "  </thead>\n",
       "  <tbody>\n",
       "    <tr>\n",
       "      <th>count</th>\n",
       "      <td>150.000000</td>\n",
       "      <td>150.000000</td>\n",
       "      <td>150.000000</td>\n",
       "      <td>150.000000</td>\n",
       "    </tr>\n",
       "    <tr>\n",
       "      <th>mean</th>\n",
       "      <td>5.843333</td>\n",
       "      <td>3.057333</td>\n",
       "      <td>3.758000</td>\n",
       "      <td>1.199333</td>\n",
       "    </tr>\n",
       "    <tr>\n",
       "      <th>std</th>\n",
       "      <td>0.828066</td>\n",
       "      <td>0.435866</td>\n",
       "      <td>1.765298</td>\n",
       "      <td>0.762238</td>\n",
       "    </tr>\n",
       "    <tr>\n",
       "      <th>min</th>\n",
       "      <td>4.300000</td>\n",
       "      <td>2.000000</td>\n",
       "      <td>1.000000</td>\n",
       "      <td>0.100000</td>\n",
       "    </tr>\n",
       "    <tr>\n",
       "      <th>25%</th>\n",
       "      <td>5.100000</td>\n",
       "      <td>2.800000</td>\n",
       "      <td>1.600000</td>\n",
       "      <td>0.300000</td>\n",
       "    </tr>\n",
       "    <tr>\n",
       "      <th>50%</th>\n",
       "      <td>5.800000</td>\n",
       "      <td>3.000000</td>\n",
       "      <td>4.350000</td>\n",
       "      <td>1.300000</td>\n",
       "    </tr>\n",
       "    <tr>\n",
       "      <th>75%</th>\n",
       "      <td>6.400000</td>\n",
       "      <td>3.300000</td>\n",
       "      <td>5.100000</td>\n",
       "      <td>1.800000</td>\n",
       "    </tr>\n",
       "    <tr>\n",
       "      <th>max</th>\n",
       "      <td>7.900000</td>\n",
       "      <td>4.400000</td>\n",
       "      <td>6.900000</td>\n",
       "      <td>2.500000</td>\n",
       "    </tr>\n",
       "  </tbody>\n",
       "</table>\n",
       "</div>"
      ],
      "text/plain": [
       "       sepal_length  sepal_width  petal_length  petal_width\n",
       "count    150.000000   150.000000    150.000000   150.000000\n",
       "mean       5.843333     3.057333      3.758000     1.199333\n",
       "std        0.828066     0.435866      1.765298     0.762238\n",
       "min        4.300000     2.000000      1.000000     0.100000\n",
       "25%        5.100000     2.800000      1.600000     0.300000\n",
       "50%        5.800000     3.000000      4.350000     1.300000\n",
       "75%        6.400000     3.300000      5.100000     1.800000\n",
       "max        7.900000     4.400000      6.900000     2.500000"
      ]
     },
     "execution_count": 7,
     "metadata": {},
     "output_type": "execute_result"
    }
   ],
   "source": [
    "iris.describe()"
   ]
  },
  {
   "cell_type": "code",
   "execution_count": 8,
   "id": "3d9b2a51",
   "metadata": {},
   "outputs": [
    {
     "data": {
      "image/png": "[encoded data removed]",
      "text/plain": [
       "<Figure size 432x288 with 4 Axes>"
      ]
     },
     "metadata": {
      "needs_background": "light"
     },
     "output_type": "display_data"
    }
   ],
   "source": [
    "iris.hist()\n",
    "plt.tight_layout()"
   ]
  },
  {
   "cell_type": "code",
   "execution_count": 9,
   "id": "deeb8b03",
   "metadata": {},
   "outputs": [
    {
     "data": {
      "text/plain": [
       "0.7622376689603465"
      ]
     },
     "execution_count": 9,
     "metadata": {},
     "output_type": "execute_result"
    }
   ],
   "source": [
    "iris['petal_width'].std()"
   ]
  },
  {
   "cell_type": "code",
   "execution_count": 10,
   "id": "22b19a73",
   "metadata": {},
   "outputs": [],
   "source": [
    "def std_population(arr):\n",
    "    ssquare = sum((arr - np.mean(arr))**2)/(len(arr)-1)\n",
    "    return np.sqrt(ssquare)"
   ]
  },
  {
   "cell_type": "code",
   "execution_count": 11,
   "id": "e6ce31a7",
   "metadata": {},
   "outputs": [
    {
     "data": {
      "text/plain": [
       "0.7622376689603464"
      ]
     },
     "execution_count": 11,
     "metadata": {},
     "output_type": "execute_result"
    }
   ],
   "source": [
    "std_population(iris['petal_width'])"
   ]
  },
  {
   "cell_type": "code",
   "execution_count": 12,
   "id": "5c4a61a0",
   "metadata": {},
   "outputs": [
    {
     "data": {
      "text/plain": [
       "True"
      ]
     },
     "execution_count": 12,
     "metadata": {},
     "output_type": "execute_result"
    }
   ],
   "source": [
    "round(iris['petal_width'].std(),3) == round(std_population(iris['petal_width']),3)"
   ]
  },
  {
   "cell_type": "code",
   "execution_count": 13,
   "id": "ae37a185",
   "metadata": {},
   "outputs": [
    {
     "data": {
      "text/plain": [
       "array(['setosa', 'versicolor', 'virginica'], dtype=object)"
      ]
     },
     "execution_count": 13,
     "metadata": {},
     "output_type": "execute_result"
    }
   ],
   "source": [
    "iris['species'].unique()"
   ]
  },
  {
   "cell_type": "code",
   "execution_count": 14,
   "id": "c442d31c",
   "metadata": {},
   "outputs": [],
   "source": [
    "setosa = iris[iris['species'] == \"setosa\"]\n",
    "versicolor = iris[iris['species'] == \"versicolor\"]\n",
    "virginica = iris[iris['species'] == \"virginica\"]"
   ]
  },
  {
   "cell_type": "code",
   "execution_count": 15,
   "id": "1a24277c",
   "metadata": {},
   "outputs": [],
   "source": [
    "empty_list = []\n",
    "for i in iris['species']:\n",
    "    if i != 'virginica':\n",
    "        empty_list.append(False)\n",
    "    else:\n",
    "        empty_list.append(True)"
   ]
  },
  {
   "cell_type": "code",
   "execution_count": 16,
   "id": "bbe35583",
   "metadata": {},
   "outputs": [
    {
     "data": {
      "text/html": [
       "<div>\n",
       "<style scoped>\n",
       "    .dataframe tbody tr th:only-of-type {\n",
       "        vertical-align: middle;\n",
       "    }\n",
       "\n",
       "    .dataframe tbody tr th {\n",
       "        vertical-align: top;\n",
       "    }\n",
       "\n",
       "    .dataframe thead th {\n",
       "        text-align: right;\n",
       "    }\n",
       "</style>\n",
       "<table border=\"1\" class=\"dataframe\">\n",
       "  <thead>\n",
       "    <tr style=\"text-align: right;\">\n",
       "      <th></th>\n",
       "      <th>sepal_length</th>\n",
       "      <th>sepal_width</th>\n",
       "      <th>petal_length</th>\n",
       "      <th>petal_width</th>\n",
       "      <th>species</th>\n",
       "    </tr>\n",
       "  </thead>\n",
       "  <tbody>\n",
       "    <tr>\n",
       "      <th>100</th>\n",
       "      <td>6.3</td>\n",
       "      <td>3.3</td>\n",
       "      <td>6.0</td>\n",
       "      <td>2.5</td>\n",
       "      <td>virginica</td>\n",
       "    </tr>\n",
       "    <tr>\n",
       "      <th>101</th>\n",
       "      <td>5.8</td>\n",
       "      <td>2.7</td>\n",
       "      <td>5.1</td>\n",
       "      <td>1.9</td>\n",
       "      <td>virginica</td>\n",
       "    </tr>\n",
       "    <tr>\n",
       "      <th>102</th>\n",
       "      <td>7.1</td>\n",
       "      <td>3.0</td>\n",
       "      <td>5.9</td>\n",
       "      <td>2.1</td>\n",
       "      <td>virginica</td>\n",
       "    </tr>\n",
       "    <tr>\n",
       "      <th>103</th>\n",
       "      <td>6.3</td>\n",
       "      <td>2.9</td>\n",
       "      <td>5.6</td>\n",
       "      <td>1.8</td>\n",
       "      <td>virginica</td>\n",
       "    </tr>\n",
       "    <tr>\n",
       "      <th>104</th>\n",
       "      <td>6.5</td>\n",
       "      <td>3.0</td>\n",
       "      <td>5.8</td>\n",
       "      <td>2.2</td>\n",
       "      <td>virginica</td>\n",
       "    </tr>\n",
       "  </tbody>\n",
       "</table>\n",
       "</div>"
      ],
      "text/plain": [
       "     sepal_length  sepal_width  petal_length  petal_width    species\n",
       "100           6.3          3.3           6.0          2.5  virginica\n",
       "101           5.8          2.7           5.1          1.9  virginica\n",
       "102           7.1          3.0           5.9          2.1  virginica\n",
       "103           6.3          2.9           5.6          1.8  virginica\n",
       "104           6.5          3.0           5.8          2.2  virginica"
      ]
     },
     "execution_count": 16,
     "metadata": {},
     "output_type": "execute_result"
    }
   ],
   "source": [
    "iris[pd.Series(empty_list)].head()"
   ]
  },
  {
   "cell_type": "code",
   "execution_count": 17,
   "id": "8ff00049",
   "metadata": {},
   "outputs": [
    {
     "data": {
      "image/png": "[encoded data removed]",
      "text/plain": [
       "<Figure size 432x288 with 4 Axes>"
      ]
     },
     "metadata": {
      "needs_background": "light"
     },
     "output_type": "display_data"
    }
   ],
   "source": [
    "iris.hist()\n",
    "plt.tight_layout()"
   ]
  },
  {
   "cell_type": "code",
   "execution_count": 18,
   "id": "b1fefa5f",
   "metadata": {},
   "outputs": [
    {
     "data": {
      "text/plain": [
       "<matplotlib.collections.PathCollection at 0x7f729e167520>"
      ]
     },
     "execution_count": 18,
     "metadata": {},
     "output_type": "execute_result"
    },
    {
     "data": {
      "image/png": "[encoded data removed]",
      "text/plain": [
       "<Figure size 432x288 with 1 Axes>"
      ]
     },
     "metadata": {
      "needs_background": "light"
     },
     "output_type": "display_data"
    }
   ],
   "source": [
    "plt.scatter(range(len(iris)),iris['petal_length'])"
   ]
  },
  {
   "cell_type": "code",
   "execution_count": 19,
   "id": "92c9d56c",
   "metadata": {},
   "outputs": [
    {
     "data": {
      "text/plain": [
       "<matplotlib.collections.PathCollection at 0x7f729e1fc310>"
      ]
     },
     "execution_count": 19,
     "metadata": {},
     "output_type": "execute_result"
    },
    {
     "data": {
      "image/png": "[encoded data removed]",
      "text/plain": [
       "<Figure size 432x288 with 1 Axes>"
      ]
     },
     "metadata": {
      "needs_background": "light"
     },
     "output_type": "display_data"
    }
   ],
   "source": [
    "colors = []\n",
    "for i in range(150):\n",
    "    if i%3 == 0:\n",
    "        colors.append('r')\n",
    "    if i%3 == 1:\n",
    "        colors.append('g')\n",
    "    if i%3 == 2:\n",
    "        colors.append('b')\n",
    "colors.sort()\n",
    "\n",
    "plt.scatter(range(len(iris)),iris['petal_length'],color = colors)"
   ]
  },
  {
   "cell_type": "code",
   "execution_count": 20,
   "id": "28d8d311",
   "metadata": {},
   "outputs": [
    {
     "data": {
      "text/plain": [
       "<matplotlib.collections.PathCollection at 0x7f729e313fa0>"
      ]
     },
     "execution_count": 20,
     "metadata": {},
     "output_type": "execute_result"
    },
    {
     "data": {
      "image/png": "[encoded data removed]",
      "text/plain": [
       "<Figure size 432x288 with 1 Axes>"
      ]
     },
     "metadata": {
      "needs_background": "light"
     },
     "output_type": "display_data"
    }
   ],
   "source": [
    "colors = {'setosa':'r','versicolor':'b','virginica':'g'}\n",
    "plt.scatter(range(len(iris)),iris['petal_length'],color = iris['species'].map(colors))"
   ]
  },
  {
   "cell_type": "code",
   "execution_count": 21,
   "id": "35426ad8",
   "metadata": {},
   "outputs": [
    {
     "data": {
      "text/plain": [
       "<matplotlib.legend.Legend at 0x7f729e429c10>"
      ]
     },
     "execution_count": 21,
     "metadata": {},
     "output_type": "execute_result"
    },
    {
     "data": {
      "image/png": "[encoded data removed]",
      "text/plain": [
       "<Figure size 432x288 with 1 Axes>"
      ]
     },
     "metadata": {
      "needs_background": "light"
     },
     "output_type": "display_data"
    }
   ],
   "source": [
    "plt.scatter(range(len(setosa)),setosa['petal_length'],color='r',label='setosa')\n",
    "plt.scatter(range(len(versicolor)),versicolor['petal_length'],color='b',label='versicolor')\n",
    "plt.scatter(range(len(virginica)),virginica['petal_length'],color='g',label='virginica')\n",
    "plt.legend()"
   ]
  },
  {
   "cell_type": "code",
   "execution_count": 22,
   "id": "9c97d467",
   "metadata": {},
   "outputs": [
    {
     "data": {
      "text/plain": [
       "1.0"
      ]
     },
     "execution_count": 22,
     "metadata": {},
     "output_type": "execute_result"
    }
   ],
   "source": [
    "setosa['petal_length'].min()"
   ]
  },
  {
   "cell_type": "code",
   "execution_count": 23,
   "id": "7530b7c1",
   "metadata": {},
   "outputs": [
    {
     "data": {
      "text/plain": [
       "Text(0.5, 1.0, 'distribution of the petal length of different iris species')"
      ]
     },
     "execution_count": 23,
     "metadata": {},
     "output_type": "execute_result"
    },
    {
     "data": {
      "image/png": "[encoded data removed]",
      "text/plain": [
       "<Figure size 576x432 with 1 Axes>"
      ]
     },
     "metadata": {
      "needs_background": "light"
     },
     "output_type": "display_data"
    }
   ],
   "source": [
    "additional_list = [0] * 100\n",
    "setosa_pl = list(setosa['petal_length'])\n",
    "setosa_pl = setosa_pl + additional_list\n",
    "\n",
    "additional_list = [0] * 50\n",
    "versicolor_pl = list(versicolor['petal_length'])\n",
    "versicolor_pl = additional_list + versicolor_pl + additional_list\n",
    "\n",
    "additional_list = [0] * 100\n",
    "virginica_pl = list(virginica['petal_length'])\n",
    "virginica_pl = additional_list + virginica_pl\n",
    "\n",
    "fsize = 16\n",
    "plt.figure(figsize=(8,6))\n",
    "plt.scatter(range(len(setosa_pl)),setosa_pl,color='r',label='setosa')#str(round(np.mean(setosa['petal_length']),2))\n",
    "#plt.axhline(np.mean(setosa['petal_length']), color='r')\n",
    "plt.scatter(range(len(versicolor_pl)),versicolor_pl,color='b',label='versicolor')\n",
    "plt.scatter(range(len(virginica_pl)),virginica_pl,color='g',label='virginica')\n",
    "plt.ylim(0.5,8)\n",
    "plt.grid()\n",
    "plt.legend(loc=\"upper left\",fontsize=fsize-2)\n",
    "plt.xlabel(\"plant species\",fontsize=fsize)\n",
    "plt.ylabel(\"petal length\",fontsize=fsize)\n",
    "plt.title(\"distribution of the petal length of different iris species\", fontsize=fsize)"
   ]
  },
  {
   "cell_type": "code",
   "execution_count": 24,
   "id": "f6bb86ea",
   "metadata": {},
   "outputs": [
    {
     "data": {
      "text/plain": [
       "Ttest_indResult(statistic=-39.492719391538095, pvalue=5.404910513441677e-62)"
      ]
     },
     "execution_count": 24,
     "metadata": {},
     "output_type": "execute_result"
    }
   ],
   "source": [
    "stats.ttest_ind(setosa['petal_length'],versicolor['petal_length']) # --> significant p < a == 0.05 "
   ]
  },
  {
   "cell_type": "code",
   "execution_count": 25,
   "id": "5f3ed54b",
   "metadata": {},
   "outputs": [
    {
     "data": {
      "text/plain": [
       "Ttest_indResult(statistic=-49.98618625709594, pvalue=1.5048006992427275e-71)"
      ]
     },
     "execution_count": 25,
     "metadata": {},
     "output_type": "execute_result"
    }
   ],
   "source": [
    "stats.ttest_ind(setosa['petal_length'],virginica['petal_length']) "
   ]
  },
  {
   "cell_type": "code",
   "execution_count": 26,
   "id": "7ea357a9",
   "metadata": {},
   "outputs": [
    {
     "data": {
      "text/plain": [
       "Ttest_indResult(statistic=-12.603779441384985, pvalue=3.1788195478061495e-22)"
      ]
     },
     "execution_count": 26,
     "metadata": {},
     "output_type": "execute_result"
    }
   ],
   "source": [
    "stats.ttest_ind(versicolor['petal_length'],virginica['petal_length']) "
   ]
  },
  {
   "cell_type": "code",
   "execution_count": 27,
   "id": "bfdb21ca",
   "metadata": {},
   "outputs": [
    {
     "data": {
      "text/plain": [
       "ShapiroResult(statistic=0.8762688040733337, pvalue=7.412849778454245e-10)"
      ]
     },
     "execution_count": 27,
     "metadata": {},
     "output_type": "execute_result"
    }
   ],
   "source": [
    "stats.shapiro(iris['petal_length'])"
   ]
  },
  {
   "cell_type": "code",
   "execution_count": 28,
   "id": "024ae6ad",
   "metadata": {},
   "outputs": [
    {
     "data": {
      "text/plain": [
       "MannwhitneyuResult(statistic=0.0, pvalue=5.665214485738232e-18)"
      ]
     },
     "execution_count": 28,
     "metadata": {},
     "output_type": "execute_result"
    }
   ],
   "source": [
    "stats.mannwhitneyu(setosa['petal_length'],virginica['petal_length'])"
   ]
  },
  {
   "cell_type": "code",
   "execution_count": 29,
   "id": "b53bbfb2",
   "metadata": {},
   "outputs": [
    {
     "data": {
      "text/plain": [
       "WilcoxonResult(statistic=0.0, pvalue=7.463471219275886e-10)"
      ]
     },
     "execution_count": 29,
     "metadata": {},
     "output_type": "execute_result"
    }
   ],
   "source": [
    "stats.wilcoxon(setosa['petal_length'],virginica['petal_length'])"
   ]
  },
  {
   "cell_type": "code",
   "execution_count": 31,
   "id": "6d3bfffd",
   "metadata": {},
   "outputs": [
    {
     "data": {
      "text/plain": [
       "NormaltestResult(statistic=221.68729405585384, pvalue=7.264667501338673e-49)"
      ]
     },
     "execution_count": 31,
     "metadata": {},
     "output_type": "execute_result"
    }
   ],
   "source": [
    "stats.normaltest(iris['petal_length'])"
   ]
  },
  {
   "cell_type": "code",
   "execution_count": 33,
   "id": "19211a07",
   "metadata": {},
   "outputs": [
    {
     "data": {
      "text/plain": [
       "MannwhitneyuResult(statistic=44.5, pvalue=9.133544727668256e-17)"
      ]
     },
     "execution_count": 33,
     "metadata": {},
     "output_type": "execute_result"
    }
   ],
   "source": [
    "stats.mannwhitneyu(versicolor['petal_length'],virginica['petal_length']) "
   ]
  },
  {
   "cell_type": "code",
   "execution_count": 34,
   "id": "7823f2a0",
   "metadata": {},
   "outputs": [
    {
     "data": {
      "image/png": "[encoded data removed]",
      "text/plain": [
       "<Figure size 864x576 with 1 Axes>"
      ]
     },
     "metadata": {
      "needs_background": "light"
     },
     "output_type": "display_data"
    }
   ],
   "source": [
    "figure = plt.figure(figsize=(12,8))\n",
    "\n",
    "plt.rcParams['font.size'] = 12\n",
    "plt.hist(iris[iris['species'] == 'setosa']['sepal_length'], bins=5,color='r', edgecolor='black', linewidth=2, alpha=0.5, label='setosa')\n",
    "plt.hist(iris[iris['species'] == 'versicolor']['sepal_length'], bins=5,color='b', edgecolor='black', linewidth=2, alpha=0.5, label='versicolor')\n",
    "plt.hist(iris[iris['species'] == 'virginica']['sepal_length'], bins=5,color='g', edgecolor='black', linewidth=2, alpha=0.5, label='virginica')\n",
    "plt.xlabel('sepal length distribution colored by species')\n",
    "plt.ylabel('frequency')\n",
    "plt.legend()\n",
    "plt.grid()\n",
    "plt.show()"
   ]
  },
  {
   "cell_type": "code",
   "execution_count": 35,
   "id": "c7b1153c",
   "metadata": {},
   "outputs": [
    {
     "data": {
      "text/plain": [
       "0.10538558938004569"
      ]
     },
     "execution_count": 35,
     "metadata": {},
     "output_type": "execute_result"
    }
   ],
   "source": [
    "std_population(setosa['petal_width'])"
   ]
  },
  {
   "cell_type": "code",
   "execution_count": 36,
   "id": "b2dee8f9",
   "metadata": {},
   "outputs": [
    {
     "data": {
      "text/plain": [
       "0.27465005563666733"
      ]
     },
     "execution_count": 36,
     "metadata": {},
     "output_type": "execute_result"
    }
   ],
   "source": [
    "std_population(virginica['petal_width'])"
   ]
  },
  {
   "cell_type": "code",
   "execution_count": 37,
   "id": "73516207",
   "metadata": {},
   "outputs": [
    {
     "data": {
      "text/plain": [
       "0.197752680004544"
      ]
     },
     "execution_count": 37,
     "metadata": {},
     "output_type": "execute_result"
    }
   ],
   "source": [
    "std_population(versicolor['petal_width'])"
   ]
  },
  {
   "cell_type": "code",
   "execution_count": 38,
   "id": "a468257f",
   "metadata": {},
   "outputs": [],
   "source": [
    "def std_error_mean(arr):\n",
    "    sigma = std_population(arr)\n",
    "    return sigma/np.sqrt(len(arr))"
   ]
  },
  {
   "cell_type": "code",
   "execution_count": 39,
   "id": "6e54d79b",
   "metadata": {},
   "outputs": [],
   "source": [
    "import scipy.stats as stats"
   ]
  },
  {
   "cell_type": "code",
   "execution_count": 40,
   "id": "1ebb53b4",
   "metadata": {},
   "outputs": [
    {
     "data": {
      "text/plain": [
       "0.062236445056044275"
      ]
     },
     "execution_count": 40,
     "metadata": {},
     "output_type": "execute_result"
    }
   ],
   "source": [
    "std_error_mean(iris['petal_width'])"
   ]
  },
  {
   "cell_type": "code",
   "execution_count": 41,
   "id": "8a953023",
   "metadata": {},
   "outputs": [
    {
     "data": {
      "text/plain": [
       "0.06223644505604428"
      ]
     },
     "execution_count": 41,
     "metadata": {},
     "output_type": "execute_result"
    }
   ],
   "source": [
    "stats.sem(iris['petal_width'])"
   ]
  },
  {
   "cell_type": "code",
   "execution_count": 42,
   "id": "b1e07aa2",
   "metadata": {},
   "outputs": [],
   "source": [
    "res = stats.shapiro(iris['petal_width'])"
   ]
  },
  {
   "cell_type": "code",
   "execution_count": 43,
   "id": "7d362a88",
   "metadata": {},
   "outputs": [
    {
     "data": {
      "text/plain": [
       "1.6802413682626138e-08"
      ]
     },
     "execution_count": 43,
     "metadata": {},
     "output_type": "execute_result"
    }
   ],
   "source": [
    "res.pvalue"
   ]
  },
  {
   "cell_type": "code",
   "execution_count": 44,
   "id": "3aae0107",
   "metadata": {},
   "outputs": [
    {
     "data": {
      "text/plain": [
       "<AxesSubplot:>"
      ]
     },
     "execution_count": 44,
     "metadata": {},
     "output_type": "execute_result"
    },
    {
     "data": {
      "image/png": "[encoded data removed]",
      "text/plain": [
       "<Figure size 432x288 with 1 Axes>"
      ]
     },
     "metadata": {
      "needs_background": "light"
     },
     "output_type": "display_data"
    }
   ],
   "source": [
    "iris['petal_width'].hist()"
   ]
  },
  {
   "cell_type": "code",
   "execution_count": 45,
   "id": "acea34fa",
   "metadata": {},
   "outputs": [
    {
     "data": {
      "image/png": "[encoded data removed]",
      "text/plain": [
       "<Figure size 432x288 with 4 Axes>"
      ]
     },
     "metadata": {
      "needs_background": "light"
     },
     "output_type": "display_data"
    }
   ],
   "source": [
    "setosa.hist()\n",
    "plt.tight_layout()"
   ]
  },
  {
   "cell_type": "code",
   "execution_count": 46,
   "id": "ca642144",
   "metadata": {},
   "outputs": [
    {
     "data": {
      "text/plain": [
       "(0.33163004080411873, 0.018638915007537234)"
      ]
     },
     "execution_count": 46,
     "metadata": {},
     "output_type": "execute_result"
    }
   ],
   "source": [
    "stats.pearsonr(setosa['petal_length'],setosa['petal_width'])"
   ]
  },
  {
   "cell_type": "code",
   "execution_count": 49,
   "id": "c5ca0892",
   "metadata": {},
   "outputs": [
    {
     "data": {
      "text/plain": [
       "ShapiroResult(statistic=0.7997642159461975, pvalue=8.65842082475865e-07)"
      ]
     },
     "execution_count": 49,
     "metadata": {},
     "output_type": "execute_result"
    }
   ],
   "source": [
    "stats.shapiro(setosa['petal_width'])"
   ]
  },
  {
   "cell_type": "code",
   "execution_count": 50,
   "id": "99e9b23d",
   "metadata": {},
   "outputs": [
    {
     "data": {
      "text/plain": [
       "NormaltestResult(statistic=14.938723582242247, pvalue=0.0005702921462706576)"
      ]
     },
     "execution_count": 50,
     "metadata": {},
     "output_type": "execute_result"
    }
   ],
   "source": [
    "stats.normaltest(setosa['petal_width'])"
   ]
  },
  {
   "cell_type": "code",
   "execution_count": 51,
   "id": "0ad809b1",
   "metadata": {},
   "outputs": [
    {
     "data": {
      "text/plain": [
       "ShapiroResult(statistic=0.947626531124115, pvalue=0.027278218418359756)"
      ]
     },
     "execution_count": 51,
     "metadata": {},
     "output_type": "execute_result"
    }
   ],
   "source": [
    "stats.shapiro(versicolor['petal_width'])"
   ]
  },
  {
   "cell_type": "code",
   "execution_count": 52,
   "id": "fd96aa21",
   "metadata": {},
   "outputs": [
    {
     "data": {
      "text/plain": [
       "NormaltestResult(statistic=0.32741606910241755, pvalue=0.8489898614040613)"
      ]
     },
     "execution_count": 52,
     "metadata": {},
     "output_type": "execute_result"
    }
   ],
   "source": [
    "stats.normaltest(versicolor['petal_width'])"
   ]
  },
  {
   "cell_type": "code",
   "execution_count": 53,
   "id": "e270d8ac",
   "metadata": {},
   "outputs": [
    {
     "data": {
      "text/plain": [
       "ShapiroResult(statistic=0.9597718715667725, pvalue=0.08695744723081589)"
      ]
     },
     "execution_count": 53,
     "metadata": {},
     "output_type": "execute_result"
    }
   ],
   "source": [
    "stats.shapiro(virginica['petal_width'])"
   ]
  },
  {
   "cell_type": "code",
   "execution_count": 54,
   "id": "fd292081",
   "metadata": {},
   "outputs": [
    {
     "data": {
      "text/plain": [
       "NormaltestResult(statistic=1.2383770472082007, pvalue=0.5383811439725827)"
      ]
     },
     "execution_count": 54,
     "metadata": {},
     "output_type": "execute_result"
    }
   ],
   "source": [
    "stats.normaltest(virginica['petal_width'])"
   ]
  },
  {
   "cell_type": "code",
   "execution_count": 55,
   "id": "203ab3d4",
   "metadata": {},
   "outputs": [],
   "source": [
    "#values from a standard normal distribution\n",
    "x1 = np.random.normal(0,1,1000)\n",
    "x2 = np.random.normal(0,1,1000)"
   ]
  },
  {
   "cell_type": "code",
   "execution_count": 56,
   "id": "ebaebfe8",
   "metadata": {
    "scrolled": true
   },
   "outputs": [
    {
     "data": {
      "image/png": "[encoded data removed]",
      "text/plain": [
       "<Figure size 432x360 with 1 Axes>"
      ]
     },
     "metadata": {
      "needs_background": "light"
     },
     "output_type": "display_data"
    }
   ],
   "source": [
    "plt.figure(figsize=(6,5))\n",
    "plt.hist(x1,color=\"tomato\",edgecolor='black')\n",
    "plt.grid()"
   ]
  },
  {
   "cell_type": "code",
   "execution_count": 57,
   "id": "cf8bfc91",
   "metadata": {},
   "outputs": [
    {
     "data": {
      "text/plain": [
       "NormaltestResult(statistic=0.9135611361586347, pvalue=0.6333192952859665)"
      ]
     },
     "execution_count": 57,
     "metadata": {},
     "output_type": "execute_result"
    }
   ],
   "source": [
    "#testing for normal distribution\n",
    "stats.normaltest(x1)"
   ]
  },
  {
   "cell_type": "code",
   "execution_count": 58,
   "id": "827c4d75",
   "metadata": {},
   "outputs": [
    {
     "data": {
      "text/plain": [
       "ShapiroResult(statistic=0.9986141324043274, pvalue=0.6305720210075378)"
      ]
     },
     "execution_count": 58,
     "metadata": {},
     "output_type": "execute_result"
    }
   ],
   "source": [
    "stats.shapiro(x1)"
   ]
  },
  {
   "cell_type": "code",
   "execution_count": 59,
   "id": "c01af1bc",
   "metadata": {},
   "outputs": [
    {
     "data": {
      "text/plain": [
       "False"
      ]
     },
     "execution_count": 59,
     "metadata": {},
     "output_type": "execute_result"
    }
   ],
   "source": [
    "np.mean(x1) == np.mean(x2)"
   ]
  },
  {
   "cell_type": "code",
   "execution_count": 60,
   "id": "243d4a0f",
   "metadata": {},
   "outputs": [
    {
     "data": {
      "text/plain": [
       "0.02310897911088722"
      ]
     },
     "execution_count": 60,
     "metadata": {},
     "output_type": "execute_result"
    }
   ],
   "source": [
    "np.mean(x1)"
   ]
  },
  {
   "cell_type": "code",
   "execution_count": 61,
   "id": "8c2d72a2",
   "metadata": {},
   "outputs": [
    {
     "data": {
      "text/plain": [
       "0.04552844384474258"
      ]
     },
     "execution_count": 61,
     "metadata": {},
     "output_type": "execute_result"
    }
   ],
   "source": [
    "np.mean(x2)"
   ]
  },
  {
   "cell_type": "code",
   "execution_count": 62,
   "id": "52ca884f",
   "metadata": {},
   "outputs": [
    {
     "data": {
      "text/plain": [
       "Ttest_indResult(statistic=-0.5069153673779088, pvalue=0.6122701409863954)"
      ]
     },
     "execution_count": 62,
     "metadata": {},
     "output_type": "execute_result"
    }
   ],
   "source": [
    "stats.ttest_ind(x1,x2) #we have to accept the null hypothesis"
   ]
  },
  {
   "cell_type": "code",
   "execution_count": 64,
   "id": "378025fb",
   "metadata": {},
   "outputs": [],
   "source": [
    "def ttest_two_sample(x1,x2):\n",
    "    x1_mean = np.mean(x1)\n",
    "    x2_mean = np.mean(x2)\n",
    "    temp = np.sum((x1 - x1_mean)**2) + np.sum((x2 - x2_mean)**2)\n",
    "    var = temp/(len(x1)+len(x2)-2)\n",
    "    t = (x1_mean - x2_mean)/np.sqrt(var*((1/len(x1))+(1/len(x2))))\n",
    "    return t"
   ]
  },
  {
   "cell_type": "code",
   "execution_count": 65,
   "id": "116c2781",
   "metadata": {},
   "outputs": [
    {
     "data": {
      "text/plain": [
       "-0.5069153673779088"
      ]
     },
     "execution_count": 65,
     "metadata": {},
     "output_type": "execute_result"
    }
   ],
   "source": [
    "ttest_two_sample(x1,x2)"
   ]
  }
 ],
 "metadata": {
  "kernelspec": {
   "display_name": "Python 3",
   "language": "python",
   "name": "python3"
  },
  "language_info": {
   "codemirror_mode": {
    "name": "ipython",
    "version": 3
   },
   "file_extension": ".py",
   "mimetype": "text/x-python",
   "name": "python",
   "nbconvert_exporter": "python",
   "pygments_lexer": "ipython3",
   "version": "3.8.12"
  }
 },
 "nbformat": 4,
 "nbformat_minor": 5
}
