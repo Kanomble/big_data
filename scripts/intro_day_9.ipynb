{
 "cells": [
  {
   "cell_type": "code",
   "execution_count": null,
   "id": "be25b07a",
   "metadata": {},
   "outputs": [],
   "source": [
    "import numpy as np\n",
    "import matplotlib.pyplot as plt\n",
    "import pandas as pd\n",
    "from sklearn.decomposition import PCA"
   ]
  },
  {
   "cell_type": "code",
   "execution_count": null,
   "id": "b3373632",
   "metadata": {},
   "outputs": [],
   "source": [
    "arr = np.random.randint(1,7,10000)"
   ]
  },
  {
   "cell_type": "code",
   "execution_count": null,
   "id": "097c2a12",
   "metadata": {},
   "outputs": [],
   "source": [
    "np.mean(arr)"
   ]
  },
  {
   "cell_type": "code",
   "execution_count": null,
   "id": "d53f4717",
   "metadata": {},
   "outputs": [],
   "source": [
    "#iterativ\n",
    "m = np.mean(arr)\n",
    "summ = 0\n",
    "for x in arr:\n",
    "    summ = summ + (x - m)**2\n",
    "summ = summ/(len(arr)-1)\n",
    "np.sqrt(summ)"
   ]
  },
  {
   "cell_type": "code",
   "execution_count": null,
   "id": "97ef33e8",
   "metadata": {},
   "outputs": [],
   "source": [
    "#vectorized\n",
    "m = np.mean(arr)\n",
    "np.sum((arr - m)**2)/(len(arr)-1)"
   ]
  },
  {
   "cell_type": "code",
   "execution_count": null,
   "id": "1bc4d0ea",
   "metadata": {},
   "outputs": [],
   "source": [
    "np.std(arr)"
   ]
  },
  {
   "cell_type": "code",
   "execution_count": null,
   "id": "4869c150",
   "metadata": {},
   "outputs": [],
   "source": [
    "def variance(arr:np.array)->float:\n",
    "    m = np.mean(arr)\n",
    "    return np.sum((arr - m)**2)/(len(arr)-1)\n",
    "\n",
    "def standard_deviation(arr:np.array)->float:\n",
    "    var = variance(arr)\n",
    "    return np.sqrt(var)"
   ]
  },
  {
   "cell_type": "code",
   "execution_count": null,
   "id": "0368ecfb",
   "metadata": {},
   "outputs": [],
   "source": [
    "standard_deviation(arr)"
   ]
  },
  {
   "cell_type": "code",
   "execution_count": null,
   "id": "926012dc",
   "metadata": {},
   "outputs": [],
   "source": [
    "def standard_error_mean(arr:np.array)->float:\n",
    "    std = np.std(arr)\n",
    "    return std/np.sqrt(len(arr))"
   ]
  },
  {
   "cell_type": "code",
   "execution_count": null,
   "id": "5e44595d",
   "metadata": {},
   "outputs": [],
   "source": [
    "standard_error_mean(arr)"
   ]
  },
  {
   "cell_type": "code",
   "execution_count": null,
   "id": "7511026e",
   "metadata": {},
   "outputs": [],
   "source": [
    "def coefficient_var(arr:np.array)->float:\n",
    "    return np.std(arr)/np.mean(arr)"
   ]
  },
  {
   "cell_type": "code",
   "execution_count": null,
   "id": "4aa0f15a",
   "metadata": {},
   "outputs": [],
   "source": [
    "coefficient_var(arr)"
   ]
  },
  {
   "cell_type": "code",
   "execution_count": null,
   "id": "97aa4b21",
   "metadata": {},
   "outputs": [],
   "source": [
    "arr = np.random.normal(loc=0,scale=1,size=10000)"
   ]
  },
  {
   "cell_type": "code",
   "execution_count": null,
   "id": "5ab3c765",
   "metadata": {},
   "outputs": [],
   "source": [
    "np.mean(arr)\n",
    "np.std(arr)"
   ]
  },
  {
   "cell_type": "code",
   "execution_count": null,
   "id": "25c5f050",
   "metadata": {},
   "outputs": [],
   "source": [
    "standard_deviation(arr)"
   ]
  },
  {
   "cell_type": "code",
   "execution_count": null,
   "id": "2d43cb12",
   "metadata": {},
   "outputs": [],
   "source": [
    "plt.hist(arr)"
   ]
  },
  {
   "cell_type": "code",
   "execution_count": null,
   "id": "6bedfbdb",
   "metadata": {},
   "outputs": [],
   "source": [
    "plt.scatter(x=range(len(arr)),y=arr)\n",
    "plt.axhline(np.mean(arr), color=\"tomato\")"
   ]
  },
  {
   "cell_type": "code",
   "execution_count": null,
   "id": "fddace1f",
   "metadata": {},
   "outputs": [],
   "source": [
    "arr_1 = np.random.normal(loc=0,scale=1,size=10000)\n",
    "arr_2 = np.random.normal(loc=0,scale=3,size=10000)"
   ]
  },
  {
   "cell_type": "code",
   "execution_count": null,
   "id": "a61c9226",
   "metadata": {},
   "outputs": [],
   "source": [
    "plt.hist(arr_1)\n",
    "plt.hist(arr_2,alpha=0.5)"
   ]
  },
  {
   "cell_type": "code",
   "execution_count": null,
   "id": "30f7f26e",
   "metadata": {},
   "outputs": [],
   "source": [
    "data_path = \"../data/\"\n",
    "wines_path = data_path + 'wine.csv'\n",
    "wine_df = pd.read_csv(wines_path)"
   ]
  },
  {
   "cell_type": "code",
   "execution_count": null,
   "id": "d0621ea6",
   "metadata": {},
   "outputs": [],
   "source": [
    "wine_df.head()"
   ]
  },
  {
   "cell_type": "code",
   "execution_count": null,
   "id": "211c1a1e",
   "metadata": {},
   "outputs": [],
   "source": [
    "wine_df[\"alcalinity magnesium total_phenols flavanoids\".split(\" \")]"
   ]
  },
  {
   "cell_type": "code",
   "execution_count": null,
   "id": "19d25901",
   "metadata": {},
   "outputs": [],
   "source": [
    "cols = list(wine_df.columns)\n",
    "cols.remove(\"wine_type\")"
   ]
  },
  {
   "cell_type": "code",
   "execution_count": null,
   "id": "697d23cd",
   "metadata": {},
   "outputs": [],
   "source": [
    "cols"
   ]
  },
  {
   "cell_type": "code",
   "execution_count": null,
   "id": "783ff753",
   "metadata": {},
   "outputs": [],
   "source": [
    "pca_df = wine_df[cols]"
   ]
  },
  {
   "cell_type": "code",
   "execution_count": null,
   "id": "ed73f9d1",
   "metadata": {},
   "outputs": [],
   "source": [
    "pca_wines = PCA(len(wine_df[\"alcalinity magnesium total_phenols flavanoids\".split(\" \")].columns))\n",
    "pco_wines=pca_wines.fit_transform(wine_df[\"alcalinity magnesium total_phenols flavanoids\".split(\" \")])"
   ]
  },
  {
   "cell_type": "code",
   "execution_count": null,
   "id": "cb41d8e1",
   "metadata": {},
   "outputs": [],
   "source": [
    "(pca_wines.explained_variance_ratio_) * 100"
   ]
  },
  {
   "cell_type": "code",
   "execution_count": null,
   "id": "e69ca73d",
   "metadata": {},
   "outputs": [],
   "source": [
    "plt.figure(figsize=(8,6))\n",
    "plt.scatter(x=pco_wines[1],y=pco_wines[0], color=\"royalblue\")\n",
    "plt.ylabel(\"PC1\")\n",
    "plt.xlabel(\"PC2\")"
   ]
  }
 ],
 "metadata": {
  "kernelspec": {
   "display_name": "Python 3",
   "language": "python",
   "name": "python3"
  },
  "language_info": {
   "codemirror_mode": {
    "name": "ipython",
    "version": 3
   },
   "file_extension": ".py",
   "mimetype": "text/x-python",
   "name": "python",
   "nbconvert_exporter": "python",
   "pygments_lexer": "ipython3",
   "version": "3.8.12"
  }
 },
 "nbformat": 4,
 "nbformat_minor": 5
}
