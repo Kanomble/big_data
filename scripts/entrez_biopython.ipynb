{
 "cells": [
  {
   "cell_type": "markdown",
   "id": "091efd6e",
   "metadata": {},
   "source": [
    "# E-Utilities"
   ]
  },
  {
   "cell_type": "code",
   "execution_count": 42,
   "id": "24641196",
   "metadata": {},
   "outputs": [],
   "source": [
    "from Bio import SeqIO\n",
    "import pandas as pd"
   ]
  },
  {
   "cell_type": "code",
   "execution_count": 2,
   "id": "6cecba4a",
   "metadata": {},
   "outputs": [],
   "source": [
    "!esearch -db pubmed -query \"polysaccharides [MAJR:TIAB] AND symbiosis [MAJR:TIAB] AND review [PT]\" | efetch -format docsum | xtract -pattern DocumentSummary -sep '\\t' -element Id PubDate Source Author Title ELocationID > ../data/eps_in_symbiosis_reviews.txt"
   ]
  },
  {
   "cell_type": "code",
   "execution_count": 3,
   "id": "0d250428",
   "metadata": {},
   "outputs": [
    {
     "data": {
      "text/html": [
       "<div>\n",
       "<style scoped>\n",
       "    .dataframe tbody tr th:only-of-type {\n",
       "        vertical-align: middle;\n",
       "    }\n",
       "\n",
       "    .dataframe tbody tr th {\n",
       "        vertical-align: top;\n",
       "    }\n",
       "\n",
       "    .dataframe thead th {\n",
       "        text-align: right;\n",
       "    }\n",
       "</style>\n",
       "<table border=\"1\" class=\"dataframe\">\n",
       "  <thead>\n",
       "    <tr style=\"text-align: right;\">\n",
       "      <th></th>\n",
       "      <th>Id</th>\n",
       "      <th>PubDate</th>\n",
       "      <th>Source</th>\n",
       "      <th>Title</th>\n",
       "      <th>ElocationID</th>\n",
       "    </tr>\n",
       "  </thead>\n",
       "  <tbody>\n",
       "    <tr>\n",
       "      <th>0</th>\n",
       "      <td>34207734</td>\n",
       "      <td>2021 Jun 9</td>\n",
       "      <td>Int J Mol Sci</td>\n",
       "      <td>Rhizobial Exopolysaccharides: Genetic Regulati...</td>\n",
       "      <td>pii: 6233. doi: 10.3390/ijms22126233</td>\n",
       "    </tr>\n",
       "    <tr>\n",
       "      <th>1</th>\n",
       "      <td>33320473</td>\n",
       "      <td>2020 Mar 31</td>\n",
       "      <td>Postepy Biochem</td>\n",
       "      <td>Structures of rhizobial lipopolysaccharides an...</td>\n",
       "      <td>doi: 10.18388/pb.2020_316</td>\n",
       "    </tr>\n",
       "    <tr>\n",
       "      <th>2</th>\n",
       "      <td>33090749</td>\n",
       "      <td>2020 Oct 22</td>\n",
       "      <td>Acta Biochim Pol</td>\n",
       "      <td>Biological activity of Nod factors.</td>\n",
       "      <td>doi: 10.18388/abp.2020_5353</td>\n",
       "    </tr>\n",
       "    <tr>\n",
       "      <th>3</th>\n",
       "      <td>32037451</td>\n",
       "      <td>2020 Mar 1</td>\n",
       "      <td>FEMS Microbiol Lett</td>\n",
       "      <td>3D biofilms: in search of the polysaccharides ...</td>\n",
       "      <td>pii: fnaa023. doi: 10.1093/femsle/fnaa023</td>\n",
       "    </tr>\n",
       "    <tr>\n",
       "      <th>4</th>\n",
       "      <td>29624823</td>\n",
       "      <td>2018 Jun</td>\n",
       "      <td>Cell Microbiol</td>\n",
       "      <td>Cyclic β-glucans at the bacteria-host cells in...</td>\n",
       "      <td>doi: 10.1111/cmi.12850</td>\n",
       "    </tr>\n",
       "  </tbody>\n",
       "</table>\n",
       "</div>"
      ],
      "text/plain": [
       "         Id      PubDate               Source  \\\n",
       "0  34207734   2021 Jun 9        Int J Mol Sci   \n",
       "1  33320473  2020 Mar 31      Postepy Biochem   \n",
       "2  33090749  2020 Oct 22     Acta Biochim Pol   \n",
       "3  32037451   2020 Mar 1  FEMS Microbiol Lett   \n",
       "4  29624823     2018 Jun       Cell Microbiol   \n",
       "\n",
       "                                               Title  \\\n",
       "0  Rhizobial Exopolysaccharides: Genetic Regulati...   \n",
       "1  Structures of rhizobial lipopolysaccharides an...   \n",
       "2                Biological activity of Nod factors.   \n",
       "3  3D biofilms: in search of the polysaccharides ...   \n",
       "4  Cyclic β-glucans at the bacteria-host cells in...   \n",
       "\n",
       "                                 ElocationID  \n",
       "0       pii: 6233. doi: 10.3390/ijms22126233  \n",
       "1                  doi: 10.18388/pb.2020_316  \n",
       "2                doi: 10.18388/abp.2020_5353  \n",
       "3  pii: fnaa023. doi: 10.1093/femsle/fnaa023  \n",
       "4                     doi: 10.1111/cmi.12850  "
      ]
     },
     "execution_count": 3,
     "metadata": {},
     "output_type": "execute_result"
    }
   ],
   "source": [
    "cols = ['Id','PubDate','Source','Title','ElocationID']\n",
    "sym_reviews = pd.read_table('../data/eps_in_symbiosis_reviews.txt',header=None)\n",
    "sym_reviews.columns = cols\n",
    "sym_reviews.head()"
   ]
  },
  {
   "cell_type": "markdown",
   "id": "c5f9d2bc",
   "metadata": {},
   "source": [
    "# Working with databases"
   ]
  },
  {
   "cell_type": "code",
   "execution_count": 13,
   "id": "405d6968",
   "metadata": {},
   "outputs": [
    {
     "name": "stdout",
     "output_type": "stream",
     "text": [
      "ACCN\tAccession\r\n",
      "ALL\tAll Fields\r\n",
      "ALLN\tAll Names\r\n",
      "ASAC\tAssembly Accession\r\n",
      "ASLV\tAssembly Level\r\n",
      "ASMM\tAssembly Method\r\n",
      "CL50\tContig L50\r\n",
      "CN50\tContig N50\r\n",
      "CNTG\tContig Count\r\n",
      "COV\tCoverage\r\n",
      "DESC\tDescription\r\n",
      "EXFV\tExpected Final Version\r\n",
      "FILT\tFilter\r\n",
      "FTYP\tFrom Type Material\r\n",
      "GCOV\tGenome Coverage\r\n",
      "GRLS\tDate - GenBank Assembly Release\r\n",
      "GUID\tGenBank ID\r\n",
      "INFR\tInfraspecific Name\r\n",
      "ISOL\tIsolate\r\n",
      "LEN\tTotal Sequence Length in Mbp\r\n",
      "LINK\tLinked Assembly\r\n",
      "NAME\tAssembly Name\r\n",
      "NFRS\tExcluded from RefSeq\r\n",
      "ORGN\tOrganism\r\n",
      "PLAC\tPlaced Scaffolds Count\r\n",
      "PROJ\tBioProject IDs and Accessions\r\n",
      "PROP\tProperties\r\n",
      "RCAT\tRefSeq Category\r\n",
      "REPL\tChromosome Count\r\n",
      "RGAS\tReference Guided Assembly\r\n",
      "RLEN\tTotal Sequence Length\r\n",
      "RRLS\tDate - RefSeq Assembly Release\r\n",
      "RTYP\tRelease Type\r\n",
      "RUID\tRefSeq ID\r\n",
      "SAMP\tBioSample\r\n",
      "SCAM\tSingle Cell Amplification\r\n",
      "SEX\tSex\r\n",
      "SL50\tScaffold L50\r\n",
      "SN50\tScaffold N50\r\n",
      "SRDT\tDate - Sequences Release\r\n",
      "SUBO\tSubmitter Organization\r\n",
      "TCS\tTaxonomy Check Status\r\n",
      "TECH\tSequencing Technology\r\n",
      "TXID\tTaxonomy ID\r\n",
      "TYPE\tAssembly Type\r\n",
      "UID\tUID\r\n",
      "UIDS\tAll Uids\r\n",
      "UNGL\tUngapped Length in Mbp\r\n",
      "UNLO\tUnlocalized Scaffolds Count\r\n",
      "UNPL\tUnplaced Scaffolds Count\r\n",
      "UPDT\tDate - Assembly Update\r\n"
     ]
    }
   ],
   "source": [
    "!einfo -db assembly -fields"
   ]
  },
  {
   "cell_type": "code",
   "execution_count": 39,
   "id": "0f5cf9e5",
   "metadata": {},
   "outputs": [
    {
     "name": "stdout",
     "output_type": "stream",
     "text": [
      "ASM2062199v1\tContig\r\n",
      "ASM2024890v1\tContig\r\n",
      "ASM1923305v1\tContig\r\n",
      "ASM1847400v1\tContig\r\n",
      "freshwater MAG --- B4coas_bin-1074\tContig\r\n",
      "freshwater MAG --- AM-2014_bin-3866\tContig\r\n",
      "freshwater MAG --- AM_bin-3052\tContig\r\n",
      "freshwater MAG --- C24_bin-2693\tContig\r\n",
      "freshwater MAG --- Kiruna_bin-07108\tContig\r\n",
      "freshwater MAG --- MJ-time_bin-9276\tContig\r\n",
      "freshwater MAG --- MJ-time_bin-3905\tContig\r\n",
      "freshwater MAG --- Ki1-0-7m_bin-0950\tContig\r\n",
      "freshwater MAG --- B-4_bin-480\tContig\r\n",
      "freshwater MAG --- AM-2014-D1_bin-129\tContig\r\n",
      "freshwater MAG --- C-2_bin-299\tContig\r\n",
      "ASM429372v1\tContig\r\n",
      "ASM263308v1\tContig\r\n",
      "ASM216371v1\tChromosome\r\n",
      "ASM179731v1\tContig\r\n",
      "ASM159226v1\tContig\r\n"
     ]
    }
   ],
   "source": [
    "!esearch -db assembly -query \"Curvibacter[ORGN] AND (contig[ASLV] OR chromosome[ASLV])\" | efetch -format docsum | xtract -pattern DocumentSummary -element AssemblyName AssemblyStatus"
   ]
  },
  {
   "cell_type": "code",
   "execution_count": 40,
   "id": "4b28f948",
   "metadata": {},
   "outputs": [],
   "source": [
    "!esearch -db assembly -query \"Curvibacter [ORGN]\" | efetch -format docsum | xtract -pattern DocumentSummary -element Id AssemblyAccession AssemblyName AssemblyStatus Taxid Organism SpeciesTaxid SpeciesName > ../data/curvibacter_assemblies.table"
   ]
  },
  {
   "cell_type": "code",
   "execution_count": 45,
   "id": "ab77d352",
   "metadata": {},
   "outputs": [
    {
     "data": {
      "text/html": [
       "<div>\n",
       "<style scoped>\n",
       "    .dataframe tbody tr th:only-of-type {\n",
       "        vertical-align: middle;\n",
       "    }\n",
       "\n",
       "    .dataframe tbody tr th {\n",
       "        vertical-align: top;\n",
       "    }\n",
       "\n",
       "    .dataframe thead th {\n",
       "        text-align: right;\n",
       "    }\n",
       "</style>\n",
       "<table border=\"1\" class=\"dataframe\">\n",
       "  <thead>\n",
       "    <tr style=\"text-align: right;\">\n",
       "      <th></th>\n",
       "      <th>Id</th>\n",
       "      <th>AssemblyAccession</th>\n",
       "      <th>AssemblyName</th>\n",
       "      <th>AssemblyStatus</th>\n",
       "      <th>Taxid</th>\n",
       "      <th>Organism</th>\n",
       "      <th>SpeciesTaxid</th>\n",
       "      <th>SpeciesName</th>\n",
       "    </tr>\n",
       "  </thead>\n",
       "  <tbody>\n",
       "    <tr>\n",
       "      <th>0</th>\n",
       "      <td>11312701</td>\n",
       "      <td>GCA_020621995.1</td>\n",
       "      <td>ASM2062199v1</td>\n",
       "      <td>Contig</td>\n",
       "      <td>1888168</td>\n",
       "      <td>Curvibacter sp. (b-proteobacteria)</td>\n",
       "      <td>1888168</td>\n",
       "      <td>Curvibacter sp.</td>\n",
       "    </tr>\n",
       "    <tr>\n",
       "      <th>1</th>\n",
       "      <td>11312681</td>\n",
       "      <td>GCA_020621965.1</td>\n",
       "      <td>ASM2062196v1</td>\n",
       "      <td>Scaffold</td>\n",
       "      <td>1888168</td>\n",
       "      <td>Curvibacter sp. (b-proteobacteria)</td>\n",
       "      <td>1888168</td>\n",
       "      <td>Curvibacter sp.</td>\n",
       "    </tr>\n",
       "    <tr>\n",
       "      <th>2</th>\n",
       "      <td>11068931</td>\n",
       "      <td>GCA_020248905.1</td>\n",
       "      <td>ASM2024890v1</td>\n",
       "      <td>Contig</td>\n",
       "      <td>1888168</td>\n",
       "      <td>Curvibacter sp. (b-proteobacteria)</td>\n",
       "      <td>1888168</td>\n",
       "      <td>Curvibacter sp.</td>\n",
       "    </tr>\n",
       "    <tr>\n",
       "      <th>3</th>\n",
       "      <td>10501171</td>\n",
       "      <td>GCA_019233055.1</td>\n",
       "      <td>ASM1923305v1</td>\n",
       "      <td>Contig</td>\n",
       "      <td>1888168</td>\n",
       "      <td>Curvibacter sp. (b-proteobacteria)</td>\n",
       "      <td>1888168</td>\n",
       "      <td>Curvibacter sp.</td>\n",
       "    </tr>\n",
       "    <tr>\n",
       "      <th>4</th>\n",
       "      <td>10449501</td>\n",
       "      <td>GCA_019163435.1</td>\n",
       "      <td>ASM1916343v1</td>\n",
       "      <td>Scaffold</td>\n",
       "      <td>86182</td>\n",
       "      <td>Curvibacter lanceolatus (b-proteobacteria)</td>\n",
       "      <td>86182</td>\n",
       "      <td>Curvibacter lanceolatus</td>\n",
       "    </tr>\n",
       "  </tbody>\n",
       "</table>\n",
       "</div>"
      ],
      "text/plain": [
       "         Id AssemblyAccession  AssemblyName AssemblyStatus    Taxid  \\\n",
       "0  11312701   GCA_020621995.1  ASM2062199v1         Contig  1888168   \n",
       "1  11312681   GCA_020621965.1  ASM2062196v1       Scaffold  1888168   \n",
       "2  11068931   GCA_020248905.1  ASM2024890v1         Contig  1888168   \n",
       "3  10501171   GCA_019233055.1  ASM1923305v1         Contig  1888168   \n",
       "4  10449501   GCA_019163435.1  ASM1916343v1       Scaffold    86182   \n",
       "\n",
       "                                     Organism  SpeciesTaxid  \\\n",
       "0          Curvibacter sp. (b-proteobacteria)       1888168   \n",
       "1          Curvibacter sp. (b-proteobacteria)       1888168   \n",
       "2          Curvibacter sp. (b-proteobacteria)       1888168   \n",
       "3          Curvibacter sp. (b-proteobacteria)       1888168   \n",
       "4  Curvibacter lanceolatus (b-proteobacteria)         86182   \n",
       "\n",
       "               SpeciesName  \n",
       "0          Curvibacter sp.  \n",
       "1          Curvibacter sp.  \n",
       "2          Curvibacter sp.  \n",
       "3          Curvibacter sp.  \n",
       "4  Curvibacter lanceolatus  "
      ]
     },
     "execution_count": 45,
     "metadata": {},
     "output_type": "execute_result"
    }
   ],
   "source": [
    "cols = ['Id', 'AssemblyAccession', 'AssemblyName', 'AssemblyStatus', 'Taxid', 'Organism', 'SpeciesTaxid', 'SpeciesName']\n",
    "assemblies = pd.read_table('../data/curvibacter_assemblies.table',header=None)\n",
    "\n",
    "assemblies.columns = cols\n",
    "assemblies.head()"
   ]
  },
  {
   "cell_type": "markdown",
   "id": "f17e0293",
   "metadata": {},
   "source": [
    "## Linking pubmed queries to protein sequences"
   ]
  },
  {
   "cell_type": "code",
   "execution_count": 2,
   "id": "7f552a44",
   "metadata": {},
   "outputs": [],
   "source": [
    "!esearch -db pubmed -query \"EPS\" | elink -target protein | efilter -organism curvibacter | efetch -format fasta > ../data/curvibacter_eps_proteins.faa"
   ]
  },
  {
   "cell_type": "markdown",
   "id": "26ce820c",
   "metadata": {},
   "source": [
    "# Query examples for the protein database"
   ]
  },
  {
   "cell_type": "code",
   "execution_count": 1,
   "id": "2b03f23e",
   "metadata": {},
   "outputs": [],
   "source": [
    "!esearch -db protein -query \"exopolysaccharide AND curvibacter [ORGN]\" | efetch -format fasta > ../data/curvibacter_exopolysaccharides.fasta"
   ]
  },
  {
   "cell_type": "code",
   "execution_count": 2,
   "id": "c84c874a",
   "metadata": {},
   "outputs": [],
   "source": [
    "!esearch -db protein -query \"lipopolysaccharides AND curvibacter [ORGN]\" | efetch -format fasta > ../data/curvibacter_lipopolysaccharides.fasta"
   ]
  },
  {
   "cell_type": "code",
   "execution_count": 3,
   "id": "6cfd4549",
   "metadata": {},
   "outputs": [],
   "source": [
    "!esearch -db protein -query \"sigma factor AND curvibacter sp. AEP1-3 [ORGN]\" | efetch -format fasta > ../data/curvibacter_sigma_factors.faa"
   ]
  },
  {
   "cell_type": "code",
   "execution_count": 4,
   "id": "981d0d3a",
   "metadata": {},
   "outputs": [],
   "source": [
    "fhandle_eps = '../data/curvibacter_exopolysaccharides.fasta'\n",
    "fhandle_lps = '../data/curvibacter_lipopolysaccharides.fasta'"
   ]
  },
  {
   "cell_type": "code",
   "execution_count": 6,
   "id": "5c413300",
   "metadata": {},
   "outputs": [],
   "source": [
    "def fasta_file_to_dictionary_by_organism(fhandle, verbose=False):    \n",
    "    print(\"[+] STARTING iteration through fasta file : {}\".format(fhandle))\n",
    "    curvibacter_eps_sequences_dict = {}\n",
    "    try:\n",
    "        for record in SeqIO.parse(fhandle,'fasta'):\n",
    "            organism = record.description.split('[')[-1].split(']')[0]\n",
    "            if verbose == True: print(\"[*] Found {} sequence in {}\".format(record.id, organism))\n",
    "            if organism not in curvibacter_eps_sequences_dict.keys():\n",
    "                curvibacter_eps_sequences_dict[organism] = [[record.id,record.description,record.seq]]\n",
    "            else:\n",
    "                curvibacter_eps_sequences_dict[organism].append([record.id,record.description,record.seq])\n",
    "            if verbose == True: print(\"\\t[+] Attached sequence object to dictionary\")\n",
    "        print(\"[+] DONE parsing\")\n",
    "        return curvibacter_eps_sequences_dict\n",
    "    except Exception as e:\n",
    "        raise Exception('[-] ERROR occured during fasta file parsing. Exception: {}'.format(e))"
   ]
  },
  {
   "cell_type": "code",
   "execution_count": 7,
   "id": "a29393bd",
   "metadata": {},
   "outputs": [
    {
     "name": "stdout",
     "output_type": "stream",
     "text": [
      "[+] STARTING iteration through fasta file : ../data/curvibacter_eps_proteins.faa\n",
      "[+] DONE parsing\n"
     ]
    }
   ],
   "source": [
    "curvibacter_eps_sequence_dict = fasta_file_to_dictionary_by_organism(fhandle_eps)"
   ]
  },
  {
   "cell_type": "code",
   "execution_count": 8,
   "id": "6f719b35",
   "metadata": {},
   "outputs": [
    {
     "name": "stdout",
     "output_type": "stream",
     "text": [
      "[+] STARTING iteration through fasta file : ../data/curvibacter_lipopolysaccharide_proteins.faa\n",
      "[+] DONE parsing\n"
     ]
    }
   ],
   "source": [
    "curvibacter_lps_sequence_dict = fasta_file_to_dictionary_by_organism(fhandle_lps)"
   ]
  },
  {
   "cell_type": "code",
   "execution_count": 9,
   "id": "dc5850d8",
   "metadata": {},
   "outputs": [
    {
     "data": {
      "text/plain": [
       "dict_keys(['Curvibacter sp. CHRR-16', 'Curvibacter sp. AEP1-3', 'Curvibacter lanceolatus', 'Curvibacter delicatus', 'Burkholderiales', 'Proteobacteria', 'Curvibacter sp. PAE-UM', 'Curvibacter gracilis', 'Curvibacter', 'Comamonadaceae', 'Betaproteobacteria', 'Curvibacter sp.', 'Curvibacter sp. PD_MW3', 'Curvibacter sp. RIFCSPHIGHO2_12_FULL_63_18', 'Curvibacter sp. GWA2_64_110', 'Curvibacter sp. GWA2_63_95', 'Curvibacter sp. IPC7', 'Curvibacter sp. UNPF65', 'uncultured Curvibacter sp.', 'Curvibacter putative symbiont of Hydra magnipapillata'])"
      ]
     },
     "execution_count": 9,
     "metadata": {},
     "output_type": "execute_result"
    }
   ],
   "source": [
    "curvibacter_lps_sequence_dict.keys()"
   ]
  },
  {
   "cell_type": "code",
   "execution_count": 11,
   "id": "0990b36c",
   "metadata": {},
   "outputs": [
    {
     "data": {
      "text/plain": [
       "7981"
      ]
     },
     "execution_count": 11,
     "metadata": {},
     "output_type": "execute_result"
    }
   ],
   "source": [
    "len(curvibacter_lps_sequence_dict['Curvibacter sp. AEP1-3'])"
   ]
  }
 ],
 "metadata": {
  "kernelspec": {
   "display_name": "Python 3",
   "language": "python",
   "name": "python3"
  },
  "language_info": {
   "codemirror_mode": {
    "name": "ipython",
    "version": 3
   },
   "file_extension": ".py",
   "mimetype": "text/x-python",
   "name": "python",
   "nbconvert_exporter": "python",
   "pygments_lexer": "ipython3",
   "version": "3.8.12"
  }
 },
 "nbformat": 4,
 "nbformat_minor": 5
}
