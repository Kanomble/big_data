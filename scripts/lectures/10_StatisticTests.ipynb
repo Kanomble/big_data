{
 "cells": [
  {
   "cell_type": "code",
   "execution_count": 1,
   "metadata": {},
   "outputs": [],
   "source": [
    "import numpy as np\n",
    "import pandas as pd\n",
    "import matplotlib.pyplot as plt\n",
    "import seaborn as sns\n",
    "from scipy import stats\n",
    "%matplotlib inline"
   ]
  },
  {
   "cell_type": "code",
   "execution_count": 2,
   "metadata": {},
   "outputs": [
    {
     "data": {
      "text/html": [
       "<div>\n",
       "<table border=\"1\" class=\"dataframe\">\n",
       "  <thead>\n",
       "    <tr style=\"text-align: right;\">\n",
       "      <th></th>\n",
       "      <th>abv</th>\n",
       "      <th>malic_acid</th>\n",
       "      <th>ash</th>\n",
       "      <th>alcalinity</th>\n",
       "      <th>magnesium</th>\n",
       "      <th>total_phenols</th>\n",
       "      <th>flavanoids</th>\n",
       "      <th>nonflavanoid_phenols</th>\n",
       "      <th>proanthocyacins</th>\n",
       "      <th>color</th>\n",
       "      <th>hue</th>\n",
       "      <th>dilution</th>\n",
       "      <th>proline</th>\n",
       "      <th>wine_type</th>\n",
       "    </tr>\n",
       "  </thead>\n",
       "  <tbody>\n",
       "    <tr>\n",
       "      <th>0</th>\n",
       "      <td>14.23</td>\n",
       "      <td>1.71</td>\n",
       "      <td>2.43</td>\n",
       "      <td>15.6</td>\n",
       "      <td>127</td>\n",
       "      <td>2.80</td>\n",
       "      <td>3.06</td>\n",
       "      <td>0.28</td>\n",
       "      <td>2.29</td>\n",
       "      <td>5.64</td>\n",
       "      <td>1.04</td>\n",
       "      <td>3.92</td>\n",
       "      <td>1065</td>\n",
       "      <td>1</td>\n",
       "    </tr>\n",
       "    <tr>\n",
       "      <th>1</th>\n",
       "      <td>13.20</td>\n",
       "      <td>1.78</td>\n",
       "      <td>2.14</td>\n",
       "      <td>11.2</td>\n",
       "      <td>100</td>\n",
       "      <td>2.65</td>\n",
       "      <td>2.76</td>\n",
       "      <td>0.26</td>\n",
       "      <td>1.28</td>\n",
       "      <td>4.38</td>\n",
       "      <td>1.05</td>\n",
       "      <td>3.40</td>\n",
       "      <td>1050</td>\n",
       "      <td>1</td>\n",
       "    </tr>\n",
       "    <tr>\n",
       "      <th>2</th>\n",
       "      <td>13.16</td>\n",
       "      <td>2.36</td>\n",
       "      <td>2.67</td>\n",
       "      <td>18.6</td>\n",
       "      <td>101</td>\n",
       "      <td>2.80</td>\n",
       "      <td>3.24</td>\n",
       "      <td>0.30</td>\n",
       "      <td>2.81</td>\n",
       "      <td>5.68</td>\n",
       "      <td>1.03</td>\n",
       "      <td>3.17</td>\n",
       "      <td>1185</td>\n",
       "      <td>1</td>\n",
       "    </tr>\n",
       "    <tr>\n",
       "      <th>3</th>\n",
       "      <td>14.37</td>\n",
       "      <td>1.95</td>\n",
       "      <td>2.50</td>\n",
       "      <td>16.8</td>\n",
       "      <td>113</td>\n",
       "      <td>3.85</td>\n",
       "      <td>3.49</td>\n",
       "      <td>0.24</td>\n",
       "      <td>2.18</td>\n",
       "      <td>7.80</td>\n",
       "      <td>0.86</td>\n",
       "      <td>3.45</td>\n",
       "      <td>1480</td>\n",
       "      <td>1</td>\n",
       "    </tr>\n",
       "    <tr>\n",
       "      <th>4</th>\n",
       "      <td>13.24</td>\n",
       "      <td>2.59</td>\n",
       "      <td>2.87</td>\n",
       "      <td>21.0</td>\n",
       "      <td>118</td>\n",
       "      <td>2.80</td>\n",
       "      <td>2.69</td>\n",
       "      <td>0.39</td>\n",
       "      <td>1.82</td>\n",
       "      <td>4.32</td>\n",
       "      <td>1.04</td>\n",
       "      <td>2.93</td>\n",
       "      <td>735</td>\n",
       "      <td>1</td>\n",
       "    </tr>\n",
       "  </tbody>\n",
       "</table>\n",
       "</div>"
      ],
      "text/plain": [
       "     abv  malic_acid   ash  alcalinity  magnesium  total_phenols  flavanoids  \\\n",
       "0  14.23        1.71  2.43        15.6        127           2.80        3.06   \n",
       "1  13.20        1.78  2.14        11.2        100           2.65        2.76   \n",
       "2  13.16        2.36  2.67        18.6        101           2.80        3.24   \n",
       "3  14.37        1.95  2.50        16.8        113           3.85        3.49   \n",
       "4  13.24        2.59  2.87        21.0        118           2.80        2.69   \n",
       "\n",
       "   nonflavanoid_phenols  proanthocyacins  color   hue  dilution  proline  \\\n",
       "0                  0.28             2.29   5.64  1.04      3.92     1065   \n",
       "1                  0.26             1.28   4.38  1.05      3.40     1050   \n",
       "2                  0.30             2.81   5.68  1.03      3.17     1185   \n",
       "3                  0.24             2.18   7.80  0.86      3.45     1480   \n",
       "4                  0.39             1.82   4.32  1.04      2.93      735   \n",
       "\n",
       "   wine_type  \n",
       "0          1  \n",
       "1          1  \n",
       "2          1  \n",
       "3          1  \n",
       "4          1  "
      ]
     },
     "execution_count": 2,
     "metadata": {},
     "output_type": "execute_result"
    }
   ],
   "source": [
    "df = pd.read_csv('data/wine.csv')\n",
    "df.head()"
   ]
  },
  {
   "cell_type": "markdown",
   "metadata": {},
   "source": [
    "## Regression Analysis\n",
    "In statistical modeling, regression analysis is a statistical process for estimating the relationships among variables. It includes many techniques for modeling and analyzing several variables, when the focus is on the relationship between a dependent variable and one or more independent variables (or 'predictors'). More specifically, regression analysis helps one understand how the typical value of the dependent variable (or 'criterion variable') changes when any one of the independent variables is varied, while the other independent variables are held fixed. Most commonly, regression analysis estimates the conditional expectation of the dependent variable given the independent variables – that is, the average value of the dependent variable when the independent variables are fixed.\n",
    "\n",
    "\n",
    "### Linear Regression\n",
    "In statistics, linear regression is an approach for modeling the relationship between a scalar dependent variable y and one or more explanatory variables (or independent variables) denoted X. The case of one explanatory variable is called simple linear regression. For more than one explanatory variable, the process is called multiple linear regression. (This term is distinct from multivariate linear regression, where multiple correlated dependent variables are predicted, rather than a single scalar variable.)\n",
    "\n",
    "In linear regression, the relationships are modeled using linear predictor functions whose unknown model parameters are estimated from the data. Such models are called linear models."
   ]
  },
  {
   "cell_type": "code",
   "execution_count": 3,
   "metadata": {},
   "outputs": [
    {
     "data": {
      "image/png": "[encoded data removed]",
      "text/plain": [
       "<matplotlib.figure.Figure at 0x10368b4e0>"
      ]
     },
     "metadata": {},
     "output_type": "display_data"
    }
   ],
   "source": [
    "def fitty(x,y,degree):\n",
    "    # calculate polynomial\n",
    "    z = np.polyfit(x, y, degree)\n",
    "    f = np.poly1d(z)\n",
    "\n",
    "    # calculate new x's and y's\n",
    "    x_new = np.linspace(x.min(), x.max(), 100)\n",
    "    y_new = f(x_new)\n",
    "    \n",
    "    return x_new, y_new\n",
    "\n",
    "\n",
    "plt.scatter(df['proline'], df['magnesium'])\n",
    "\n",
    "reg_line = fitty(df['proline'], df['magnesium'], 1)\n",
    "plt.plot(reg_line[0], reg_line[1], color='crimson');"
   ]
  },
  {
   "cell_type": "markdown",
   "metadata": {},
   "source": [
    "__Pearson's R Coefficient__\n",
    "\n",
    "Pearson's R is a measure of the linear correlation between two variables X and Y, giving a value between +1 and −1 inclusive, where 1 is total positive correlation, 0 is no correlation, and −1 is total negative correlation. It is widely used in the sciences as a measure of the degree of linear dependence between two variables."
   ]
  },
  {
   "cell_type": "code",
   "execution_count": 4,
   "metadata": {},
   "outputs": [
    {
     "name": "stdout",
     "output_type": "stream",
     "text": [
      "0.393350849383\n"
     ]
    }
   ],
   "source": [
    "r_matrix = np.corrcoef(df['proline'], df['magnesium'])\n",
    "\n",
    "print(r_matrix[0,1])"
   ]
  },
  {
   "cell_type": "markdown",
   "metadata": {},
   "source": [
    "__Guess the Correlation__ \n",
    "\n",
    "Play 5 rounds on http://guessthecorrelation.com"
   ]
  },
  {
   "cell_type": "markdown",
   "metadata": {},
   "source": [
    "## Inferential Statistic\n",
    "---\n",
    "__Statistical inference__ is the process of deducing properties of an underlying distribution by analysis of data. Inferential statistical analysis infers properties about a population: this includes testing hypotheses and deriving estimates. The population is assumed to be larger than the observed data set; in other words, the observed data is assumed to be sampled from a larger population. [[Wikipedia](https://en.wikipedia.org/wiki/Descriptive_statistics)]"
   ]
  },
  {
   "cell_type": "markdown",
   "metadata": {},
   "source": [
    "## T-Test\n",
    "\n",
    "A t-test can be used to determine if two sets of data are significantly different from each other, and is most commonly applied when the test statistic would follow a normal distribution if the value of a scaling term (the larger the scale parameter, the more spread out the distribution) in the test statistic were known."
   ]
  },
  {
   "cell_type": "markdown",
   "metadata": {},
   "source": [
    "### One sample T-Test\n",
    "\n",
    "Testing the null hypothesis that the population mean is equal to a specified value $\\mu_0$."
   ]
  },
  {
   "cell_type": "code",
   "execution_count": 7,
   "metadata": {},
   "outputs": [
    {
     "data": {
      "text/plain": [
       "0.0022714484241723857"
      ]
     },
     "execution_count": 7,
     "metadata": {},
     "output_type": "execute_result"
    }
   ],
   "source": [
    "one_sample = stats.ttest_1samp(df['proline'], 820.)\n",
    "one_sample[1]"
   ]
  },
  {
   "cell_type": "markdown",
   "metadata": {},
   "source": [
    "### Two sample T-Test\n",
    "\n",
    "Testing the null hypothesis that the population mean of population 1 is equal to the population mean of population 2."
   ]
  },
  {
   "cell_type": "code",
   "execution_count": 8,
   "metadata": {},
   "outputs": [
    {
     "name": "stdout",
     "output_type": "stream",
     "text": [
      "59\n",
      "71\n",
      "48\n"
     ]
    }
   ],
   "source": [
    "t1 = df['proline'][df['wine_type'] == 1]\n",
    "t2 = df['proline'][df['wine_type'] == 2]\n",
    "t3 = df['proline'][df['wine_type'] == 3]\n",
    "\n",
    "print(len(t1))\n",
    "print(len(t2))\n",
    "print(len(t3))"
   ]
  },
  {
   "cell_type": "code",
   "execution_count": 9,
   "metadata": {},
   "outputs": [
    {
     "name": "stdout",
     "output_type": "stream",
     "text": [
      "Normally distributed. P value: 0.727678808281\n",
      "Not normally distributed. P value: 0.00811698116446\n",
      "Normally distributed. P value: 0.515800866447\n"
     ]
    }
   ],
   "source": [
    "for t in [t1,t2,t3]:\n",
    "    z, p_val = stats.normaltest(t)\n",
    "\n",
    "    if p_val < 0.11:\n",
    "        print('Not normally distributed. P value:', p_val)\n",
    "    else:\n",
    "        print('Normally distributed. P value:', p_val)"
   ]
  },
  {
   "cell_type": "code",
   "execution_count": 10,
   "metadata": {},
   "outputs": [
    {
     "name": "stdout",
     "output_type": "stream",
     "text": [
      "Unequal mean: 1115.71186441 629.895833333\n",
      "Unequal variance: 49071.4500292 13247.329344\n"
     ]
    }
   ],
   "source": [
    "if t1.mean() == t3.mean():\n",
    "    print('Equal mean:', t1.mean())\n",
    "else:\n",
    "    print('Unequal mean:', t1.mean(), t3.mean())\n",
    "    \n",
    "if t1.var() == t3.var():\n",
    "    print('Equal variance:', t1.var())\n",
    "else:\n",
    "    print('Unequal variance:', t1.var(), t3.var())"
   ]
  },
  {
   "cell_type": "code",
   "execution_count": 11,
   "metadata": {},
   "outputs": [
    {
     "name": "stdout",
     "output_type": "stream",
     "text": [
      "two sample results: 3.17149992033e-25\n",
      "two sample results with differing variances: 1.60525601712e-25\n"
     ]
    }
   ],
   "source": [
    "two_sample = stats.ttest_ind(t1, t3)\n",
    "print('two sample results:', two_sample[1])\n",
    "\n",
    "# assuming unequal population variances\n",
    "two_sample_diff_var = stats.ttest_ind(t1, t3, equal_var=False)\n",
    "print('two sample results with differing variances:', two_sample_diff_var[1])"
   ]
  },
  {
   "cell_type": "markdown",
   "metadata": {},
   "source": [
    "### Paired T-Test\n",
    "\n",
    "The test is used when the samples are dependent; that is, when there is only one sample that has been tested twice (repeated measures) or when there are two samples that have been matched or \"paired\"."
   ]
  },
  {
   "cell_type": "code",
   "execution_count": 12,
   "metadata": {},
   "outputs": [
    {
     "name": "stdout",
     "output_type": "stream",
     "text": [
      "paired T-test result: 0.00632665085593\n"
     ]
    }
   ],
   "source": [
    "baseline = [67.2, 67.4, 71.5, 77.6, 86.0, 89.1, 59.5, 81.9, 105.5]\n",
    "follow_up = [62.4, 64.6, 70.4, 62.6, 80.1, 73.2, 58.2, 71.0, 101.0]\n",
    "\n",
    "paired_sample = stats.ttest_rel(baseline, follow_up)\n",
    "print('paired T-test result:', paired_sample[1])"
   ]
  },
  {
   "cell_type": "markdown",
   "metadata": {},
   "source": [
    "__Mann-Whitney-Wilcoxon Rank Sum Test__\n",
    "\n",
    "Mann-Whitney $U$ test is a nonparametric test of the null hypothesis that two samples come from the same population against an alternative hypothesis, especially that a particular population tends to have larger values than the other.\n",
    "\n",
    "Unlike the T-Test it does not require the assumption of normal distributions. It is nearly as efficient as the T-Test on normal distributions."
   ]
  },
  {
   "cell_type": "code",
   "execution_count": 16,
   "metadata": {},
   "outputs": [
    {
     "name": "stdout",
     "output_type": "stream",
     "text": [
      "1.53420329556e-21\n"
     ]
    }
   ],
   "source": [
    "z_stat, p_val = stats.ranksums(t1, t2) \n",
    "\n",
    "print(p_val)"
   ]
  },
  {
   "cell_type": "code",
   "execution_count": 17,
   "metadata": {},
   "outputs": [
    {
     "name": "stdout",
     "output_type": "stream",
     "text": [
      "1.52917183906e-17\n"
     ]
    }
   ],
   "source": [
    "z_stat, p_val = stats.ranksums(t1, t3) \n",
    "\n",
    "print(p_val)"
   ]
  },
  {
   "cell_type": "code",
   "execution_count": 18,
   "metadata": {},
   "outputs": [
    {
     "name": "stdout",
     "output_type": "stream",
     "text": [
      "1.36283763887e-05\n"
     ]
    }
   ],
   "source": [
    "z_stat, p_val = stats.ranksums(t2, t3) \n",
    "\n",
    "print(p_val)"
   ]
  },
  {
   "cell_type": "markdown",
   "metadata": {},
   "source": [
    "### ANOVA\n",
    "\n",
    "Analysis of variance (ANOVA) is a collection of statistical models used to analyze the differences among group means and their associated procedures (such as \"variation\" among and between groups). In the ANOVA setting, the observed variance in a particular variable is partitioned into components attributable to different sources of variation. In its simplest form, ANOVA provides a statistical test of whether or not the means of several groups are equal, and therefore generalizes the t-test to more than two groups. ANOVAs are useful for comparing (testing) three or more means (groups or variables) for statistical significance. It is conceptually similar to multiple two-sample t-tests, but is less conservative (results in less type I error) and is therefore suited to a wide range of practical problems."
   ]
  },
  {
   "cell_type": "code",
   "execution_count": 26,
   "metadata": {},
   "outputs": [
    {
     "name": "stdout",
     "output_type": "stream",
     "text": [
      "One-way ANOVA P = 207.920373902 5.78316835611e-47\n"
     ]
    }
   ],
   "source": [
    "f_val, p_val = stats.f_oneway(df['proline'][df['wine_type'] == 1],\n",
    "                              df['proline'][df['wine_type'] == 2],\n",
    "                              df['proline'][df['wine_type'] == 3])\n",
    "\n",
    "print(\"One-way ANOVA P =\", f_val, p_val)"
   ]
  }
 ],
 "metadata": {
  "anaconda-cloud": {},
  "kernelspec": {
   "display_name": "Python 3",
   "language": "python",
   "name": "python3"
  },
  "language_info": {
   "codemirror_mode": {
    "name": "ipython",
    "version": 3
   },
   "file_extension": ".py",
   "mimetype": "text/x-python",
   "name": "python",
   "nbconvert_exporter": "python",
   "pygments_lexer": "ipython3",
   "version": "3.6.4"
  }
 },
 "nbformat": 4,
 "nbformat_minor": 1
}
