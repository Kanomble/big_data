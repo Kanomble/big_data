{
 "cells": [
  {
   "cell_type": "code",
   "execution_count": 1,
   "id": "c538967c",
   "metadata": {},
   "outputs": [],
   "source": [
    "my_list = [1,2,3,4,5]"
   ]
  },
  {
   "cell_type": "code",
   "execution_count": 2,
   "id": "7f373809",
   "metadata": {},
   "outputs": [
    {
     "data": {
      "text/plain": [
       "15"
      ]
     },
     "execution_count": 2,
     "metadata": {},
     "output_type": "execute_result"
    }
   ],
   "source": [
    "sum(my_list)"
   ]
  },
  {
   "cell_type": "code",
   "execution_count": 10,
   "id": "3cfd20a6",
   "metadata": {},
   "outputs": [
    {
     "name": "stdout",
     "output_type": "stream",
     "text": [
      "*\n",
      "**\n",
      "***\n",
      "****\n",
      "*****\n",
      "****\n",
      "***\n",
      "**\n",
      "*\n"
     ]
    }
   ],
   "source": [
    "n = 5\n",
    "for i in range(-n+1,n):\n",
    "    print(\"*\" * (n-abs(i)))    "
   ]
  },
  {
   "cell_type": "code",
   "execution_count": 15,
   "id": "b7400fe5",
   "metadata": {},
   "outputs": [
    {
     "name": "stdout",
     "output_type": "stream",
     "text": [
      "*\n",
      "**\n",
      "***\n",
      "****\n",
      "*****\n",
      "*****\n",
      "*****\n",
      "****\n",
      "***\n",
      "**\n",
      "*\n"
     ]
    }
   ],
   "source": [
    "sterne=\"\"\n",
    "switch=True\n",
    "for i in range(0,10,1):\n",
    "    if len(sterne)<=4 and switch==True:\n",
    "        sterne+=\"*\"\n",
    "    elif len(sterne)==5 and switch==True and (sache1 or sache2):\n",
    "        print(sterne)\n",
    "        \n",
    "        switch=False\n",
    "    else:\n",
    "        sterne=sterne[:len(sterne)-1]\n",
    "        switch=False\n",
    "    print(sterne)    "
   ]
  },
  {
   "cell_type": "code",
   "execution_count": 16,
   "id": "aa12c144",
   "metadata": {},
   "outputs": [
    {
     "name": "stdout",
     "output_type": "stream",
     "text": [
      "*\n",
      "**\n",
      "***\n",
      "****\n",
      "***\n",
      "**\n",
      "*\n"
     ]
    }
   ],
   "source": [
    "star = \"\"\n",
    "for i in range(0,8):\n",
    "    if i < 4:\n",
    "        star += \"*\"\n",
    "        print(star)\n",
    "    if i > 4:\n",
    "        star = star[:len(star)-1]\n",
    "        print(star)"
   ]
  },
  {
   "cell_type": "code",
   "execution_count": 19,
   "id": "0bf4b893",
   "metadata": {},
   "outputs": [],
   "source": [
    "import numpy as np\n",
    "\n",
    "arr = np.random.randint(0,10,100)"
   ]
  },
  {
   "cell_type": "code",
   "execution_count": 20,
   "id": "f03da036",
   "metadata": {},
   "outputs": [
    {
     "data": {
      "text/plain": [
       "array([5, 9, 2, 1, 0, 2, 4, 2, 9, 5, 8, 6, 4, 9, 0, 6, 8, 1, 6, 4, 1, 2,\n",
       "       7, 6, 6, 9, 7, 4, 9, 8, 2, 0, 8, 5, 8, 3, 9, 3, 8, 2, 2, 2, 1, 8,\n",
       "       5, 7, 5, 5, 8, 5, 9, 6, 4, 4, 0, 4, 4, 2, 6, 6, 4, 8, 6, 5, 6, 7,\n",
       "       1, 5, 5, 0, 8, 2, 7, 8, 1, 3, 2, 3, 4, 7, 2, 6, 5, 3, 1, 2, 5, 2,\n",
       "       6, 0, 8, 6, 4, 6, 7, 8, 7, 8, 1, 0])"
      ]
     },
     "execution_count": 20,
     "metadata": {},
     "output_type": "execute_result"
    }
   ],
   "source": [
    "my_arr"
   ]
  },
  {
   "cell_type": "code",
   "execution_count": 21,
   "id": "970dd120",
   "metadata": {},
   "outputs": [
    {
     "data": {
      "text/plain": [
       "numpy.ndarray"
      ]
     },
     "execution_count": 21,
     "metadata": {},
     "output_type": "execute_result"
    }
   ],
   "source": [
    "type(my_arr)"
   ]
  },
  {
   "cell_type": "code",
   "execution_count": 34,
   "id": "84fa9df7",
   "metadata": {},
   "outputs": [],
   "source": [
    "def odd_and_even(arr:np.ndarray)->tuple:\n",
    "    odd, even = 0, 0\n",
    "    for i in arr:\n",
    "        if i%2 == 0: \n",
    "            even+=1\n",
    "        else: \n",
    "            odd+=1\n",
    "    return odd, even"
   ]
  },
  {
   "cell_type": "code",
   "execution_count": 35,
   "id": "9fb86a4a",
   "metadata": {},
   "outputs": [
    {
     "data": {
      "text/plain": [
       "(40, 60)"
      ]
     },
     "execution_count": 35,
     "metadata": {},
     "output_type": "execute_result"
    }
   ],
   "source": [
    "odd_and_even(my_arr)"
   ]
  },
  {
   "cell_type": "code",
   "execution_count": 54,
   "id": "b711c903",
   "metadata": {},
   "outputs": [],
   "source": [
    "'''fibonacci\n",
    "    \n",
    "    This function returns a sequence of fibonacci numbers of size n.\n",
    "    \n",
    "    :param n\n",
    "        :type int\n",
    "        \n",
    "    :return fib\n",
    "        :type list\n",
    "\n",
    "'''\n",
    "def fibonacci(n:int)->list:\n",
    "    if n == 0:\n",
    "        return 0\n",
    "    elif n == 1:\n",
    "        return [0]\n",
    "    elif n == 2:\n",
    "        return [0,1]\n",
    "    else:\n",
    "        fib = [0,1]\n",
    "        for i in range(2,n):\n",
    "            fib.append(fib[i-2]+fib[i-1])\n",
    "    return fib"
   ]
  },
  {
   "cell_type": "code",
   "execution_count": 55,
   "id": "ecc0cff3",
   "metadata": {},
   "outputs": [
    {
     "data": {
      "text/plain": [
       "[0, 1, 1, 2]"
      ]
     },
     "execution_count": 55,
     "metadata": {},
     "output_type": "execute_result"
    }
   ],
   "source": [
    "fibonacci(4)"
   ]
  },
  {
   "cell_type": "code",
   "execution_count": 52,
   "id": "d9ce9bcf",
   "metadata": {},
   "outputs": [],
   "source": [
    "def fibonacci2(x):\n",
    "    fseq=[0,1]\n",
    "    for i in range(3,x+1):\n",
    "        fseq.append((fseq[i-3]+fseq[i-2]))\n",
    "    return fseq        "
   ]
  },
  {
   "cell_type": "code",
   "execution_count": 53,
   "id": "1b074438",
   "metadata": {},
   "outputs": [
    {
     "data": {
      "text/plain": [
       "[0, 1, 1, 2]"
      ]
     },
     "execution_count": 53,
     "metadata": {},
     "output_type": "execute_result"
    }
   ],
   "source": [
    "fibonacci2(4)"
   ]
  },
  {
   "cell_type": "code",
   "execution_count": 56,
   "id": "173df4ad",
   "metadata": {},
   "outputs": [],
   "source": [
    "#°F = °C * 9 / 5 + 32\n",
    "fahrenheit = lambda c: c*9/5+32"
   ]
  },
  {
   "cell_type": "code",
   "execution_count": 57,
   "id": "3890c29a",
   "metadata": {},
   "outputs": [
    {
     "data": {
      "text/plain": [
       "68.0"
      ]
     },
     "execution_count": 57,
     "metadata": {},
     "output_type": "execute_result"
    }
   ],
   "source": [
    "fahrenheit(20)"
   ]
  },
  {
   "cell_type": "code",
   "execution_count": 58,
   "id": "48234fe6",
   "metadata": {},
   "outputs": [],
   "source": [
    "add = lambda x,y:x+y"
   ]
  },
  {
   "cell_type": "code",
   "execution_count": 59,
   "id": "4fba69d4",
   "metadata": {},
   "outputs": [
    {
     "data": {
      "text/plain": [
       "10"
      ]
     },
     "execution_count": 59,
     "metadata": {},
     "output_type": "execute_result"
    }
   ],
   "source": [
    "add(5,5)"
   ]
  },
  {
   "cell_type": "code",
   "execution_count": 63,
   "id": "20b17b00",
   "metadata": {},
   "outputs": [],
   "source": [
    "#recursive fibonacci\n",
    "def rec_fibonacci(n):\n",
    "    if n in [0,1]:\n",
    "        return n\n",
    "    else:\n",
    "        return rec_fibonacci(n-2) + rec_fibonacci(n-1)"
   ]
  },
  {
   "cell_type": "code",
   "execution_count": 64,
   "id": "766d139a",
   "metadata": {},
   "outputs": [
    {
     "data": {
      "text/plain": [
       "3"
      ]
     },
     "execution_count": 64,
     "metadata": {},
     "output_type": "execute_result"
    }
   ],
   "source": [
    "rec_fibonacci(4)"
   ]
  },
  {
   "cell_type": "code",
   "execution_count": 60,
   "id": "a2a87bd7",
   "metadata": {},
   "outputs": [],
   "source": [
    "def p_num(n):\n",
    "    print(n)\n",
    "    if n == 0:\n",
    "        return\n",
    "    return p_num(n-1)"
   ]
  },
  {
   "cell_type": "code",
   "execution_count": 61,
   "id": "8c1b6212",
   "metadata": {},
   "outputs": [
    {
     "name": "stdout",
     "output_type": "stream",
     "text": [
      "10\n",
      "9\n",
      "8\n",
      "7\n",
      "6\n",
      "5\n",
      "4\n",
      "3\n",
      "2\n",
      "1\n",
      "0\n"
     ]
    }
   ],
   "source": [
    "p_num(10)"
   ]
  },
  {
   "cell_type": "code",
   "execution_count": 65,
   "id": "6b54e961",
   "metadata": {},
   "outputs": [],
   "source": [
    "my_list = [9,7,4,2,8,12,13,1]\n",
    "\n",
    "def sort_my_list(arr:list)->list:\n",
    "    for i in arr:\n",
    "        \n",
    "    return arr/my_sorted_list"
   ]
  },
  {
   "cell_type": "code",
   "execution_count": 68,
   "id": "d12eb42a",
   "metadata": {},
   "outputs": [
    {
     "name": "stdout",
     "output_type": "stream",
     "text": [
      "8\n",
      "7\n",
      "6\n",
      "5\n",
      "4\n",
      "3\n",
      "2\n",
      "1\n"
     ]
    }
   ],
   "source": [
    "for i in range(8,0,-1):\n",
    "    print(i)"
   ]
  },
  {
   "cell_type": "code",
   "execution_count": 69,
   "id": "0fe44edd",
   "metadata": {},
   "outputs": [],
   "source": [
    "import math"
   ]
  },
  {
   "cell_type": "code",
   "execution_count": 72,
   "id": "7ab625c3",
   "metadata": {},
   "outputs": [
    {
     "data": {
      "text/plain": [
       "120"
      ]
     },
     "execution_count": 72,
     "metadata": {},
     "output_type": "execute_result"
    }
   ],
   "source": [
    "# n * n - 1 * n - 2 ....\n",
    "math.factorial(5)"
   ]
  },
  {
   "cell_type": "code",
   "execution_count": 1,
   "id": "45f5d14c",
   "metadata": {},
   "outputs": [],
   "source": [
    "import numpy as np\n",
    "randoms=np.random.randint(0,100,200)"
   ]
  },
  {
   "cell_type": "code",
   "execution_count": 2,
   "id": "cf3027f0",
   "metadata": {},
   "outputs": [
    {
     "data": {
      "text/plain": [
       "array([90, 40, 97, 93, 22,  9, 42, 28, 83, 56, 97, 64, 51, 86, 30,  0, 75,\n",
       "       22,  6, 61, 42, 64, 26,  8, 47, 35, 32, 47, 16,  5, 28, 47, 46, 73,\n",
       "       85, 55, 89, 48, 92, 79, 90, 50, 13, 70,  8, 23, 27, 67, 56, 47,  6,\n",
       "       10, 89, 78, 67, 39,  1, 86, 73, 37, 85, 84, 73, 65, 27, 29,  0, 22,\n",
       "        1,  7, 66, 12, 40, 24, 56, 57, 82, 40, 65, 10, 12, 92, 52, 46, 86,\n",
       "       10, 27, 80, 38,  6, 33, 62, 54, 85, 86, 34, 51, 31, 63, 14, 14, 64,\n",
       "       67, 57, 60,  4, 53, 12, 86, 94, 93, 89, 68, 62, 68, 79, 40, 40, 57,\n",
       "       68, 48, 60,  9, 76, 90, 57, 19, 56, 26, 21, 55, 74, 83, 59,  3, 32,\n",
       "       49, 58, 85, 13, 39, 72, 83, 85, 48,  2, 71, 23, 17,  3, 21, 74, 20,\n",
       "        1,  8, 56, 84, 93, 95, 34, 72, 28, 99, 83, 42, 85, 66, 35, 86, 63,\n",
       "       71, 63, 76, 31, 76, 86, 84,  9, 78, 92, 13, 30, 97, 78, 99, 94, 82,\n",
       "       49,  1, 80, 91, 62, 84, 81, 87, 65, 83, 24, 32, 71])"
      ]
     },
     "execution_count": 2,
     "metadata": {},
     "output_type": "execute_result"
    }
   ],
   "source": [
    "90"
   ]
  }
 ],
 "metadata": {
  "kernelspec": {
   "display_name": "Python 3",
   "language": "python",
   "name": "python3"
  },
  "language_info": {
   "codemirror_mode": {
    "name": "ipython",
    "version": 3
   },
   "file_extension": ".py",
   "mimetype": "text/x-python",
   "name": "python",
   "nbconvert_exporter": "python",
   "pygments_lexer": "ipython3",
   "version": "3.8.12"
  }
 },
 "nbformat": 4,
 "nbformat_minor": 5
}
