{
 "cells": [
  {
   "cell_type": "code",
   "execution_count": null,
   "id": "0114bd24",
   "metadata": {},
   "outputs": [],
   "source": [
    "import numpy as np\n",
    "import pandas as pd\n",
    "import matplotlib.pyplot as plt\n",
    "import os"
   ]
  },
  {
   "cell_type": "code",
   "execution_count": null,
   "id": "c9677777",
   "metadata": {},
   "outputs": [],
   "source": [
    "numbers = np.random.randint(1,10,10000)"
   ]
  },
  {
   "cell_type": "code",
   "execution_count": null,
   "id": "dbe89450",
   "metadata": {},
   "outputs": [],
   "source": [
    "def compute_reciprocals(values:list)->list:\n",
    "    reciprocal_values=[]\n",
    "    for number in values:\n",
    "        reciprocal_values.append(round(1/number,3))\n",
    "    return reciprocal_values"
   ]
  },
  {
   "cell_type": "code",
   "execution_count": null,
   "id": "feac4849",
   "metadata": {},
   "outputs": [],
   "source": [
    "%timeit compute_reciprocals(numbers)"
   ]
  },
  {
   "cell_type": "code",
   "execution_count": null,
   "id": "cfe3f650",
   "metadata": {},
   "outputs": [],
   "source": [
    "%timeit 1/numbers"
   ]
  },
  {
   "cell_type": "code",
   "execution_count": null,
   "id": "8dfd848c",
   "metadata": {},
   "outputs": [],
   "source": [
    "#np.linspace(1,100,num=50)"
   ]
  },
  {
   "cell_type": "code",
   "execution_count": null,
   "id": "5912c27b",
   "metadata": {},
   "outputs": [],
   "source": [
    "np.arange(1,6)"
   ]
  },
  {
   "cell_type": "code",
   "execution_count": null,
   "id": "8ca1279d",
   "metadata": {},
   "outputs": [],
   "source": [
    "mat = np.arange(1,7).reshape(2,3)"
   ]
  },
  {
   "cell_type": "code",
   "execution_count": null,
   "id": "f76c9ba1",
   "metadata": {},
   "outputs": [],
   "source": [
    "mat2 = np.arange(1,4)"
   ]
  },
  {
   "cell_type": "code",
   "execution_count": null,
   "id": "83b58ddc",
   "metadata": {},
   "outputs": [],
   "source": [
    "mat2"
   ]
  },
  {
   "cell_type": "code",
   "execution_count": null,
   "id": "0eeafb17",
   "metadata": {},
   "outputs": [],
   "source": [
    "mat"
   ]
  },
  {
   "cell_type": "code",
   "execution_count": null,
   "id": "075a7156",
   "metadata": {},
   "outputs": [],
   "source": [
    "mat * mat2"
   ]
  },
  {
   "cell_type": "code",
   "execution_count": null,
   "id": "77455ce8",
   "metadata": {},
   "outputs": [],
   "source": [
    "os.listdir()"
   ]
  },
  {
   "cell_type": "code",
   "execution_count": null,
   "id": "b171a875",
   "metadata": {},
   "outputs": [],
   "source": [
    "os.getcwd()"
   ]
  },
  {
   "cell_type": "code",
   "execution_count": null,
   "id": "7f99e70c",
   "metadata": {},
   "outputs": [],
   "source": [
    "datapath = \"../data/sequences/blastp_output.tab\"\n",
    "header = 'qaccver saccver pident length mismatch gapopen qstart qend sstart send evalue bitscore'.split(' ')\n",
    "blast_out=pd.read_table(datapath,names=header,delimiter='\\t')"
   ]
  },
  {
   "cell_type": "code",
   "execution_count": null,
   "id": "8ad48570",
   "metadata": {},
   "outputs": [],
   "source": [
    "type(blast_out)"
   ]
  },
  {
   "cell_type": "code",
   "execution_count": null,
   "id": "a2ee7387",
   "metadata": {},
   "outputs": [],
   "source": [
    "blast_out"
   ]
  }
 ],
 "metadata": {
  "kernelspec": {
   "display_name": "Python 3",
   "language": "python",
   "name": "python3"
  },
  "language_info": {
   "codemirror_mode": {
    "name": "ipython",
    "version": 3
   },
   "file_extension": ".py",
   "mimetype": "text/x-python",
   "name": "python",
   "nbconvert_exporter": "python",
   "pygments_lexer": "ipython3",
   "version": "3.8.12"
  }
 },
 "nbformat": 4,
 "nbformat_minor": 5
}
