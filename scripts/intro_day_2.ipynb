{
 "cells": [
  {
   "cell_type": "code",
   "execution_count": null,
   "id": "fb03a619",
   "metadata": {},
   "outputs": [],
   "source": [
    "#strings\n",
    "string=\"abc\"\n",
    "#integer\n",
    "integer=10\n",
    "#float\n",
    "fl=10.2\n",
    "#bool\n",
    "t=True\n",
    "f=False"
   ]
  },
  {
   "cell_type": "code",
   "execution_count": null,
   "id": "dea2c7ce",
   "metadata": {},
   "outputs": [],
   "source": [
    "#lists\n",
    "l=[1,2,3]\n",
    "#dicts\n",
    "d={'key':'value'}"
   ]
  },
  {
   "cell_type": "code",
   "execution_count": null,
   "id": "89117e33",
   "metadata": {},
   "outputs": [],
   "source": [
    "string=\"hello world!\"\n",
    "my_list=[]"
   ]
  },
  {
   "cell_type": "code",
   "execution_count": null,
   "id": "36f4e870",
   "metadata": {},
   "outputs": [],
   "source": [
    "#['h','e','l',...]"
   ]
  },
  {
   "cell_type": "code",
   "execution_count": null,
   "id": "4dc0e98f",
   "metadata": {},
   "outputs": [],
   "source": [
    "for x in string:\n",
    "    my_list.append(x)\n",
    "#my_list"
   ]
  },
  {
   "cell_type": "code",
   "execution_count": null,
   "id": "33a7d72a",
   "metadata": {},
   "outputs": [],
   "source": [
    "my_list[0]"
   ]
  },
  {
   "cell_type": "code",
   "execution_count": null,
   "id": "a76a4b90",
   "metadata": {},
   "outputs": [],
   "source": [
    "temp = my_list[0]"
   ]
  },
  {
   "cell_type": "code",
   "execution_count": null,
   "id": "f7db81a5",
   "metadata": {},
   "outputs": [],
   "source": [
    "my_list[0] = my_list[len(my_list)-1]\n",
    "my_list[len(my_list)-1] = temp"
   ]
  },
  {
   "cell_type": "code",
   "execution_count": null,
   "id": "1ac01871",
   "metadata": {},
   "outputs": [],
   "source": [
    "my_list"
   ]
  },
  {
   "cell_type": "code",
   "execution_count": null,
   "id": "2ee1be9f",
   "metadata": {},
   "outputs": [],
   "source": [
    "x = 6\n",
    "y = 11\n",
    "my_list[x:y]"
   ]
  },
  {
   "cell_type": "code",
   "execution_count": null,
   "id": "cbbae20a",
   "metadata": {},
   "outputs": [],
   "source": [
    "string[6:11]"
   ]
  },
  {
   "cell_type": "code",
   "execution_count": null,
   "id": "fa659051",
   "metadata": {},
   "outputs": [],
   "source": [
    "len(my_list)"
   ]
  },
  {
   "cell_type": "code",
   "execution_count": null,
   "id": "57aebf8e",
   "metadata": {},
   "outputs": [],
   "source": [
    "var_1 = int(len(my_list)/2)"
   ]
  },
  {
   "cell_type": "code",
   "execution_count": null,
   "id": "21638e2a",
   "metadata": {},
   "outputs": [],
   "source": [
    "var_1"
   ]
  },
  {
   "cell_type": "code",
   "execution_count": null,
   "id": "534d592b",
   "metadata": {},
   "outputs": [],
   "source": [
    "for x in range(0,int(len(my_list)/2),1):\n",
    "    temp = my_list[x]\n",
    "    my_list[x] = my_list[len(my_list)-x-1]\n",
    "    my_list[len(my_list)-x-1] = temp\n",
    "    print(len(my_list)-x-1,x)"
   ]
  },
  {
   "cell_type": "code",
   "execution_count": null,
   "id": "a4563961",
   "metadata": {},
   "outputs": [],
   "source": [
    "''.join(my_list)"
   ]
  },
  {
   "cell_type": "code",
   "execution_count": null,
   "id": "50f0c88c",
   "metadata": {},
   "outputs": [],
   "source": [
    "new_string  = ''\n",
    "for element in my_list:\n",
    "    if element == ' ':\n",
    "        element = '_'\n",
    "    new_string = new_string + element\n",
    "    print(new_string)"
   ]
  },
  {
   "cell_type": "code",
   "execution_count": null,
   "id": "f98447cf",
   "metadata": {},
   "outputs": [],
   "source": [
    "string"
   ]
  },
  {
   "cell_type": "code",
   "execution_count": null,
   "id": "2e0e1903",
   "metadata": {},
   "outputs": [],
   "source": [
    "my_list = [1,2,3,4,5,6,7,8,9,10]\n",
    "#[2,1,4,3,6,5,8,7,10,9]"
   ]
  },
  {
   "cell_type": "code",
   "execution_count": null,
   "id": "fe445176",
   "metadata": {},
   "outputs": [],
   "source": [
    "new_list=[]\n",
    "for x in range(2,len(my_list)+2,2):\n",
    "    #print(x, x-1)\n",
    "    new_list.append(x)\n",
    "    new_list.append(x-1)\n",
    "new_list"
   ]
  },
  {
   "cell_type": "code",
   "execution_count": null,
   "id": "2aef91c9",
   "metadata": {},
   "outputs": [],
   "source": [
    "my_list = [1,2,3,4,5,6,7,8,9,10]\n",
    "for x in range(0,len(my_list),2):\n",
    "    print(\"[*] Index\",x,x+1)\n",
    "    print(\"[*] SWAP: {} to {} AND {} to {}\".format(my_list[x],my_list[x+1],my_list[x+1],my_list[x]))\n",
    "    temp = my_list[x]\n",
    "    my_list[x] = my_list[x+1]\n",
    "    my_list[x+1] = temp"
   ]
  },
  {
   "cell_type": "code",
   "execution_count": null,
   "id": "c40ec059",
   "metadata": {},
   "outputs": [],
   "source": [
    "my_list"
   ]
  },
  {
   "cell_type": "code",
   "execution_count": null,
   "id": "f4d7344a",
   "metadata": {},
   "outputs": [],
   "source": [
    "new_list=[]\n",
    "for x in range(2,len(my_list)+2,2):\n",
    "    y = x-1\n",
    "    new_list.append(x)\n",
    "    new_list.append(y)\n",
    "print(new_list)"
   ]
  },
  {
   "cell_type": "code",
   "execution_count": null,
   "id": "58ccd7bb",
   "metadata": {},
   "outputs": [],
   "source": [
    "my_list.insert(1,'bananae')"
   ]
  },
  {
   "cell_type": "code",
   "execution_count": null,
   "id": "0c897e4f",
   "metadata": {},
   "outputs": [],
   "source": [
    "number = [2, 1, 4,['0.5','0.313124',{'sinnvoll':'131.523','sinnlos':'hubert'}]]\n",
    "fruits = ['banane','apfel','mango']"
   ]
  },
  {
   "cell_type": "code",
   "execution_count": null,
   "id": "e7f98118",
   "metadata": {},
   "outputs": [],
   "source": [
    "my_list = [number,fruits]"
   ]
  },
  {
   "cell_type": "code",
   "execution_count": null,
   "id": "b288c22d",
   "metadata": {},
   "outputs": [],
   "source": [
    "my_list[0][3][2]['sinnlos']"
   ]
  },
  {
   "cell_type": "code",
   "execution_count": null,
   "id": "864009ca",
   "metadata": {},
   "outputs": [],
   "source": [
    "from Bio import Entrez\n",
    "Entrez.email = 'lukas.becker@hhu.de'\n",
    "record = Entrez.esearch(db='protein',term='GyrA AND Synechococcus')\n",
    "handle = Entrez.read(record)\n",
    "record.close()"
   ]
  },
  {
   "cell_type": "code",
   "execution_count": null,
   "id": "340dbfe8",
   "metadata": {},
   "outputs": [],
   "source": [
    "handle['TranslationSet'][0]['To']"
   ]
  },
  {
   "cell_type": "code",
   "execution_count": null,
   "id": "bd80a8aa",
   "metadata": {},
   "outputs": [],
   "source": [
    "for item in handle['TranslationSet'][0].items():\n",
    "    if item[1] == '\"Synechococcus\"[Organism] OR Synechococcus[All Fields]':\n",
    "        print(item[0])"
   ]
  },
  {
   "cell_type": "code",
   "execution_count": null,
   "id": "c1bd5c74",
   "metadata": {},
   "outputs": [],
   "source": [
    "my_dict={'banane':2,'apfel':4,'kiwi':5,'mango':12,'melone':2}\n",
    "einkaufsliste=['melone','mango']\n",
    "for i in einkaufsliste:\n",
    "    if my_dict[i] > 0:\n",
    "        my_dict[i] = my_dict[i] - 1\n",
    "        print(i,my_dict[i])\n",
    "my_dict"
   ]
  }
 ],
 "metadata": {
  "kernelspec": {
   "display_name": "Python 3",
   "language": "python",
   "name": "python3"
  },
  "language_info": {
   "codemirror_mode": {
    "name": "ipython",
    "version": 3
   },
   "file_extension": ".py",
   "mimetype": "text/x-python",
   "name": "python",
   "nbconvert_exporter": "python",
   "pygments_lexer": "ipython3",
   "version": "3.8.12"
  }
 },
 "nbformat": 4,
 "nbformat_minor": 5
}
