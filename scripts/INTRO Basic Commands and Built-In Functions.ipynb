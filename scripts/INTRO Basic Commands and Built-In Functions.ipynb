{
 "cells": [
  {
   "cell_type": "markdown",
   "id": "455a320f",
   "metadata": {},
   "source": [
    "# Intro: Jupyter Notebook and Python Basics\n",
    "\n",
    "During this course we will use the jupyter notebook programming interface for python3. The jupyter notebook works with cells. You can put as many code as you wish in one cell. Each cell can get executed on it's own. This text is also embedded in a special cell and the code that I'm using here is called `markdown`. In combination with `HTML` and `CSS`, `markdown` can produce very nice text sections within your code. If your cursor is inside a cell, the edgecolor of the cell will be green and you can edit and write your code, if you are 'outside' the edit section or if you have executed a cell, the edge of the cell will appear in lightblue. If you klick on a cell and you are outside the edit mode you can generate new cells by pressing the `a` or `b` button, which will generate new cells above or below the current cell. If you are in the edit mode and would like to create a new cell, simply press `ESC`. You can delete cells by klicking on a cell and pressing the delete button on your keyboard. You can find a description of those options and other option in the navigation bar on top of this interface. Inside a cell (edit mode), press `ctrl` + `enter` to execute your written code inside the cell.\n",
    "\n",
    "## Basic Commands and Built-In Functions\n",
    "\n",
    "There are several built-in functions that are shipped with the python programming language. For example you can use the function `len(variable)` to examine the length of a variable. These functions are very fast and if there is a built-in function for your purpose available, use it!"
   ]
  },
  {
   "cell_type": "markdown",
   "id": "b2f19601",
   "metadata": {},
   "source": [
    "# Variable Assignment\n",
    "\n",
    "In this section we will introduce variables, basic data types and simple built-in functions.\n",
    "\n",
    "## Basic Data Types and Variables\n",
    "In python there are three basic data types, the `str` or string type, the `int` or integer type and the `float` or floating number type. Strings are text based data types, they can get converted to integer. Integer represent basic numbers (natural and whole numbers). Floats represent all other numbers, except complex numbers, which have an own data type `complex`. With the `=` sign you can assign a certain value of one data type to a variable. The value can now be adressed by refering to the variable name. E.g. `a = 'C'` assigns the character 'C', which is `str` data type to the variable 'a', now 'a' stores the value 'C'. Variable names are very important. The variable name from above example \"a\" is not a nice name for a variable as it explains nothing about the content. Imagine you write 100 lines of code and you use just one character variable names (a,b,c ...). Half a year later you need to come back to your written code and you try to examine what it does. Impossible with such a bad variable naming scheme. \n",
    "\n",
    "> 💡 **NOTE:** *If you assign values to variables it is important to stick to one naming scheme*\n",
    "\n",
    "If you write code you can access variables (and with that the content that they hold) by using the variable name."
   ]
  },
  {
   "cell_type": "code",
   "execution_count": 1,
   "id": "a599c6c4",
   "metadata": {},
   "outputs": [
    {
     "data": {
      "text/plain": [
       "str"
      ]
     },
     "execution_count": 1,
     "metadata": {},
     "output_type": "execute_result"
    }
   ],
   "source": [
    "a = 'C'\n",
    "type(a)"
   ]
  },
  {
   "cell_type": "code",
   "execution_count": 2,
   "id": "2ca70ee4",
   "metadata": {},
   "outputs": [
    {
     "data": {
      "text/plain": [
       "int"
      ]
     },
     "execution_count": 2,
     "metadata": {},
     "output_type": "execute_result"
    }
   ],
   "source": [
    "b = 12\n",
    "type(b)"
   ]
  },
  {
   "cell_type": "code",
   "execution_count": 3,
   "id": "c69a05ef",
   "metadata": {},
   "outputs": [
    {
     "data": {
      "text/plain": [
       "float"
      ]
     },
     "execution_count": 3,
     "metadata": {},
     "output_type": "execute_result"
    }
   ],
   "source": [
    "c = 5.765\n",
    "type(c)"
   ]
  },
  {
   "cell_type": "markdown",
   "id": "c29b211a",
   "metadata": {},
   "source": [
    "## Basic Operations\n",
    "\n",
    "Python offers a lot of basic operations on datatypes."
   ]
  },
  {
   "cell_type": "code",
   "execution_count": 4,
   "id": "fe6beb73",
   "metadata": {},
   "outputs": [
    {
     "data": {
      "text/plain": [
       "'CC'"
      ]
     },
     "execution_count": 4,
     "metadata": {},
     "output_type": "execute_result"
    }
   ],
   "source": [
    "a + a"
   ]
  },
  {
   "cell_type": "code",
   "execution_count": 5,
   "id": "313039b6",
   "metadata": {},
   "outputs": [
    {
     "data": {
      "text/plain": [
       "'CCCCCCCCCCCC'"
      ]
     },
     "execution_count": 5,
     "metadata": {},
     "output_type": "execute_result"
    }
   ],
   "source": [
    "b * a"
   ]
  },
  {
   "cell_type": "code",
   "execution_count": 6,
   "id": "d7d20fb2",
   "metadata": {},
   "outputs": [
    {
     "data": {
      "text/plain": [
       "'Cxxxxxxxxxxxx'"
      ]
     },
     "execution_count": 6,
     "metadata": {},
     "output_type": "execute_result"
    }
   ],
   "source": [
    "a + 12 * 'x'"
   ]
  },
  {
   "cell_type": "markdown",
   "id": "b73531fb",
   "metadata": {},
   "source": [
    "## Boolean Operations\n",
    "\n",
    "> **Note:** TRUE or FALSE"
   ]
  },
  {
   "cell_type": "code",
   "execution_count": 7,
   "id": "c06179f7",
   "metadata": {},
   "outputs": [
    {
     "data": {
      "text/plain": [
       "True"
      ]
     },
     "execution_count": 7,
     "metadata": {},
     "output_type": "execute_result"
    }
   ],
   "source": [
    "12 == 12"
   ]
  },
  {
   "cell_type": "code",
   "execution_count": 8,
   "id": "da64b0f6",
   "metadata": {},
   "outputs": [
    {
     "data": {
      "text/plain": [
       "False"
      ]
     },
     "execution_count": 8,
     "metadata": {},
     "output_type": "execute_result"
    }
   ],
   "source": [
    "12 == 13"
   ]
  },
  {
   "cell_type": "code",
   "execution_count": 9,
   "id": "eae9f1ee",
   "metadata": {},
   "outputs": [
    {
     "data": {
      "text/plain": [
       "True"
      ]
     },
     "execution_count": 9,
     "metadata": {},
     "output_type": "execute_result"
    }
   ],
   "source": [
    "12 != 13"
   ]
  },
  {
   "cell_type": "code",
   "execution_count": 10,
   "id": "988c0c64",
   "metadata": {},
   "outputs": [
    {
     "data": {
      "text/plain": [
       "False"
      ]
     },
     "execution_count": 10,
     "metadata": {},
     "output_type": "execute_result"
    }
   ],
   "source": [
    "12 != 12"
   ]
  },
  {
   "cell_type": "markdown",
   "id": "c5143540",
   "metadata": {},
   "source": [
    "## Calculations with Python: Basic Arithmetic Operations"
   ]
  },
  {
   "cell_type": "code",
   "execution_count": 11,
   "id": "8432f8e2",
   "metadata": {
    "scrolled": true
   },
   "outputs": [
    {
     "data": {
      "text/plain": [
       "24"
      ]
     },
     "execution_count": 11,
     "metadata": {},
     "output_type": "execute_result"
    }
   ],
   "source": [
    "#addition\n",
    "b + b "
   ]
  },
  {
   "cell_type": "code",
   "execution_count": 12,
   "id": "4b54f8df",
   "metadata": {},
   "outputs": [
    {
     "data": {
      "text/plain": [
       "10"
      ]
     },
     "execution_count": 12,
     "metadata": {},
     "output_type": "execute_result"
    }
   ],
   "source": [
    "#subtraction\n",
    "b - 2"
   ]
  },
  {
   "cell_type": "code",
   "execution_count": 13,
   "id": "d797b2d0",
   "metadata": {},
   "outputs": [
    {
     "data": {
      "text/plain": [
       "6.235"
      ]
     },
     "execution_count": 13,
     "metadata": {},
     "output_type": "execute_result"
    }
   ],
   "source": [
    "b - c"
   ]
  },
  {
   "cell_type": "code",
   "execution_count": 14,
   "id": "98438eb0",
   "metadata": {},
   "outputs": [
    {
     "data": {
      "text/plain": [
       "24"
      ]
     },
     "execution_count": 14,
     "metadata": {},
     "output_type": "execute_result"
    }
   ],
   "source": [
    "#multiplication\n",
    "b * 2"
   ]
  },
  {
   "cell_type": "code",
   "execution_count": 15,
   "id": "e9d177e0",
   "metadata": {},
   "outputs": [
    {
     "data": {
      "text/plain": [
       "1.0"
      ]
     },
     "execution_count": 15,
     "metadata": {},
     "output_type": "execute_result"
    }
   ],
   "source": [
    "#division\n",
    "b / b"
   ]
  },
  {
   "cell_type": "code",
   "execution_count": 16,
   "id": "3bc821b7",
   "metadata": {},
   "outputs": [
    {
     "data": {
      "text/plain": [
       "2.0"
      ]
     },
     "execution_count": 16,
     "metadata": {},
     "output_type": "execute_result"
    }
   ],
   "source": [
    "#combined\n",
    "(b/b) * 2"
   ]
  },
  {
   "cell_type": "code",
   "execution_count": 17,
   "id": "271954ff",
   "metadata": {},
   "outputs": [
    {
     "data": {
      "text/plain": [
       "4.0"
      ]
     },
     "execution_count": 17,
     "metadata": {},
     "output_type": "execute_result"
    }
   ],
   "source": [
    "((b/b)*2)**2"
   ]
  },
  {
   "cell_type": "code",
   "execution_count": 18,
   "id": "9e397796",
   "metadata": {},
   "outputs": [
    {
     "data": {
      "text/plain": [
       "0.25"
      ]
     },
     "execution_count": 18,
     "metadata": {},
     "output_type": "execute_result"
    }
   ],
   "source": [
    "(b/(b*2))**2"
   ]
  },
  {
   "cell_type": "markdown",
   "id": "630aff9c",
   "metadata": {},
   "source": [
    "## Datastructures\n",
    "\n",
    "There are several built-in structures that can be used for holding variables and data. In the following sections I might use the word `class` for referring to those data structures (e.g. the `list class`). Python data structures are normally wrapped in `class` objects, that define functions and variables for those data structures. Those functions or variables can get adressed with the dot notation. We will examine some of these important functions during this course.\n",
    "\n",
    "> 💡 **_NOTE:_**  *You can view all functions/variables for your current data structure/variable that are accessible with the dot notation with the `dir(variable)` function*\n",
    "\n",
    "\n",
    "### Lists and Tuples\n",
    "\n",
    "Together with the `dictionary` class, the `list`, `set` and `tuple` classes are essential python data structures. In general, lists can store sequences of different data types. E.g. a list can contain several `str` and `int` variables or even a sequence of other `list` objects (lists within lists).\n",
    "\n",
    "The `list` data type can get invoked with `[]`. Lists are iterable, which allows looping over the items within the list object. In addition lists are indexed, each element of the list has a specific index. Python begins to count with 0, the first element of the list has the index 0, you can access list elements by using squared brackets and the index number: `my_list[0]` will return the first element of the list, `my_list[3]` will return the fourth element of the list!"
   ]
  },
  {
   "cell_type": "code",
   "execution_count": 19,
   "id": "c2881485",
   "metadata": {},
   "outputs": [
    {
     "data": {
      "text/plain": [
       "list"
      ]
     },
     "execution_count": 19,
     "metadata": {},
     "output_type": "execute_result"
    }
   ],
   "source": [
    "my_list = [1,2,3,4,5]\n",
    "type(my_list)"
   ]
  },
  {
   "cell_type": "code",
   "execution_count": 20,
   "id": "598a5ae5",
   "metadata": {},
   "outputs": [
    {
     "data": {
      "text/plain": [
       "3"
      ]
     },
     "execution_count": 20,
     "metadata": {},
     "output_type": "execute_result"
    }
   ],
   "source": [
    "my_list[2]"
   ]
  },
  {
   "cell_type": "markdown",
   "id": "51beda11",
   "metadata": {},
   "source": [
    "> **Note:** Lists can store different data types. You can fill lists by using variable names."
   ]
  },
  {
   "cell_type": "code",
   "execution_count": 21,
   "id": "a72ba26e",
   "metadata": {},
   "outputs": [
    {
     "data": {
      "text/plain": [
       "[\"I'm a variable\", \"I'm also a variable\", 1002, True]"
      ]
     },
     "execution_count": 21,
     "metadata": {},
     "output_type": "execute_result"
    }
   ],
   "source": [
    "list_variable_1 = \"I'm a variable\"\n",
    "list_variable_2 = \"I'm also a variable\"\n",
    "list_variable_3 = 1002\n",
    "list_variable_4 = True\n",
    "my_list = [list_variable_1,list_variable_2,list_variable_3,list_variable_4]\n",
    "my_list"
   ]
  },
  {
   "cell_type": "markdown",
   "id": "70fcf901",
   "metadata": {},
   "source": [
    "> **Note:** Elements within lists can get directly adressed by using square brackets and the relevant index number"
   ]
  },
  {
   "cell_type": "code",
   "execution_count": 22,
   "id": "1a58fffb",
   "metadata": {},
   "outputs": [
    {
     "data": {
      "text/plain": [
       "True"
      ]
     },
     "execution_count": 22,
     "metadata": {},
     "output_type": "execute_result"
    }
   ],
   "source": [
    "my_list = [1,2,3,4,5]\n",
    "my_list[2] + my_list[3] == 7"
   ]
  },
  {
   "cell_type": "markdown",
   "id": "54d37455",
   "metadata": {},
   "source": [
    "## Built-In Data Types\n",
    "    \n",
    "|Data Structure Name|Purpose|\n",
    "|-------------------|-------------------|\n",
    "|Text Type:| `str` |\n",
    "|Numeric Types:| `int`,`float`,`complex`|\n",
    "|Sequence Types:| `list`,`tuple`,`range` |\n",
    "|Mapping Type:|`dict`|\n",
    "|Set Types:|`set`,`frozenset`|\n",
    "|Boolean Type:| `bool`|\n",
    "|Binary Types| `bytes`,`bytearray`, `memoryview`|\n",
    "\n",
    "### Useful Links:\n",
    "- [Datatypes Examples](https://www.w3schools.com/python/python_datatypes.asp)"
   ]
  }
 ],
 "metadata": {
  "kernelspec": {
   "display_name": "Python 3",
   "language": "python",
   "name": "python3"
  },
  "language_info": {
   "codemirror_mode": {
    "name": "ipython",
    "version": 3
   },
   "file_extension": ".py",
   "mimetype": "text/x-python",
   "name": "python",
   "nbconvert_exporter": "python",
   "pygments_lexer": "ipython3",
   "version": "3.8.12"
  }
 },
 "nbformat": 4,
 "nbformat_minor": 5
}
